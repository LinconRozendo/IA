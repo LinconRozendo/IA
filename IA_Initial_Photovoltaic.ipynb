{
 "cells": [
  {
   "cell_type": "markdown",
   "metadata": {},
   "source": [
    "# Aprendizado de IA (Inteligência Artificial)"
   ]
  },
  {
   "cell_type": "markdown",
   "metadata": {},
   "source": [
    "\n",
    "#### Este Jupyter Notebook tem a finalidade de servir como ferramenta pedagógica para o aprendizado de Inteligência Artificial."
   ]
  },
  {
   "cell_type": "markdown",
   "metadata": {},
   "source": [
    "# --------------------------------------------------------------------------"
   ]
  },
  {
   "cell_type": "markdown",
   "metadata": {},
   "source": [
    "### Nível 1 - Atividade 1\n",
    "##### ● Criar perfis diários sobre a geração fotovoltaica utilizando como variável principal a POTÊNCIA (W);\n",
    "##### ● Gerar previsão inicial com RNA (Redes Neurais Artificiais);\n",
    "##### ● Aplicar essa previsão inicial na técnica Monte Carlo Dropout;\n",
    "##### ● Analisar o que foi obtido dessas atividades."
   ]
  },
  {
   "cell_type": "markdown",
   "metadata": {},
   "source": [
    "# --------------------------------------------------------------------------"
   ]
  },
  {
   "cell_type": "markdown",
   "metadata": {},
   "source": [
    "#### Criando perfis diários para dados climáticos"
   ]
  },
  {
   "cell_type": "code",
   "execution_count": 19,
   "metadata": {},
   "outputs": [],
   "source": [
    "## Importando as bibliotecas necessárias\n",
    "\n",
    "import pandas as pd\n",
    "import numpy as np\n",
    "import matplotlib.pyplot as plt\n",
    "import plotly.graph_objects as go\n",
    "from plotly.subplots import make_subplots\n",
    "import plotly.express as px\n",
    "#import seaborn as sns\n",
    "from datetime import datetime\n",
    "import warnings\n",
    "warnings.filterwarnings(\"ignore\")"
   ]
  },
  {
   "cell_type": "code",
   "execution_count": 20,
   "metadata": {},
   "outputs": [
    {
     "data": {
      "text/html": [
       "<div>\n",
       "<style scoped>\n",
       "    .dataframe tbody tr th:only-of-type {\n",
       "        vertical-align: middle;\n",
       "    }\n",
       "\n",
       "    .dataframe tbody tr th {\n",
       "        vertical-align: top;\n",
       "    }\n",
       "\n",
       "    .dataframe thead th {\n",
       "        text-align: right;\n",
       "    }\n",
       "</style>\n",
       "<table border=\"1\" class=\"dataframe\">\n",
       "  <thead>\n",
       "    <tr style=\"text-align: right;\">\n",
       "      <th></th>\n",
       "      <th>kt</th>\n",
       "      <th>Irradiância Global Horizontal a Céu Claro(kWh/m²)</th>\n",
       "      <th>Irradiância Global Horizontal para Qualquer Céu (kWh/m^2)</th>\n",
       "      <th>Temperatura a 2 metros (°C)</th>\n",
       "      <th>Umidade Relativa a 2 metros (%)</th>\n",
       "    </tr>\n",
       "    <tr>\n",
       "      <th>Date</th>\n",
       "      <th></th>\n",
       "      <th></th>\n",
       "      <th></th>\n",
       "      <th></th>\n",
       "      <th></th>\n",
       "    </tr>\n",
       "  </thead>\n",
       "  <tbody>\n",
       "    <tr>\n",
       "      <th>2018-08-01 00:00:00</th>\n",
       "      <td>0.00</td>\n",
       "      <td>0.00</td>\n",
       "      <td>0.00</td>\n",
       "      <td>24.53</td>\n",
       "      <td>71.69</td>\n",
       "    </tr>\n",
       "    <tr>\n",
       "      <th>2018-08-01 01:00:00</th>\n",
       "      <td>0.00</td>\n",
       "      <td>0.00</td>\n",
       "      <td>0.00</td>\n",
       "      <td>24.13</td>\n",
       "      <td>73.38</td>\n",
       "    </tr>\n",
       "    <tr>\n",
       "      <th>2018-08-01 02:00:00</th>\n",
       "      <td>0.00</td>\n",
       "      <td>0.00</td>\n",
       "      <td>0.00</td>\n",
       "      <td>23.84</td>\n",
       "      <td>74.44</td>\n",
       "    </tr>\n",
       "    <tr>\n",
       "      <th>2018-08-01 03:00:00</th>\n",
       "      <td>0.00</td>\n",
       "      <td>0.00</td>\n",
       "      <td>0.00</td>\n",
       "      <td>23.64</td>\n",
       "      <td>75.12</td>\n",
       "    </tr>\n",
       "    <tr>\n",
       "      <th>2018-08-01 04:00:00</th>\n",
       "      <td>0.00</td>\n",
       "      <td>0.00</td>\n",
       "      <td>0.00</td>\n",
       "      <td>23.49</td>\n",
       "      <td>75.56</td>\n",
       "    </tr>\n",
       "    <tr>\n",
       "      <th>...</th>\n",
       "      <td>...</td>\n",
       "      <td>...</td>\n",
       "      <td>...</td>\n",
       "      <td>...</td>\n",
       "      <td>...</td>\n",
       "    </tr>\n",
       "    <tr>\n",
       "      <th>2021-02-24 13:00:00</th>\n",
       "      <td>0.61</td>\n",
       "      <td>999.90</td>\n",
       "      <td>825.93</td>\n",
       "      <td>32.61</td>\n",
       "      <td>45.44</td>\n",
       "    </tr>\n",
       "    <tr>\n",
       "      <th>2021-02-24 14:00:00</th>\n",
       "      <td>0.61</td>\n",
       "      <td>896.90</td>\n",
       "      <td>759.57</td>\n",
       "      <td>32.76</td>\n",
       "      <td>44.19</td>\n",
       "    </tr>\n",
       "    <tr>\n",
       "      <th>2021-02-24 15:00:00</th>\n",
       "      <td>0.56</td>\n",
       "      <td>724.05</td>\n",
       "      <td>580.98</td>\n",
       "      <td>32.55</td>\n",
       "      <td>44.25</td>\n",
       "    </tr>\n",
       "    <tr>\n",
       "      <th>2021-02-24 16:00:00</th>\n",
       "      <td>0.50</td>\n",
       "      <td>496.20</td>\n",
       "      <td>388.01</td>\n",
       "      <td>32.06</td>\n",
       "      <td>45.69</td>\n",
       "    </tr>\n",
       "    <tr>\n",
       "      <th>2021-02-24 17:00:00</th>\n",
       "      <td>0.42</td>\n",
       "      <td>243.00</td>\n",
       "      <td>190.92</td>\n",
       "      <td>30.92</td>\n",
       "      <td>52.62</td>\n",
       "    </tr>\n",
       "  </tbody>\n",
       "</table>\n",
       "<p>22530 rows × 5 columns</p>\n",
       "</div>"
      ],
      "text/plain": [
       "                       kt  Irradiância Global Horizontal a Céu Claro(kWh/m²)  \\\n",
       "Date                                                                           \n",
       "2018-08-01 00:00:00  0.00                                               0.00   \n",
       "2018-08-01 01:00:00  0.00                                               0.00   \n",
       "2018-08-01 02:00:00  0.00                                               0.00   \n",
       "2018-08-01 03:00:00  0.00                                               0.00   \n",
       "2018-08-01 04:00:00  0.00                                               0.00   \n",
       "...                   ...                                                ...   \n",
       "2021-02-24 13:00:00  0.61                                             999.90   \n",
       "2021-02-24 14:00:00  0.61                                             896.90   \n",
       "2021-02-24 15:00:00  0.56                                             724.05   \n",
       "2021-02-24 16:00:00  0.50                                             496.20   \n",
       "2021-02-24 17:00:00  0.42                                             243.00   \n",
       "\n",
       "                     Irradiância Global Horizontal para Qualquer Céu (kWh/m^2)  \\\n",
       "Date                                                                             \n",
       "2018-08-01 00:00:00                                               0.00           \n",
       "2018-08-01 01:00:00                                               0.00           \n",
       "2018-08-01 02:00:00                                               0.00           \n",
       "2018-08-01 03:00:00                                               0.00           \n",
       "2018-08-01 04:00:00                                               0.00           \n",
       "...                                                                ...           \n",
       "2021-02-24 13:00:00                                             825.93           \n",
       "2021-02-24 14:00:00                                             759.57           \n",
       "2021-02-24 15:00:00                                             580.98           \n",
       "2021-02-24 16:00:00                                             388.01           \n",
       "2021-02-24 17:00:00                                             190.92           \n",
       "\n",
       "                     Temperatura a 2 metros (°C)  \\\n",
       "Date                                               \n",
       "2018-08-01 00:00:00                        24.53   \n",
       "2018-08-01 01:00:00                        24.13   \n",
       "2018-08-01 02:00:00                        23.84   \n",
       "2018-08-01 03:00:00                        23.64   \n",
       "2018-08-01 04:00:00                        23.49   \n",
       "...                                          ...   \n",
       "2021-02-24 13:00:00                        32.61   \n",
       "2021-02-24 14:00:00                        32.76   \n",
       "2021-02-24 15:00:00                        32.55   \n",
       "2021-02-24 16:00:00                        32.06   \n",
       "2021-02-24 17:00:00                        30.92   \n",
       "\n",
       "                     Umidade Relativa a 2 metros (%)  \n",
       "Date                                                  \n",
       "2018-08-01 00:00:00                            71.69  \n",
       "2018-08-01 01:00:00                            73.38  \n",
       "2018-08-01 02:00:00                            74.44  \n",
       "2018-08-01 03:00:00                            75.12  \n",
       "2018-08-01 04:00:00                            75.56  \n",
       "...                                              ...  \n",
       "2021-02-24 13:00:00                            45.44  \n",
       "2021-02-24 14:00:00                            44.19  \n",
       "2021-02-24 15:00:00                            44.25  \n",
       "2021-02-24 16:00:00                            45.69  \n",
       "2021-02-24 17:00:00                            52.62  \n",
       "\n",
       "[22530 rows x 5 columns]"
      ]
     },
     "execution_count": 20,
     "metadata": {},
     "output_type": "execute_result"
    }
   ],
   "source": [
    "## Tratando os dados horários da NASA\n",
    "\n",
    "data_hourly = pd.read_csv('Database/dados_clima_2018_2021.csv', sep=',',header=0)\n",
    "\n",
    "data_hourly['Date'] = data_hourly[['DY', 'MO', 'YEAR', 'HR']].apply(lambda x : datetime(year=x[2],month=x[1],day=x[0],hour=x[3]), axis=1)\n",
    "data_hourly.drop(['DY', 'MO', 'YEAR', 'HR', 'SZA', 'PRECTOTCORR', 'WS10M', 'WD10M'], axis=1, inplace=True)\n",
    "\n",
    "data_hourly.set_index('Date', inplace=True)\n",
    "data_hourly.replace(-999, 0, inplace=True)\n",
    "\n",
    "data_hourly.rename(columns={'ALLSKY_KT':  'kt',\n",
    "                   'T2M': 'Temperatura a 2 metros (°C)',\n",
    "                   'RH2M': 'Umidade Relativa a 2 metros (%)',\n",
    "                   'CLRSKY_SFC_SW_DWN': 'Irradiância Global Horizontal a Céu Claro(kWh/m²)',\n",
    "                   'ALLSKY_SFC_SW_DWN': 'Irradiância Global Horizontal para Qualquer Céu (kWh/m^2)'}, inplace=True)\n",
    "\n",
    "data_hourly.drop(data_hourly.index[22530:22536], axis=0, inplace=True)\n",
    "data_hourly\n"
   ]
  },
  {
   "cell_type": "code",
   "execution_count": 21,
   "metadata": {},
   "outputs": [
    {
     "data": {
      "application/vnd.plotly.v1+json": {
       "config": {
        "plotlyServerURL": "https://plot.ly"
       },
       "data": [
        {
         "mode": "markers+lines",
         "name": "Energia por hora",
         "type": "scatter",
         "x": [
          "2018-08-01T00:00:00",
          "2018-08-01T01:00:00",
          "2018-08-01T02:00:00",
          "2018-08-01T03:00:00",
          "2018-08-01T04:00:00",
          "2018-08-01T05:00:00",
          "2018-08-01T06:00:00",
          "2018-08-01T07:00:00",
          "2018-08-01T08:00:00",
          "2018-08-01T09:00:00",
          "2018-08-01T10:00:00",
          "2018-08-01T11:00:00",
          "2018-08-01T12:00:00",
          "2018-08-01T13:00:00",
          "2018-08-01T14:00:00",
          "2018-08-01T15:00:00",
          "2018-08-01T16:00:00",
          "2018-08-01T17:00:00",
          "2018-08-01T18:00:00",
          "2018-08-01T19:00:00",
          "2018-08-01T20:00:00",
          "2018-08-01T21:00:00",
          "2018-08-01T22:00:00",
          "2018-08-01T23:00:00"
         ],
         "y": [
          0,
          0,
          0,
          0,
          0,
          0,
          5.65,
          146.65,
          386.45,
          615.55,
          798.77,
          917.27,
          983,
          944.08,
          830.12,
          650.73,
          422.6,
          176.67,
          9.98,
          0,
          0,
          0,
          0,
          0
         ]
        }
       ],
       "layout": {
        "colorway": [
         "#FF0000",
         "#00FF7F",
         "#006400",
         "#000080",
         "#B22222",
         "#00BFFF"
        ],
        "font": {
         "color": "black",
         "family": "Rockwell",
         "size": 16
        },
        "hovermode": "x unified",
        "images": [
         {
          "sizex": 0.2,
          "sizey": 0.2,
          "source": "https://raw.githubusercontent.com/LinconRozendo/Imagens_u/master/Multi%20Mapa/cear.png",
          "x": 1.05,
          "xanchor": "right",
          "xref": "paper",
          "y": 1.1,
          "yanchor": "bottom",
          "yref": "paper"
         }
        ],
        "legend": {
         "orientation": "h",
         "title": {
          "text": ""
         },
         "x": 0.05,
         "y": -0.25
        },
        "template": {
         "data": {
          "bar": [
           {
            "error_x": {
             "color": "#2a3f5f"
            },
            "error_y": {
             "color": "#2a3f5f"
            },
            "marker": {
             "line": {
              "color": "white",
              "width": 0.5
             },
             "pattern": {
              "fillmode": "overlay",
              "size": 10,
              "solidity": 0.2
             }
            },
            "type": "bar"
           }
          ],
          "barpolar": [
           {
            "marker": {
             "line": {
              "color": "white",
              "width": 0.5
             },
             "pattern": {
              "fillmode": "overlay",
              "size": 10,
              "solidity": 0.2
             }
            },
            "type": "barpolar"
           }
          ],
          "carpet": [
           {
            "aaxis": {
             "endlinecolor": "#2a3f5f",
             "gridcolor": "#C8D4E3",
             "linecolor": "#C8D4E3",
             "minorgridcolor": "#C8D4E3",
             "startlinecolor": "#2a3f5f"
            },
            "baxis": {
             "endlinecolor": "#2a3f5f",
             "gridcolor": "#C8D4E3",
             "linecolor": "#C8D4E3",
             "minorgridcolor": "#C8D4E3",
             "startlinecolor": "#2a3f5f"
            },
            "type": "carpet"
           }
          ],
          "choropleth": [
           {
            "colorbar": {
             "outlinewidth": 0,
             "ticks": ""
            },
            "type": "choropleth"
           }
          ],
          "contour": [
           {
            "colorbar": {
             "outlinewidth": 0,
             "ticks": ""
            },
            "colorscale": [
             [
              0,
              "#0d0887"
             ],
             [
              0.1111111111111111,
              "#46039f"
             ],
             [
              0.2222222222222222,
              "#7201a8"
             ],
             [
              0.3333333333333333,
              "#9c179e"
             ],
             [
              0.4444444444444444,
              "#bd3786"
             ],
             [
              0.5555555555555556,
              "#d8576b"
             ],
             [
              0.6666666666666666,
              "#ed7953"
             ],
             [
              0.7777777777777778,
              "#fb9f3a"
             ],
             [
              0.8888888888888888,
              "#fdca26"
             ],
             [
              1,
              "#f0f921"
             ]
            ],
            "type": "contour"
           }
          ],
          "contourcarpet": [
           {
            "colorbar": {
             "outlinewidth": 0,
             "ticks": ""
            },
            "type": "contourcarpet"
           }
          ],
          "heatmap": [
           {
            "colorbar": {
             "outlinewidth": 0,
             "ticks": ""
            },
            "colorscale": [
             [
              0,
              "#0d0887"
             ],
             [
              0.1111111111111111,
              "#46039f"
             ],
             [
              0.2222222222222222,
              "#7201a8"
             ],
             [
              0.3333333333333333,
              "#9c179e"
             ],
             [
              0.4444444444444444,
              "#bd3786"
             ],
             [
              0.5555555555555556,
              "#d8576b"
             ],
             [
              0.6666666666666666,
              "#ed7953"
             ],
             [
              0.7777777777777778,
              "#fb9f3a"
             ],
             [
              0.8888888888888888,
              "#fdca26"
             ],
             [
              1,
              "#f0f921"
             ]
            ],
            "type": "heatmap"
           }
          ],
          "heatmapgl": [
           {
            "colorbar": {
             "outlinewidth": 0,
             "ticks": ""
            },
            "colorscale": [
             [
              0,
              "#0d0887"
             ],
             [
              0.1111111111111111,
              "#46039f"
             ],
             [
              0.2222222222222222,
              "#7201a8"
             ],
             [
              0.3333333333333333,
              "#9c179e"
             ],
             [
              0.4444444444444444,
              "#bd3786"
             ],
             [
              0.5555555555555556,
              "#d8576b"
             ],
             [
              0.6666666666666666,
              "#ed7953"
             ],
             [
              0.7777777777777778,
              "#fb9f3a"
             ],
             [
              0.8888888888888888,
              "#fdca26"
             ],
             [
              1,
              "#f0f921"
             ]
            ],
            "type": "heatmapgl"
           }
          ],
          "histogram": [
           {
            "marker": {
             "pattern": {
              "fillmode": "overlay",
              "size": 10,
              "solidity": 0.2
             }
            },
            "type": "histogram"
           }
          ],
          "histogram2d": [
           {
            "colorbar": {
             "outlinewidth": 0,
             "ticks": ""
            },
            "colorscale": [
             [
              0,
              "#0d0887"
             ],
             [
              0.1111111111111111,
              "#46039f"
             ],
             [
              0.2222222222222222,
              "#7201a8"
             ],
             [
              0.3333333333333333,
              "#9c179e"
             ],
             [
              0.4444444444444444,
              "#bd3786"
             ],
             [
              0.5555555555555556,
              "#d8576b"
             ],
             [
              0.6666666666666666,
              "#ed7953"
             ],
             [
              0.7777777777777778,
              "#fb9f3a"
             ],
             [
              0.8888888888888888,
              "#fdca26"
             ],
             [
              1,
              "#f0f921"
             ]
            ],
            "type": "histogram2d"
           }
          ],
          "histogram2dcontour": [
           {
            "colorbar": {
             "outlinewidth": 0,
             "ticks": ""
            },
            "colorscale": [
             [
              0,
              "#0d0887"
             ],
             [
              0.1111111111111111,
              "#46039f"
             ],
             [
              0.2222222222222222,
              "#7201a8"
             ],
             [
              0.3333333333333333,
              "#9c179e"
             ],
             [
              0.4444444444444444,
              "#bd3786"
             ],
             [
              0.5555555555555556,
              "#d8576b"
             ],
             [
              0.6666666666666666,
              "#ed7953"
             ],
             [
              0.7777777777777778,
              "#fb9f3a"
             ],
             [
              0.8888888888888888,
              "#fdca26"
             ],
             [
              1,
              "#f0f921"
             ]
            ],
            "type": "histogram2dcontour"
           }
          ],
          "mesh3d": [
           {
            "colorbar": {
             "outlinewidth": 0,
             "ticks": ""
            },
            "type": "mesh3d"
           }
          ],
          "parcoords": [
           {
            "line": {
             "colorbar": {
              "outlinewidth": 0,
              "ticks": ""
             }
            },
            "type": "parcoords"
           }
          ],
          "pie": [
           {
            "automargin": true,
            "type": "pie"
           }
          ],
          "scatter": [
           {
            "fillpattern": {
             "fillmode": "overlay",
             "size": 10,
             "solidity": 0.2
            },
            "type": "scatter"
           }
          ],
          "scatter3d": [
           {
            "line": {
             "colorbar": {
              "outlinewidth": 0,
              "ticks": ""
             }
            },
            "marker": {
             "colorbar": {
              "outlinewidth": 0,
              "ticks": ""
             }
            },
            "type": "scatter3d"
           }
          ],
          "scattercarpet": [
           {
            "marker": {
             "colorbar": {
              "outlinewidth": 0,
              "ticks": ""
             }
            },
            "type": "scattercarpet"
           }
          ],
          "scattergeo": [
           {
            "marker": {
             "colorbar": {
              "outlinewidth": 0,
              "ticks": ""
             }
            },
            "type": "scattergeo"
           }
          ],
          "scattergl": [
           {
            "marker": {
             "colorbar": {
              "outlinewidth": 0,
              "ticks": ""
             }
            },
            "type": "scattergl"
           }
          ],
          "scattermapbox": [
           {
            "marker": {
             "colorbar": {
              "outlinewidth": 0,
              "ticks": ""
             }
            },
            "type": "scattermapbox"
           }
          ],
          "scatterpolar": [
           {
            "marker": {
             "colorbar": {
              "outlinewidth": 0,
              "ticks": ""
             }
            },
            "type": "scatterpolar"
           }
          ],
          "scatterpolargl": [
           {
            "marker": {
             "colorbar": {
              "outlinewidth": 0,
              "ticks": ""
             }
            },
            "type": "scatterpolargl"
           }
          ],
          "scatterternary": [
           {
            "marker": {
             "colorbar": {
              "outlinewidth": 0,
              "ticks": ""
             }
            },
            "type": "scatterternary"
           }
          ],
          "surface": [
           {
            "colorbar": {
             "outlinewidth": 0,
             "ticks": ""
            },
            "colorscale": [
             [
              0,
              "#0d0887"
             ],
             [
              0.1111111111111111,
              "#46039f"
             ],
             [
              0.2222222222222222,
              "#7201a8"
             ],
             [
              0.3333333333333333,
              "#9c179e"
             ],
             [
              0.4444444444444444,
              "#bd3786"
             ],
             [
              0.5555555555555556,
              "#d8576b"
             ],
             [
              0.6666666666666666,
              "#ed7953"
             ],
             [
              0.7777777777777778,
              "#fb9f3a"
             ],
             [
              0.8888888888888888,
              "#fdca26"
             ],
             [
              1,
              "#f0f921"
             ]
            ],
            "type": "surface"
           }
          ],
          "table": [
           {
            "cells": {
             "fill": {
              "color": "#EBF0F8"
             },
             "line": {
              "color": "white"
             }
            },
            "header": {
             "fill": {
              "color": "#C8D4E3"
             },
             "line": {
              "color": "white"
             }
            },
            "type": "table"
           }
          ]
         },
         "layout": {
          "annotationdefaults": {
           "arrowcolor": "#2a3f5f",
           "arrowhead": 0,
           "arrowwidth": 1
          },
          "autotypenumbers": "strict",
          "coloraxis": {
           "colorbar": {
            "outlinewidth": 0,
            "ticks": ""
           }
          },
          "colorscale": {
           "diverging": [
            [
             0,
             "#8e0152"
            ],
            [
             0.1,
             "#c51b7d"
            ],
            [
             0.2,
             "#de77ae"
            ],
            [
             0.3,
             "#f1b6da"
            ],
            [
             0.4,
             "#fde0ef"
            ],
            [
             0.5,
             "#f7f7f7"
            ],
            [
             0.6,
             "#e6f5d0"
            ],
            [
             0.7,
             "#b8e186"
            ],
            [
             0.8,
             "#7fbc41"
            ],
            [
             0.9,
             "#4d9221"
            ],
            [
             1,
             "#276419"
            ]
           ],
           "sequential": [
            [
             0,
             "#0d0887"
            ],
            [
             0.1111111111111111,
             "#46039f"
            ],
            [
             0.2222222222222222,
             "#7201a8"
            ],
            [
             0.3333333333333333,
             "#9c179e"
            ],
            [
             0.4444444444444444,
             "#bd3786"
            ],
            [
             0.5555555555555556,
             "#d8576b"
            ],
            [
             0.6666666666666666,
             "#ed7953"
            ],
            [
             0.7777777777777778,
             "#fb9f3a"
            ],
            [
             0.8888888888888888,
             "#fdca26"
            ],
            [
             1,
             "#f0f921"
            ]
           ],
           "sequentialminus": [
            [
             0,
             "#0d0887"
            ],
            [
             0.1111111111111111,
             "#46039f"
            ],
            [
             0.2222222222222222,
             "#7201a8"
            ],
            [
             0.3333333333333333,
             "#9c179e"
            ],
            [
             0.4444444444444444,
             "#bd3786"
            ],
            [
             0.5555555555555556,
             "#d8576b"
            ],
            [
             0.6666666666666666,
             "#ed7953"
            ],
            [
             0.7777777777777778,
             "#fb9f3a"
            ],
            [
             0.8888888888888888,
             "#fdca26"
            ],
            [
             1,
             "#f0f921"
            ]
           ]
          },
          "colorway": [
           "#636efa",
           "#EF553B",
           "#00cc96",
           "#ab63fa",
           "#FFA15A",
           "#19d3f3",
           "#FF6692",
           "#B6E880",
           "#FF97FF",
           "#FECB52"
          ],
          "font": {
           "color": "#2a3f5f"
          },
          "geo": {
           "bgcolor": "white",
           "lakecolor": "white",
           "landcolor": "white",
           "showlakes": true,
           "showland": true,
           "subunitcolor": "#C8D4E3"
          },
          "hoverlabel": {
           "align": "left"
          },
          "hovermode": "closest",
          "mapbox": {
           "style": "light"
          },
          "paper_bgcolor": "white",
          "plot_bgcolor": "white",
          "polar": {
           "angularaxis": {
            "gridcolor": "#EBF0F8",
            "linecolor": "#EBF0F8",
            "ticks": ""
           },
           "bgcolor": "white",
           "radialaxis": {
            "gridcolor": "#EBF0F8",
            "linecolor": "#EBF0F8",
            "ticks": ""
           }
          },
          "scene": {
           "xaxis": {
            "backgroundcolor": "white",
            "gridcolor": "#DFE8F3",
            "gridwidth": 2,
            "linecolor": "#EBF0F8",
            "showbackground": true,
            "ticks": "",
            "zerolinecolor": "#EBF0F8"
           },
           "yaxis": {
            "backgroundcolor": "white",
            "gridcolor": "#DFE8F3",
            "gridwidth": 2,
            "linecolor": "#EBF0F8",
            "showbackground": true,
            "ticks": "",
            "zerolinecolor": "#EBF0F8"
           },
           "zaxis": {
            "backgroundcolor": "white",
            "gridcolor": "#DFE8F3",
            "gridwidth": 2,
            "linecolor": "#EBF0F8",
            "showbackground": true,
            "ticks": "",
            "zerolinecolor": "#EBF0F8"
           }
          },
          "shapedefaults": {
           "line": {
            "color": "#2a3f5f"
           }
          },
          "ternary": {
           "aaxis": {
            "gridcolor": "#DFE8F3",
            "linecolor": "#A2B1C6",
            "ticks": ""
           },
           "baxis": {
            "gridcolor": "#DFE8F3",
            "linecolor": "#A2B1C6",
            "ticks": ""
           },
           "bgcolor": "white",
           "caxis": {
            "gridcolor": "#DFE8F3",
            "linecolor": "#A2B1C6",
            "ticks": ""
           }
          },
          "title": {
           "x": 0.05
          },
          "xaxis": {
           "automargin": true,
           "gridcolor": "#EBF0F8",
           "linecolor": "#EBF0F8",
           "ticks": "",
           "title": {
            "standoff": 15
           },
           "zerolinecolor": "#EBF0F8",
           "zerolinewidth": 2
          },
          "yaxis": {
           "automargin": true,
           "gridcolor": "#EBF0F8",
           "linecolor": "#EBF0F8",
           "ticks": "",
           "title": {
            "standoff": 15
           },
           "zerolinecolor": "#EBF0F8",
           "zerolinewidth": 2
          }
         }
        },
        "title": {
         "text": "Figura 1 - Irradiância Global Horizontal a Céu Claro(kWh/m²) no dia 22/8/2018",
         "x": 0.5,
         "xanchor": "center",
         "y": 0.93,
         "yanchor": "top"
        },
        "xaxis": {
         "tickformat": "%H:%M",
         "ticksuffix": "",
         "title": {
          "text": "Hora"
         }
        },
        "yaxis": {
         "ticksuffix": " kWh/m²",
         "title": {
          "text": "Irradiância Global"
         }
        }
       }
      }
     },
     "metadata": {},
     "output_type": "display_data"
    }
   ],
   "source": [
    "trace1 = go.Scatter(x = data_hourly.index[0:24], # eixo x = meses da lista 'date\n",
    "                    y = data_hourly['Irradiância Global Horizontal a Céu Claro(kWh/m²)'][504:528], # eixo y = temperatura máxima\n",
    "                    mode = 'markers+lines', # tipo do gráfico: marcadorms em linhas\n",
    "                    name = 'Energia por hora') # legenda do objeto trace: T.MAX_INMET\n",
    "    \n",
    "# cria uma lista com os trace's\n",
    "data = [trace1]\n",
    "\n",
    "# cria um objeto layout para por em um gráfico\n",
    "# objeto layout: informar o que está sendo apresentado no gráfico, no caso abaixo, no eixo y é a 'Temperatura °C'\n",
    "# no eixo x é informado que fica vazio, com o título do gráfico em caixa alta - comando .upper()\n",
    "# alterando as características da fonte e cor de cada trace do gráfico\n",
    "layout = go.Layout(title=\"Teste\",yaxis={'title':'Irradiância Global'},xaxis={'title': 'Hora'}, \n",
    "                    font = {'family': 'Rockwell','size': 16,'color': 'black'},\n",
    "                    colorway = ['#FF0000', '#00FF7F','#006400', '#000080', '#B22222', '#00BFFF'])\n",
    "\n",
    "# cria um gráfico através do objeto figure com os dados da lista com os traces e o layout acima\n",
    "fig = go.Figure(data=data, layout=layout)\n",
    "\n",
    "# atualiza o gráfico, objeto figure, informando uma alteração no layout, esta alteração muda o range do eixo X,\n",
    "# o formato de como será exibido esses dados do eixo X, o tema ,a legenda e o título do gráfico.\n",
    "# seleciona o mode hovermode.\n",
    "fig.update_layout(xaxis_tickformat = '%H:%M',\n",
    "                    template = 'plotly_white',\n",
    "                    legend_title=\"\",\n",
    "                    legend_orientation=\"h\",\n",
    "                    legend={\n",
    "                        'x': 0.05,\n",
    "                        'y': -0.25,\n",
    "                    },\n",
    "                    title={\n",
    "                        'text': \"Figura 1 - Irradiância Global Horizontal a Céu Claro(kWh/m²) no dia 22/8/2018\",\n",
    "                        'y':0.93,\n",
    "                        'x':0.5,\n",
    "                        'xanchor': 'center',\n",
    "                        'yanchor': 'top'},\n",
    "                    hovermode=(\"x unified\"))\n",
    "fig.update_yaxes(ticksuffix=\" kWh/m²\") \n",
    "fig.update_xaxes(ticksuffix=\"\")                     # selecionando um sufixo para os dados no eixo Y\n",
    "\n",
    "# comando utilizado para adicionar uma imagem ao gráfico\n",
    "fig.add_layout_image(\n",
    "    dict(\n",
    "        source=\"https://raw.githubusercontent.com/LinconRozendo/Imagens_u/master/Multi%20Mapa/cear.png\",\n",
    "        xref=\"paper\", yref=\"paper\",\n",
    "        x=1.05, y=1.1,\n",
    "        sizex=0.2, sizey=0.2,\n",
    "        xanchor=\"right\", yanchor=\"bottom\"\n",
    "        )\n",
    "    )\n",
    "    \n",
    "# retorna a exibição do gráfico criado\n",
    "fig.show()"
   ]
  },
  {
   "cell_type": "code",
   "execution_count": 22,
   "metadata": {},
   "outputs": [
    {
     "data": {
      "application/vnd.plotly.v1+json": {
       "config": {
        "plotlyServerURL": "https://plot.ly"
       },
       "data": [
        {
         "mode": "markers+lines",
         "name": "Irradiância Global Horizontal a Céu Claro(kWh/m²)",
         "type": "scatter",
         "x": [
          "2018-08-01T00:00:00",
          "2018-08-01T01:00:00",
          "2018-08-01T02:00:00",
          "2018-08-01T03:00:00",
          "2018-08-01T04:00:00",
          "2018-08-01T05:00:00",
          "2018-08-01T06:00:00",
          "2018-08-01T07:00:00",
          "2018-08-01T08:00:00",
          "2018-08-01T09:00:00",
          "2018-08-01T10:00:00",
          "2018-08-01T11:00:00",
          "2018-08-01T12:00:00",
          "2018-08-01T13:00:00",
          "2018-08-01T14:00:00",
          "2018-08-01T15:00:00",
          "2018-08-01T16:00:00",
          "2018-08-01T17:00:00",
          "2018-08-01T18:00:00",
          "2018-08-01T19:00:00",
          "2018-08-01T20:00:00",
          "2018-08-01T21:00:00",
          "2018-08-01T22:00:00",
          "2018-08-01T23:00:00"
         ],
         "y": [
          0,
          0,
          0,
          0,
          0,
          0,
          5.65,
          146.65,
          386.45,
          615.55,
          798.77,
          917.27,
          983,
          944.08,
          830.12,
          650.73,
          422.6,
          176.67,
          9.98,
          0,
          0,
          0,
          0,
          0
         ]
        },
        {
         "mode": "markers+lines",
         "name": "Irradiância Global Horizontal para Qualquer Céu (kWh/m^2)",
         "type": "scatter",
         "x": [
          "2018-08-01T00:00:00",
          "2018-08-01T01:00:00",
          "2018-08-01T02:00:00",
          "2018-08-01T03:00:00",
          "2018-08-01T04:00:00",
          "2018-08-01T05:00:00",
          "2018-08-01T06:00:00",
          "2018-08-01T07:00:00",
          "2018-08-01T08:00:00",
          "2018-08-01T09:00:00",
          "2018-08-01T10:00:00",
          "2018-08-01T11:00:00",
          "2018-08-01T12:00:00",
          "2018-08-01T13:00:00",
          "2018-08-01T14:00:00",
          "2018-08-01T15:00:00",
          "2018-08-01T16:00:00",
          "2018-08-01T17:00:00",
          "2018-08-01T18:00:00",
          "2018-08-01T19:00:00",
          "2018-08-01T20:00:00",
          "2018-08-01T21:00:00",
          "2018-08-01T22:00:00",
          "2018-08-01T23:00:00"
         ],
         "y": [
          0,
          0,
          0,
          0,
          0,
          0,
          8.05,
          151.09,
          391.84,
          618.3,
          799.23,
          908.04,
          967.45,
          933.11,
          831.62,
          654.23,
          429.58,
          180.87,
          12.74,
          0,
          0,
          0,
          0,
          0
         ]
        }
       ],
       "layout": {
        "colorway": [
         "#FF0000",
         "#006400",
         "#00FF7F",
         "#006400",
         "#000080",
         "#B22222",
         "#00BFFF"
        ],
        "font": {
         "color": "black",
         "family": "Rockwell",
         "size": 16
        },
        "hovermode": "x unified",
        "images": [
         {
          "sizex": 0.2,
          "sizey": 0.2,
          "source": "https://raw.githubusercontent.com/LinconRozendo/Imagens_u/master/Multi%20Mapa/cear.png",
          "x": 1.05,
          "xanchor": "right",
          "xref": "paper",
          "y": 1.1,
          "yanchor": "bottom",
          "yref": "paper"
         }
        ],
        "legend": {
         "orientation": "h",
         "title": {
          "text": ""
         },
         "x": 0.05,
         "y": -0.25
        },
        "template": {
         "data": {
          "bar": [
           {
            "error_x": {
             "color": "#2a3f5f"
            },
            "error_y": {
             "color": "#2a3f5f"
            },
            "marker": {
             "line": {
              "color": "white",
              "width": 0.5
             },
             "pattern": {
              "fillmode": "overlay",
              "size": 10,
              "solidity": 0.2
             }
            },
            "type": "bar"
           }
          ],
          "barpolar": [
           {
            "marker": {
             "line": {
              "color": "white",
              "width": 0.5
             },
             "pattern": {
              "fillmode": "overlay",
              "size": 10,
              "solidity": 0.2
             }
            },
            "type": "barpolar"
           }
          ],
          "carpet": [
           {
            "aaxis": {
             "endlinecolor": "#2a3f5f",
             "gridcolor": "#C8D4E3",
             "linecolor": "#C8D4E3",
             "minorgridcolor": "#C8D4E3",
             "startlinecolor": "#2a3f5f"
            },
            "baxis": {
             "endlinecolor": "#2a3f5f",
             "gridcolor": "#C8D4E3",
             "linecolor": "#C8D4E3",
             "minorgridcolor": "#C8D4E3",
             "startlinecolor": "#2a3f5f"
            },
            "type": "carpet"
           }
          ],
          "choropleth": [
           {
            "colorbar": {
             "outlinewidth": 0,
             "ticks": ""
            },
            "type": "choropleth"
           }
          ],
          "contour": [
           {
            "colorbar": {
             "outlinewidth": 0,
             "ticks": ""
            },
            "colorscale": [
             [
              0,
              "#0d0887"
             ],
             [
              0.1111111111111111,
              "#46039f"
             ],
             [
              0.2222222222222222,
              "#7201a8"
             ],
             [
              0.3333333333333333,
              "#9c179e"
             ],
             [
              0.4444444444444444,
              "#bd3786"
             ],
             [
              0.5555555555555556,
              "#d8576b"
             ],
             [
              0.6666666666666666,
              "#ed7953"
             ],
             [
              0.7777777777777778,
              "#fb9f3a"
             ],
             [
              0.8888888888888888,
              "#fdca26"
             ],
             [
              1,
              "#f0f921"
             ]
            ],
            "type": "contour"
           }
          ],
          "contourcarpet": [
           {
            "colorbar": {
             "outlinewidth": 0,
             "ticks": ""
            },
            "type": "contourcarpet"
           }
          ],
          "heatmap": [
           {
            "colorbar": {
             "outlinewidth": 0,
             "ticks": ""
            },
            "colorscale": [
             [
              0,
              "#0d0887"
             ],
             [
              0.1111111111111111,
              "#46039f"
             ],
             [
              0.2222222222222222,
              "#7201a8"
             ],
             [
              0.3333333333333333,
              "#9c179e"
             ],
             [
              0.4444444444444444,
              "#bd3786"
             ],
             [
              0.5555555555555556,
              "#d8576b"
             ],
             [
              0.6666666666666666,
              "#ed7953"
             ],
             [
              0.7777777777777778,
              "#fb9f3a"
             ],
             [
              0.8888888888888888,
              "#fdca26"
             ],
             [
              1,
              "#f0f921"
             ]
            ],
            "type": "heatmap"
           }
          ],
          "heatmapgl": [
           {
            "colorbar": {
             "outlinewidth": 0,
             "ticks": ""
            },
            "colorscale": [
             [
              0,
              "#0d0887"
             ],
             [
              0.1111111111111111,
              "#46039f"
             ],
             [
              0.2222222222222222,
              "#7201a8"
             ],
             [
              0.3333333333333333,
              "#9c179e"
             ],
             [
              0.4444444444444444,
              "#bd3786"
             ],
             [
              0.5555555555555556,
              "#d8576b"
             ],
             [
              0.6666666666666666,
              "#ed7953"
             ],
             [
              0.7777777777777778,
              "#fb9f3a"
             ],
             [
              0.8888888888888888,
              "#fdca26"
             ],
             [
              1,
              "#f0f921"
             ]
            ],
            "type": "heatmapgl"
           }
          ],
          "histogram": [
           {
            "marker": {
             "pattern": {
              "fillmode": "overlay",
              "size": 10,
              "solidity": 0.2
             }
            },
            "type": "histogram"
           }
          ],
          "histogram2d": [
           {
            "colorbar": {
             "outlinewidth": 0,
             "ticks": ""
            },
            "colorscale": [
             [
              0,
              "#0d0887"
             ],
             [
              0.1111111111111111,
              "#46039f"
             ],
             [
              0.2222222222222222,
              "#7201a8"
             ],
             [
              0.3333333333333333,
              "#9c179e"
             ],
             [
              0.4444444444444444,
              "#bd3786"
             ],
             [
              0.5555555555555556,
              "#d8576b"
             ],
             [
              0.6666666666666666,
              "#ed7953"
             ],
             [
              0.7777777777777778,
              "#fb9f3a"
             ],
             [
              0.8888888888888888,
              "#fdca26"
             ],
             [
              1,
              "#f0f921"
             ]
            ],
            "type": "histogram2d"
           }
          ],
          "histogram2dcontour": [
           {
            "colorbar": {
             "outlinewidth": 0,
             "ticks": ""
            },
            "colorscale": [
             [
              0,
              "#0d0887"
             ],
             [
              0.1111111111111111,
              "#46039f"
             ],
             [
              0.2222222222222222,
              "#7201a8"
             ],
             [
              0.3333333333333333,
              "#9c179e"
             ],
             [
              0.4444444444444444,
              "#bd3786"
             ],
             [
              0.5555555555555556,
              "#d8576b"
             ],
             [
              0.6666666666666666,
              "#ed7953"
             ],
             [
              0.7777777777777778,
              "#fb9f3a"
             ],
             [
              0.8888888888888888,
              "#fdca26"
             ],
             [
              1,
              "#f0f921"
             ]
            ],
            "type": "histogram2dcontour"
           }
          ],
          "mesh3d": [
           {
            "colorbar": {
             "outlinewidth": 0,
             "ticks": ""
            },
            "type": "mesh3d"
           }
          ],
          "parcoords": [
           {
            "line": {
             "colorbar": {
              "outlinewidth": 0,
              "ticks": ""
             }
            },
            "type": "parcoords"
           }
          ],
          "pie": [
           {
            "automargin": true,
            "type": "pie"
           }
          ],
          "scatter": [
           {
            "fillpattern": {
             "fillmode": "overlay",
             "size": 10,
             "solidity": 0.2
            },
            "type": "scatter"
           }
          ],
          "scatter3d": [
           {
            "line": {
             "colorbar": {
              "outlinewidth": 0,
              "ticks": ""
             }
            },
            "marker": {
             "colorbar": {
              "outlinewidth": 0,
              "ticks": ""
             }
            },
            "type": "scatter3d"
           }
          ],
          "scattercarpet": [
           {
            "marker": {
             "colorbar": {
              "outlinewidth": 0,
              "ticks": ""
             }
            },
            "type": "scattercarpet"
           }
          ],
          "scattergeo": [
           {
            "marker": {
             "colorbar": {
              "outlinewidth": 0,
              "ticks": ""
             }
            },
            "type": "scattergeo"
           }
          ],
          "scattergl": [
           {
            "marker": {
             "colorbar": {
              "outlinewidth": 0,
              "ticks": ""
             }
            },
            "type": "scattergl"
           }
          ],
          "scattermapbox": [
           {
            "marker": {
             "colorbar": {
              "outlinewidth": 0,
              "ticks": ""
             }
            },
            "type": "scattermapbox"
           }
          ],
          "scatterpolar": [
           {
            "marker": {
             "colorbar": {
              "outlinewidth": 0,
              "ticks": ""
             }
            },
            "type": "scatterpolar"
           }
          ],
          "scatterpolargl": [
           {
            "marker": {
             "colorbar": {
              "outlinewidth": 0,
              "ticks": ""
             }
            },
            "type": "scatterpolargl"
           }
          ],
          "scatterternary": [
           {
            "marker": {
             "colorbar": {
              "outlinewidth": 0,
              "ticks": ""
             }
            },
            "type": "scatterternary"
           }
          ],
          "surface": [
           {
            "colorbar": {
             "outlinewidth": 0,
             "ticks": ""
            },
            "colorscale": [
             [
              0,
              "#0d0887"
             ],
             [
              0.1111111111111111,
              "#46039f"
             ],
             [
              0.2222222222222222,
              "#7201a8"
             ],
             [
              0.3333333333333333,
              "#9c179e"
             ],
             [
              0.4444444444444444,
              "#bd3786"
             ],
             [
              0.5555555555555556,
              "#d8576b"
             ],
             [
              0.6666666666666666,
              "#ed7953"
             ],
             [
              0.7777777777777778,
              "#fb9f3a"
             ],
             [
              0.8888888888888888,
              "#fdca26"
             ],
             [
              1,
              "#f0f921"
             ]
            ],
            "type": "surface"
           }
          ],
          "table": [
           {
            "cells": {
             "fill": {
              "color": "#EBF0F8"
             },
             "line": {
              "color": "white"
             }
            },
            "header": {
             "fill": {
              "color": "#C8D4E3"
             },
             "line": {
              "color": "white"
             }
            },
            "type": "table"
           }
          ]
         },
         "layout": {
          "annotationdefaults": {
           "arrowcolor": "#2a3f5f",
           "arrowhead": 0,
           "arrowwidth": 1
          },
          "autotypenumbers": "strict",
          "coloraxis": {
           "colorbar": {
            "outlinewidth": 0,
            "ticks": ""
           }
          },
          "colorscale": {
           "diverging": [
            [
             0,
             "#8e0152"
            ],
            [
             0.1,
             "#c51b7d"
            ],
            [
             0.2,
             "#de77ae"
            ],
            [
             0.3,
             "#f1b6da"
            ],
            [
             0.4,
             "#fde0ef"
            ],
            [
             0.5,
             "#f7f7f7"
            ],
            [
             0.6,
             "#e6f5d0"
            ],
            [
             0.7,
             "#b8e186"
            ],
            [
             0.8,
             "#7fbc41"
            ],
            [
             0.9,
             "#4d9221"
            ],
            [
             1,
             "#276419"
            ]
           ],
           "sequential": [
            [
             0,
             "#0d0887"
            ],
            [
             0.1111111111111111,
             "#46039f"
            ],
            [
             0.2222222222222222,
             "#7201a8"
            ],
            [
             0.3333333333333333,
             "#9c179e"
            ],
            [
             0.4444444444444444,
             "#bd3786"
            ],
            [
             0.5555555555555556,
             "#d8576b"
            ],
            [
             0.6666666666666666,
             "#ed7953"
            ],
            [
             0.7777777777777778,
             "#fb9f3a"
            ],
            [
             0.8888888888888888,
             "#fdca26"
            ],
            [
             1,
             "#f0f921"
            ]
           ],
           "sequentialminus": [
            [
             0,
             "#0d0887"
            ],
            [
             0.1111111111111111,
             "#46039f"
            ],
            [
             0.2222222222222222,
             "#7201a8"
            ],
            [
             0.3333333333333333,
             "#9c179e"
            ],
            [
             0.4444444444444444,
             "#bd3786"
            ],
            [
             0.5555555555555556,
             "#d8576b"
            ],
            [
             0.6666666666666666,
             "#ed7953"
            ],
            [
             0.7777777777777778,
             "#fb9f3a"
            ],
            [
             0.8888888888888888,
             "#fdca26"
            ],
            [
             1,
             "#f0f921"
            ]
           ]
          },
          "colorway": [
           "#636efa",
           "#EF553B",
           "#00cc96",
           "#ab63fa",
           "#FFA15A",
           "#19d3f3",
           "#FF6692",
           "#B6E880",
           "#FF97FF",
           "#FECB52"
          ],
          "font": {
           "color": "#2a3f5f"
          },
          "geo": {
           "bgcolor": "white",
           "lakecolor": "white",
           "landcolor": "white",
           "showlakes": true,
           "showland": true,
           "subunitcolor": "#C8D4E3"
          },
          "hoverlabel": {
           "align": "left"
          },
          "hovermode": "closest",
          "mapbox": {
           "style": "light"
          },
          "paper_bgcolor": "white",
          "plot_bgcolor": "white",
          "polar": {
           "angularaxis": {
            "gridcolor": "#EBF0F8",
            "linecolor": "#EBF0F8",
            "ticks": ""
           },
           "bgcolor": "white",
           "radialaxis": {
            "gridcolor": "#EBF0F8",
            "linecolor": "#EBF0F8",
            "ticks": ""
           }
          },
          "scene": {
           "xaxis": {
            "backgroundcolor": "white",
            "gridcolor": "#DFE8F3",
            "gridwidth": 2,
            "linecolor": "#EBF0F8",
            "showbackground": true,
            "ticks": "",
            "zerolinecolor": "#EBF0F8"
           },
           "yaxis": {
            "backgroundcolor": "white",
            "gridcolor": "#DFE8F3",
            "gridwidth": 2,
            "linecolor": "#EBF0F8",
            "showbackground": true,
            "ticks": "",
            "zerolinecolor": "#EBF0F8"
           },
           "zaxis": {
            "backgroundcolor": "white",
            "gridcolor": "#DFE8F3",
            "gridwidth": 2,
            "linecolor": "#EBF0F8",
            "showbackground": true,
            "ticks": "",
            "zerolinecolor": "#EBF0F8"
           }
          },
          "shapedefaults": {
           "line": {
            "color": "#2a3f5f"
           }
          },
          "ternary": {
           "aaxis": {
            "gridcolor": "#DFE8F3",
            "linecolor": "#A2B1C6",
            "ticks": ""
           },
           "baxis": {
            "gridcolor": "#DFE8F3",
            "linecolor": "#A2B1C6",
            "ticks": ""
           },
           "bgcolor": "white",
           "caxis": {
            "gridcolor": "#DFE8F3",
            "linecolor": "#A2B1C6",
            "ticks": ""
           }
          },
          "title": {
           "x": 0.05
          },
          "xaxis": {
           "automargin": true,
           "gridcolor": "#EBF0F8",
           "linecolor": "#EBF0F8",
           "ticks": "",
           "title": {
            "standoff": 15
           },
           "zerolinecolor": "#EBF0F8",
           "zerolinewidth": 2
          },
          "yaxis": {
           "automargin": true,
           "gridcolor": "#EBF0F8",
           "linecolor": "#EBF0F8",
           "ticks": "",
           "title": {
            "standoff": 15
           },
           "zerolinecolor": "#EBF0F8",
           "zerolinewidth": 2
          }
         }
        },
        "title": {
         "text": "Figura 2 - Irradiância Global Horizontal a Céu Claro vs Qualquer Céu no dia 22/8/2018",
         "x": 0.5,
         "xanchor": "center",
         "y": 0.93,
         "yanchor": "top"
        },
        "xaxis": {
         "tickformat": "%H:%M",
         "ticksuffix": "",
         "title": {
          "text": "Hora"
         }
        },
        "yaxis": {
         "ticksuffix": " kWh/m²",
         "title": {
          "text": "Irradiância Global"
         }
        }
       }
      }
     },
     "metadata": {},
     "output_type": "display_data"
    }
   ],
   "source": [
    "trace1 = go.Scatter(x = data_hourly.index[0:24], # eixo x \n",
    "                    y = data_hourly['Irradiância Global Horizontal a Céu Claro(kWh/m²)'][504:528], # eixo y\n",
    "                    mode = 'markers+lines', # tipo do gráfico: marcador em linhas\n",
    "                    name = 'Irradiância Global Horizontal a Céu Claro(kWh/m²)') # legenda do objeto trace\n",
    "\n",
    "trace2 = go.Scatter(x = data_hourly.index[0:24], # eixo x \n",
    "                    y = data_hourly['Irradiância Global Horizontal para Qualquer Céu (kWh/m^2)'][504:528], # eixo y\n",
    "                    mode = 'markers+lines', # tipo do gráfico: marcador em linhas\n",
    "                    name = 'Irradiância Global Horizontal para Qualquer Céu (kWh/m^2)') # legenda do objeto trace\n",
    "\n",
    "# cria uma lista com os trace's\n",
    "data = [trace1, trace2]\n",
    "\n",
    "# cria um objeto layout para por em um gráfico\n",
    "layout = go.Layout(title=\"Teste\",yaxis={'title':'Irradiância Global'},xaxis={'title': 'Hora'}, \n",
    "                    font = {'family': 'Rockwell','size': 16,'color': 'black'},\n",
    "                    colorway = ['#FF0000', '#006400', '#00FF7F','#006400', '#000080', '#B22222', '#00BFFF'])\n",
    "\n",
    "# cria um gráfico através do objeto figure com os dados da lista com os traces e o layout acima\n",
    "fig = go.Figure(data=data, layout=layout)\n",
    "\n",
    "# atualiza o gráfico, objeto figure, informando uma alteração no layout, esta alteração muda o range do eixo X,\n",
    "# o formato de como será exibido esses dados do eixo X, o tema ,a legenda e o título do gráfico.\n",
    "# seleciona o mode hovermode.\n",
    "fig.update_layout(xaxis_tickformat = '%H:%M',\n",
    "                    template = 'plotly_white',\n",
    "                    legend_title=\"\",\n",
    "                    legend_orientation=\"h\",\n",
    "                    legend={\n",
    "                        'x': 0.05,\n",
    "                        'y': -0.25,\n",
    "                    },\n",
    "                    title={\n",
    "                        'text': \"Figura 2 - Irradiância Global Horizontal a Céu Claro vs Qualquer Céu no dia 22/8/2018\",\n",
    "                        'y':0.93,\n",
    "                        'x':0.5,\n",
    "                        'xanchor': 'center',\n",
    "                        'yanchor': 'top'},\n",
    "                    hovermode=(\"x unified\"))\n",
    "fig.update_yaxes(ticksuffix=\" kWh/m²\") \n",
    "fig.update_xaxes(ticksuffix=\"\")                     # selecionando um sufixo para os dados no eixo Y\n",
    "\n",
    "# comando utilizado para adicionar uma imagem ao gráfico\n",
    "fig.add_layout_image(\n",
    "    dict(\n",
    "        source=\"https://raw.githubusercontent.com/LinconRozendo/Imagens_u/master/Multi%20Mapa/cear.png\",\n",
    "        xref=\"paper\", yref=\"paper\",\n",
    "        x=1.05, y=1.1,\n",
    "        sizex=0.2, sizey=0.2,\n",
    "        xanchor=\"right\", yanchor=\"bottom\"\n",
    "        )\n",
    "    )\n",
    "    \n",
    "# retorna a exibição do gráfico criado\n",
    "fig.show()"
   ]
  },
  {
   "cell_type": "code",
   "execution_count": 23,
   "metadata": {},
   "outputs": [
    {
     "data": {
      "text/html": [
       "<div>\n",
       "<style scoped>\n",
       "    .dataframe tbody tr th:only-of-type {\n",
       "        vertical-align: middle;\n",
       "    }\n",
       "\n",
       "    .dataframe tbody tr th {\n",
       "        vertical-align: top;\n",
       "    }\n",
       "\n",
       "    .dataframe thead th {\n",
       "        text-align: right;\n",
       "    }\n",
       "</style>\n",
       "<table border=\"1\" class=\"dataframe\">\n",
       "  <thead>\n",
       "    <tr style=\"text-align: right;\">\n",
       "      <th></th>\n",
       "      <th>Energia (Wh)</th>\n",
       "    </tr>\n",
       "    <tr>\n",
       "      <th>Date</th>\n",
       "      <th></th>\n",
       "    </tr>\n",
       "  </thead>\n",
       "  <tbody>\n",
       "    <tr>\n",
       "      <th>2018-08-01 00:00:00</th>\n",
       "      <td>0.00</td>\n",
       "    </tr>\n",
       "    <tr>\n",
       "      <th>2018-08-01 01:00:00</th>\n",
       "      <td>0.00</td>\n",
       "    </tr>\n",
       "    <tr>\n",
       "      <th>2018-08-01 02:00:00</th>\n",
       "      <td>0.00</td>\n",
       "    </tr>\n",
       "    <tr>\n",
       "      <th>2018-08-01 03:00:00</th>\n",
       "      <td>0.00</td>\n",
       "    </tr>\n",
       "    <tr>\n",
       "      <th>2018-08-01 04:00:00</th>\n",
       "      <td>0.00</td>\n",
       "    </tr>\n",
       "    <tr>\n",
       "      <th>...</th>\n",
       "      <td>...</td>\n",
       "    </tr>\n",
       "    <tr>\n",
       "      <th>2021-02-24 13:00:00</th>\n",
       "      <td>1679.89</td>\n",
       "    </tr>\n",
       "    <tr>\n",
       "      <th>2021-02-24 14:00:00</th>\n",
       "      <td>1104.89</td>\n",
       "    </tr>\n",
       "    <tr>\n",
       "      <th>2021-02-24 15:00:00</th>\n",
       "      <td>481.93</td>\n",
       "    </tr>\n",
       "    <tr>\n",
       "      <th>2021-02-24 16:00:00</th>\n",
       "      <td>112.25</td>\n",
       "    </tr>\n",
       "    <tr>\n",
       "      <th>2021-02-24 17:00:00</th>\n",
       "      <td>0.00</td>\n",
       "    </tr>\n",
       "  </tbody>\n",
       "</table>\n",
       "<p>22530 rows × 1 columns</p>\n",
       "</div>"
      ],
      "text/plain": [
       "                     Energia (Wh)\n",
       "Date                             \n",
       "2018-08-01 00:00:00          0.00\n",
       "2018-08-01 01:00:00          0.00\n",
       "2018-08-01 02:00:00          0.00\n",
       "2018-08-01 03:00:00          0.00\n",
       "2018-08-01 04:00:00          0.00\n",
       "...                           ...\n",
       "2021-02-24 13:00:00       1679.89\n",
       "2021-02-24 14:00:00       1104.89\n",
       "2021-02-24 15:00:00        481.93\n",
       "2021-02-24 16:00:00        112.25\n",
       "2021-02-24 17:00:00          0.00\n",
       "\n",
       "[22530 rows x 1 columns]"
      ]
     },
     "execution_count": 23,
     "metadata": {},
     "output_type": "execute_result"
    }
   ],
   "source": [
    "## Tratando os dados de produção fotovoltaica\n",
    "\n",
    "data_photovoltaic = pd.read_csv('Database\\Dados_FV_2018_2021.csv', sep=\",\")\n",
    "data_photovoltaic.drop([0],inplace=True)\n",
    "data_photovoltaic.drop(['Corrente CA L1|Primo 3.0-1 (# 1)', 'Corrente CC MPP1|Primo 3.0-1 (# 1)', 'Energia|Primo 3.0-1 (# 1)', 'Potência aparente|Primo 3.0-1 (# 1)', 'Voltagem CA L1|Primo 3.0-1 (# 1)', 'Voltagem CC MPP1|Primo 3.0-1 (# 1)'], axis=1, inplace=True)\n",
    "data_photovoltaic.rename(columns={'Data e horário':  'Date',\n",
    "                   'Produção fotovoltaica': 'Energia (Wh)'}, inplace=True)\n",
    "data_photovoltaic['Date'] = pd.to_datetime(data_photovoltaic['Date'], format= '%d.%m.%Y %H:%M')\n",
    "data_photovoltaic['Energia (Wh)'] = data_photovoltaic['Energia (Wh)'].str.replace(',', '.', regex=True).astype(float) \n",
    "data_photovoltaic.set_index('Date', inplace=True)\n",
    "data_photovoltaic = data_photovoltaic.resample('H').sum()\n",
    "\n",
    "data_photovoltaic"
   ]
  },
  {
   "cell_type": "code",
   "execution_count": 24,
   "metadata": {},
   "outputs": [
    {
     "data": {
      "application/vnd.plotly.v1+json": {
       "config": {
        "plotlyServerURL": "https://plot.ly"
       },
       "data": [
        {
         "mode": "markers+lines",
         "name": "Energia por hora",
         "type": "scatter",
         "x": [
          "2018-08-01T00:00:00",
          "2018-08-01T01:00:00",
          "2018-08-01T02:00:00",
          "2018-08-01T03:00:00",
          "2018-08-01T04:00:00",
          "2018-08-01T05:00:00",
          "2018-08-01T06:00:00",
          "2018-08-01T07:00:00",
          "2018-08-01T08:00:00",
          "2018-08-01T09:00:00",
          "2018-08-01T10:00:00",
          "2018-08-01T11:00:00",
          "2018-08-01T12:00:00",
          "2018-08-01T13:00:00",
          "2018-08-01T14:00:00",
          "2018-08-01T15:00:00",
          "2018-08-01T16:00:00",
          "2018-08-01T17:00:00",
          "2018-08-01T18:00:00",
          "2018-08-01T19:00:00",
          "2018-08-01T20:00:00",
          "2018-08-01T21:00:00",
          "2018-08-01T22:00:00",
          "2018-08-01T23:00:00"
         ],
         "y": [
          0,
          0,
          0,
          0,
          0,
          3.4699999999999998,
          90.69,
          756,
          1844.4,
          2202.2799999999997,
          2362.33,
          2358.66,
          2213.48,
          1899.03,
          1447.83,
          836.43,
          196.23,
          10.61,
          0,
          0,
          0,
          0,
          0,
          0
         ]
        }
       ],
       "layout": {
        "colorway": [
         "#00FF7F",
         "#FF0000",
         "#006400",
         "#000080",
         "#B22222",
         "#00BFFF"
        ],
        "font": {
         "color": "black",
         "family": "Rockwell",
         "size": 16
        },
        "hovermode": "x unified",
        "images": [
         {
          "sizex": 0.2,
          "sizey": 0.2,
          "source": "https://raw.githubusercontent.com/LinconRozendo/Imagens_u/master/Multi%20Mapa/cear.png",
          "x": 1.05,
          "xanchor": "right",
          "xref": "paper",
          "y": 1.1,
          "yanchor": "bottom",
          "yref": "paper"
         }
        ],
        "legend": {
         "orientation": "h",
         "title": {
          "text": ""
         },
         "x": 0.05,
         "y": -0.25
        },
        "template": {
         "data": {
          "bar": [
           {
            "error_x": {
             "color": "#2a3f5f"
            },
            "error_y": {
             "color": "#2a3f5f"
            },
            "marker": {
             "line": {
              "color": "white",
              "width": 0.5
             },
             "pattern": {
              "fillmode": "overlay",
              "size": 10,
              "solidity": 0.2
             }
            },
            "type": "bar"
           }
          ],
          "barpolar": [
           {
            "marker": {
             "line": {
              "color": "white",
              "width": 0.5
             },
             "pattern": {
              "fillmode": "overlay",
              "size": 10,
              "solidity": 0.2
             }
            },
            "type": "barpolar"
           }
          ],
          "carpet": [
           {
            "aaxis": {
             "endlinecolor": "#2a3f5f",
             "gridcolor": "#C8D4E3",
             "linecolor": "#C8D4E3",
             "minorgridcolor": "#C8D4E3",
             "startlinecolor": "#2a3f5f"
            },
            "baxis": {
             "endlinecolor": "#2a3f5f",
             "gridcolor": "#C8D4E3",
             "linecolor": "#C8D4E3",
             "minorgridcolor": "#C8D4E3",
             "startlinecolor": "#2a3f5f"
            },
            "type": "carpet"
           }
          ],
          "choropleth": [
           {
            "colorbar": {
             "outlinewidth": 0,
             "ticks": ""
            },
            "type": "choropleth"
           }
          ],
          "contour": [
           {
            "colorbar": {
             "outlinewidth": 0,
             "ticks": ""
            },
            "colorscale": [
             [
              0,
              "#0d0887"
             ],
             [
              0.1111111111111111,
              "#46039f"
             ],
             [
              0.2222222222222222,
              "#7201a8"
             ],
             [
              0.3333333333333333,
              "#9c179e"
             ],
             [
              0.4444444444444444,
              "#bd3786"
             ],
             [
              0.5555555555555556,
              "#d8576b"
             ],
             [
              0.6666666666666666,
              "#ed7953"
             ],
             [
              0.7777777777777778,
              "#fb9f3a"
             ],
             [
              0.8888888888888888,
              "#fdca26"
             ],
             [
              1,
              "#f0f921"
             ]
            ],
            "type": "contour"
           }
          ],
          "contourcarpet": [
           {
            "colorbar": {
             "outlinewidth": 0,
             "ticks": ""
            },
            "type": "contourcarpet"
           }
          ],
          "heatmap": [
           {
            "colorbar": {
             "outlinewidth": 0,
             "ticks": ""
            },
            "colorscale": [
             [
              0,
              "#0d0887"
             ],
             [
              0.1111111111111111,
              "#46039f"
             ],
             [
              0.2222222222222222,
              "#7201a8"
             ],
             [
              0.3333333333333333,
              "#9c179e"
             ],
             [
              0.4444444444444444,
              "#bd3786"
             ],
             [
              0.5555555555555556,
              "#d8576b"
             ],
             [
              0.6666666666666666,
              "#ed7953"
             ],
             [
              0.7777777777777778,
              "#fb9f3a"
             ],
             [
              0.8888888888888888,
              "#fdca26"
             ],
             [
              1,
              "#f0f921"
             ]
            ],
            "type": "heatmap"
           }
          ],
          "heatmapgl": [
           {
            "colorbar": {
             "outlinewidth": 0,
             "ticks": ""
            },
            "colorscale": [
             [
              0,
              "#0d0887"
             ],
             [
              0.1111111111111111,
              "#46039f"
             ],
             [
              0.2222222222222222,
              "#7201a8"
             ],
             [
              0.3333333333333333,
              "#9c179e"
             ],
             [
              0.4444444444444444,
              "#bd3786"
             ],
             [
              0.5555555555555556,
              "#d8576b"
             ],
             [
              0.6666666666666666,
              "#ed7953"
             ],
             [
              0.7777777777777778,
              "#fb9f3a"
             ],
             [
              0.8888888888888888,
              "#fdca26"
             ],
             [
              1,
              "#f0f921"
             ]
            ],
            "type": "heatmapgl"
           }
          ],
          "histogram": [
           {
            "marker": {
             "pattern": {
              "fillmode": "overlay",
              "size": 10,
              "solidity": 0.2
             }
            },
            "type": "histogram"
           }
          ],
          "histogram2d": [
           {
            "colorbar": {
             "outlinewidth": 0,
             "ticks": ""
            },
            "colorscale": [
             [
              0,
              "#0d0887"
             ],
             [
              0.1111111111111111,
              "#46039f"
             ],
             [
              0.2222222222222222,
              "#7201a8"
             ],
             [
              0.3333333333333333,
              "#9c179e"
             ],
             [
              0.4444444444444444,
              "#bd3786"
             ],
             [
              0.5555555555555556,
              "#d8576b"
             ],
             [
              0.6666666666666666,
              "#ed7953"
             ],
             [
              0.7777777777777778,
              "#fb9f3a"
             ],
             [
              0.8888888888888888,
              "#fdca26"
             ],
             [
              1,
              "#f0f921"
             ]
            ],
            "type": "histogram2d"
           }
          ],
          "histogram2dcontour": [
           {
            "colorbar": {
             "outlinewidth": 0,
             "ticks": ""
            },
            "colorscale": [
             [
              0,
              "#0d0887"
             ],
             [
              0.1111111111111111,
              "#46039f"
             ],
             [
              0.2222222222222222,
              "#7201a8"
             ],
             [
              0.3333333333333333,
              "#9c179e"
             ],
             [
              0.4444444444444444,
              "#bd3786"
             ],
             [
              0.5555555555555556,
              "#d8576b"
             ],
             [
              0.6666666666666666,
              "#ed7953"
             ],
             [
              0.7777777777777778,
              "#fb9f3a"
             ],
             [
              0.8888888888888888,
              "#fdca26"
             ],
             [
              1,
              "#f0f921"
             ]
            ],
            "type": "histogram2dcontour"
           }
          ],
          "mesh3d": [
           {
            "colorbar": {
             "outlinewidth": 0,
             "ticks": ""
            },
            "type": "mesh3d"
           }
          ],
          "parcoords": [
           {
            "line": {
             "colorbar": {
              "outlinewidth": 0,
              "ticks": ""
             }
            },
            "type": "parcoords"
           }
          ],
          "pie": [
           {
            "automargin": true,
            "type": "pie"
           }
          ],
          "scatter": [
           {
            "fillpattern": {
             "fillmode": "overlay",
             "size": 10,
             "solidity": 0.2
            },
            "type": "scatter"
           }
          ],
          "scatter3d": [
           {
            "line": {
             "colorbar": {
              "outlinewidth": 0,
              "ticks": ""
             }
            },
            "marker": {
             "colorbar": {
              "outlinewidth": 0,
              "ticks": ""
             }
            },
            "type": "scatter3d"
           }
          ],
          "scattercarpet": [
           {
            "marker": {
             "colorbar": {
              "outlinewidth": 0,
              "ticks": ""
             }
            },
            "type": "scattercarpet"
           }
          ],
          "scattergeo": [
           {
            "marker": {
             "colorbar": {
              "outlinewidth": 0,
              "ticks": ""
             }
            },
            "type": "scattergeo"
           }
          ],
          "scattergl": [
           {
            "marker": {
             "colorbar": {
              "outlinewidth": 0,
              "ticks": ""
             }
            },
            "type": "scattergl"
           }
          ],
          "scattermapbox": [
           {
            "marker": {
             "colorbar": {
              "outlinewidth": 0,
              "ticks": ""
             }
            },
            "type": "scattermapbox"
           }
          ],
          "scatterpolar": [
           {
            "marker": {
             "colorbar": {
              "outlinewidth": 0,
              "ticks": ""
             }
            },
            "type": "scatterpolar"
           }
          ],
          "scatterpolargl": [
           {
            "marker": {
             "colorbar": {
              "outlinewidth": 0,
              "ticks": ""
             }
            },
            "type": "scatterpolargl"
           }
          ],
          "scatterternary": [
           {
            "marker": {
             "colorbar": {
              "outlinewidth": 0,
              "ticks": ""
             }
            },
            "type": "scatterternary"
           }
          ],
          "surface": [
           {
            "colorbar": {
             "outlinewidth": 0,
             "ticks": ""
            },
            "colorscale": [
             [
              0,
              "#0d0887"
             ],
             [
              0.1111111111111111,
              "#46039f"
             ],
             [
              0.2222222222222222,
              "#7201a8"
             ],
             [
              0.3333333333333333,
              "#9c179e"
             ],
             [
              0.4444444444444444,
              "#bd3786"
             ],
             [
              0.5555555555555556,
              "#d8576b"
             ],
             [
              0.6666666666666666,
              "#ed7953"
             ],
             [
              0.7777777777777778,
              "#fb9f3a"
             ],
             [
              0.8888888888888888,
              "#fdca26"
             ],
             [
              1,
              "#f0f921"
             ]
            ],
            "type": "surface"
           }
          ],
          "table": [
           {
            "cells": {
             "fill": {
              "color": "#EBF0F8"
             },
             "line": {
              "color": "white"
             }
            },
            "header": {
             "fill": {
              "color": "#C8D4E3"
             },
             "line": {
              "color": "white"
             }
            },
            "type": "table"
           }
          ]
         },
         "layout": {
          "annotationdefaults": {
           "arrowcolor": "#2a3f5f",
           "arrowhead": 0,
           "arrowwidth": 1
          },
          "autotypenumbers": "strict",
          "coloraxis": {
           "colorbar": {
            "outlinewidth": 0,
            "ticks": ""
           }
          },
          "colorscale": {
           "diverging": [
            [
             0,
             "#8e0152"
            ],
            [
             0.1,
             "#c51b7d"
            ],
            [
             0.2,
             "#de77ae"
            ],
            [
             0.3,
             "#f1b6da"
            ],
            [
             0.4,
             "#fde0ef"
            ],
            [
             0.5,
             "#f7f7f7"
            ],
            [
             0.6,
             "#e6f5d0"
            ],
            [
             0.7,
             "#b8e186"
            ],
            [
             0.8,
             "#7fbc41"
            ],
            [
             0.9,
             "#4d9221"
            ],
            [
             1,
             "#276419"
            ]
           ],
           "sequential": [
            [
             0,
             "#0d0887"
            ],
            [
             0.1111111111111111,
             "#46039f"
            ],
            [
             0.2222222222222222,
             "#7201a8"
            ],
            [
             0.3333333333333333,
             "#9c179e"
            ],
            [
             0.4444444444444444,
             "#bd3786"
            ],
            [
             0.5555555555555556,
             "#d8576b"
            ],
            [
             0.6666666666666666,
             "#ed7953"
            ],
            [
             0.7777777777777778,
             "#fb9f3a"
            ],
            [
             0.8888888888888888,
             "#fdca26"
            ],
            [
             1,
             "#f0f921"
            ]
           ],
           "sequentialminus": [
            [
             0,
             "#0d0887"
            ],
            [
             0.1111111111111111,
             "#46039f"
            ],
            [
             0.2222222222222222,
             "#7201a8"
            ],
            [
             0.3333333333333333,
             "#9c179e"
            ],
            [
             0.4444444444444444,
             "#bd3786"
            ],
            [
             0.5555555555555556,
             "#d8576b"
            ],
            [
             0.6666666666666666,
             "#ed7953"
            ],
            [
             0.7777777777777778,
             "#fb9f3a"
            ],
            [
             0.8888888888888888,
             "#fdca26"
            ],
            [
             1,
             "#f0f921"
            ]
           ]
          },
          "colorway": [
           "#636efa",
           "#EF553B",
           "#00cc96",
           "#ab63fa",
           "#FFA15A",
           "#19d3f3",
           "#FF6692",
           "#B6E880",
           "#FF97FF",
           "#FECB52"
          ],
          "font": {
           "color": "#2a3f5f"
          },
          "geo": {
           "bgcolor": "white",
           "lakecolor": "white",
           "landcolor": "white",
           "showlakes": true,
           "showland": true,
           "subunitcolor": "#C8D4E3"
          },
          "hoverlabel": {
           "align": "left"
          },
          "hovermode": "closest",
          "mapbox": {
           "style": "light"
          },
          "paper_bgcolor": "white",
          "plot_bgcolor": "white",
          "polar": {
           "angularaxis": {
            "gridcolor": "#EBF0F8",
            "linecolor": "#EBF0F8",
            "ticks": ""
           },
           "bgcolor": "white",
           "radialaxis": {
            "gridcolor": "#EBF0F8",
            "linecolor": "#EBF0F8",
            "ticks": ""
           }
          },
          "scene": {
           "xaxis": {
            "backgroundcolor": "white",
            "gridcolor": "#DFE8F3",
            "gridwidth": 2,
            "linecolor": "#EBF0F8",
            "showbackground": true,
            "ticks": "",
            "zerolinecolor": "#EBF0F8"
           },
           "yaxis": {
            "backgroundcolor": "white",
            "gridcolor": "#DFE8F3",
            "gridwidth": 2,
            "linecolor": "#EBF0F8",
            "showbackground": true,
            "ticks": "",
            "zerolinecolor": "#EBF0F8"
           },
           "zaxis": {
            "backgroundcolor": "white",
            "gridcolor": "#DFE8F3",
            "gridwidth": 2,
            "linecolor": "#EBF0F8",
            "showbackground": true,
            "ticks": "",
            "zerolinecolor": "#EBF0F8"
           }
          },
          "shapedefaults": {
           "line": {
            "color": "#2a3f5f"
           }
          },
          "ternary": {
           "aaxis": {
            "gridcolor": "#DFE8F3",
            "linecolor": "#A2B1C6",
            "ticks": ""
           },
           "baxis": {
            "gridcolor": "#DFE8F3",
            "linecolor": "#A2B1C6",
            "ticks": ""
           },
           "bgcolor": "white",
           "caxis": {
            "gridcolor": "#DFE8F3",
            "linecolor": "#A2B1C6",
            "ticks": ""
           }
          },
          "title": {
           "x": 0.05
          },
          "xaxis": {
           "automargin": true,
           "gridcolor": "#EBF0F8",
           "linecolor": "#EBF0F8",
           "ticks": "",
           "title": {
            "standoff": 15
           },
           "zerolinecolor": "#EBF0F8",
           "zerolinewidth": 2
          },
          "yaxis": {
           "automargin": true,
           "gridcolor": "#EBF0F8",
           "linecolor": "#EBF0F8",
           "ticks": "",
           "title": {
            "standoff": 15
           },
           "zerolinecolor": "#EBF0F8",
           "zerolinewidth": 2
          }
         }
        },
        "title": {
         "text": "Figura 3 - Produção de energia fotovoltaica no dia 22/8/2018",
         "x": 0.5,
         "xanchor": "center",
         "y": 0.93,
         "yanchor": "top"
        },
        "xaxis": {
         "tickformat": "%H:%M",
         "ticksuffix": "",
         "title": {
          "text": "Hora"
         }
        },
        "yaxis": {
         "ticksuffix": " Wh",
         "title": {
          "text": "Irradiância Global"
         }
        }
       }
      }
     },
     "metadata": {},
     "output_type": "display_data"
    }
   ],
   "source": [
    "trace1 = go.Scatter(x = data_photovoltaic.index[0:24], # eixo x\n",
    "                    y = data_photovoltaic['Energia (Wh)'][504:528], # eixo y \n",
    "                    mode = 'markers+lines', # tipo do gráfico: marcadr em linhas\n",
    "                    name = 'Energia por hora') # legenda do objeto trace\n",
    "    \n",
    "# cria uma lista com os trace's\n",
    "data = [trace1]\n",
    "\n",
    "# cria um objeto layout para por em um gráfico\n",
    "# objeto layout: informar o que está sendo apresentado no gráfico\n",
    "# no eixo x é informado que fica vazio, com o título do gráfico em caixa alta - comando .upper()\n",
    "# alterando as características da fonte e cor de cada trace do gráfico\n",
    "layout = go.Layout(title=\"Teste\",yaxis={'title':'Irradiância Global'},xaxis={'title': 'Hora'}, \n",
    "                    font = {'family': 'Rockwell','size': 16,'color': 'black'},\n",
    "                    colorway = ['#00FF7F', '#FF0000', '#006400', '#000080', '#B22222', '#00BFFF'])\n",
    "\n",
    "# cria um gráfico através do objeto figure com os dados da lista com os traces e o layout acima\n",
    "fig = go.Figure(data=data, layout=layout)\n",
    "\n",
    "# atualiza o gráfico, objeto figure, informando uma alteração no layout, esta alteração muda o range do eixo X,\n",
    "# o formato de como será exibido esses dados do eixo X, o tema ,a legenda e o título do gráfico.\n",
    "# seleciona o mode hovermode.\n",
    "fig.update_layout(xaxis_tickformat = '%H:%M',\n",
    "                    template = 'plotly_white',\n",
    "                    legend_title=\"\",\n",
    "                    legend_orientation=\"h\",\n",
    "                    legend={\n",
    "                        'x': 0.05,\n",
    "                        'y': -0.25,\n",
    "                    },\n",
    "                    title={\n",
    "                        'text': \"Figura 3 - Produção de energia fotovoltaica no dia 22/8/2018\",\n",
    "                        'y':0.93,\n",
    "                        'x':0.5,\n",
    "                        'xanchor': 'center',\n",
    "                        'yanchor': 'top'},\n",
    "                    hovermode=(\"x unified\"))\n",
    "fig.update_yaxes(ticksuffix=\" Wh\") \n",
    "fig.update_xaxes(ticksuffix=\"\")                     # selecionando um sufixo para os dados no eixo Y\n",
    "\n",
    "# comando utilizado para adicionar uma imagem ao gráfico\n",
    "fig.add_layout_image(\n",
    "    dict(\n",
    "        source=\"https://raw.githubusercontent.com/LinconRozendo/Imagens_u/master/Multi%20Mapa/cear.png\",\n",
    "        xref=\"paper\", yref=\"paper\",\n",
    "        x=1.05, y=1.1,\n",
    "        sizex=0.2, sizey=0.2,\n",
    "        xanchor=\"right\", yanchor=\"bottom\"\n",
    "        )\n",
    "    )\n",
    "    \n",
    "# retorna a exibição do gráfico criado\n",
    "fig.show()"
   ]
  },
  {
   "cell_type": "code",
   "execution_count": 25,
   "metadata": {},
   "outputs": [
    {
     "data": {
      "text/html": [
       "<div>\n",
       "<style scoped>\n",
       "    .dataframe tbody tr th:only-of-type {\n",
       "        vertical-align: middle;\n",
       "    }\n",
       "\n",
       "    .dataframe tbody tr th {\n",
       "        vertical-align: top;\n",
       "    }\n",
       "\n",
       "    .dataframe thead th {\n",
       "        text-align: right;\n",
       "    }\n",
       "</style>\n",
       "<table border=\"1\" class=\"dataframe\">\n",
       "  <thead>\n",
       "    <tr style=\"text-align: right;\">\n",
       "      <th></th>\n",
       "      <th>kt</th>\n",
       "      <th>Irradiância Global Horizontal a Céu Claro(kWh/m²)</th>\n",
       "      <th>Irradiância Global Horizontal para Qualquer Céu (kWh/m^2)</th>\n",
       "      <th>Temperatura a 2 metros (°C)</th>\n",
       "      <th>Umidade Relativa a 2 metros (%)</th>\n",
       "      <th>Energia (Wh)</th>\n",
       "    </tr>\n",
       "    <tr>\n",
       "      <th>Date</th>\n",
       "      <th></th>\n",
       "      <th></th>\n",
       "      <th></th>\n",
       "      <th></th>\n",
       "      <th></th>\n",
       "      <th></th>\n",
       "    </tr>\n",
       "  </thead>\n",
       "  <tbody>\n",
       "    <tr>\n",
       "      <th>2018-08-01 00:00:00</th>\n",
       "      <td>0.00</td>\n",
       "      <td>0.00</td>\n",
       "      <td>0.00</td>\n",
       "      <td>24.53</td>\n",
       "      <td>71.69</td>\n",
       "      <td>0.00</td>\n",
       "    </tr>\n",
       "    <tr>\n",
       "      <th>2018-08-01 01:00:00</th>\n",
       "      <td>0.00</td>\n",
       "      <td>0.00</td>\n",
       "      <td>0.00</td>\n",
       "      <td>24.13</td>\n",
       "      <td>73.38</td>\n",
       "      <td>0.00</td>\n",
       "    </tr>\n",
       "    <tr>\n",
       "      <th>2018-08-01 02:00:00</th>\n",
       "      <td>0.00</td>\n",
       "      <td>0.00</td>\n",
       "      <td>0.00</td>\n",
       "      <td>23.84</td>\n",
       "      <td>74.44</td>\n",
       "      <td>0.00</td>\n",
       "    </tr>\n",
       "    <tr>\n",
       "      <th>2018-08-01 03:00:00</th>\n",
       "      <td>0.00</td>\n",
       "      <td>0.00</td>\n",
       "      <td>0.00</td>\n",
       "      <td>23.64</td>\n",
       "      <td>75.12</td>\n",
       "      <td>0.00</td>\n",
       "    </tr>\n",
       "    <tr>\n",
       "      <th>2018-08-01 04:00:00</th>\n",
       "      <td>0.00</td>\n",
       "      <td>0.00</td>\n",
       "      <td>0.00</td>\n",
       "      <td>23.49</td>\n",
       "      <td>75.56</td>\n",
       "      <td>0.00</td>\n",
       "    </tr>\n",
       "    <tr>\n",
       "      <th>...</th>\n",
       "      <td>...</td>\n",
       "      <td>...</td>\n",
       "      <td>...</td>\n",
       "      <td>...</td>\n",
       "      <td>...</td>\n",
       "      <td>...</td>\n",
       "    </tr>\n",
       "    <tr>\n",
       "      <th>2021-02-24 13:00:00</th>\n",
       "      <td>0.61</td>\n",
       "      <td>999.90</td>\n",
       "      <td>825.93</td>\n",
       "      <td>32.61</td>\n",
       "      <td>45.44</td>\n",
       "      <td>1679.89</td>\n",
       "    </tr>\n",
       "    <tr>\n",
       "      <th>2021-02-24 14:00:00</th>\n",
       "      <td>0.61</td>\n",
       "      <td>896.90</td>\n",
       "      <td>759.57</td>\n",
       "      <td>32.76</td>\n",
       "      <td>44.19</td>\n",
       "      <td>1104.89</td>\n",
       "    </tr>\n",
       "    <tr>\n",
       "      <th>2021-02-24 15:00:00</th>\n",
       "      <td>0.56</td>\n",
       "      <td>724.05</td>\n",
       "      <td>580.98</td>\n",
       "      <td>32.55</td>\n",
       "      <td>44.25</td>\n",
       "      <td>481.93</td>\n",
       "    </tr>\n",
       "    <tr>\n",
       "      <th>2021-02-24 16:00:00</th>\n",
       "      <td>0.50</td>\n",
       "      <td>496.20</td>\n",
       "      <td>388.01</td>\n",
       "      <td>32.06</td>\n",
       "      <td>45.69</td>\n",
       "      <td>112.25</td>\n",
       "    </tr>\n",
       "    <tr>\n",
       "      <th>2021-02-24 17:00:00</th>\n",
       "      <td>0.42</td>\n",
       "      <td>243.00</td>\n",
       "      <td>190.92</td>\n",
       "      <td>30.92</td>\n",
       "      <td>52.62</td>\n",
       "      <td>0.00</td>\n",
       "    </tr>\n",
       "  </tbody>\n",
       "</table>\n",
       "<p>22530 rows × 6 columns</p>\n",
       "</div>"
      ],
      "text/plain": [
       "                       kt  Irradiância Global Horizontal a Céu Claro(kWh/m²)  \\\n",
       "Date                                                                           \n",
       "2018-08-01 00:00:00  0.00                                               0.00   \n",
       "2018-08-01 01:00:00  0.00                                               0.00   \n",
       "2018-08-01 02:00:00  0.00                                               0.00   \n",
       "2018-08-01 03:00:00  0.00                                               0.00   \n",
       "2018-08-01 04:00:00  0.00                                               0.00   \n",
       "...                   ...                                                ...   \n",
       "2021-02-24 13:00:00  0.61                                             999.90   \n",
       "2021-02-24 14:00:00  0.61                                             896.90   \n",
       "2021-02-24 15:00:00  0.56                                             724.05   \n",
       "2021-02-24 16:00:00  0.50                                             496.20   \n",
       "2021-02-24 17:00:00  0.42                                             243.00   \n",
       "\n",
       "                     Irradiância Global Horizontal para Qualquer Céu (kWh/m^2)  \\\n",
       "Date                                                                             \n",
       "2018-08-01 00:00:00                                               0.00           \n",
       "2018-08-01 01:00:00                                               0.00           \n",
       "2018-08-01 02:00:00                                               0.00           \n",
       "2018-08-01 03:00:00                                               0.00           \n",
       "2018-08-01 04:00:00                                               0.00           \n",
       "...                                                                ...           \n",
       "2021-02-24 13:00:00                                             825.93           \n",
       "2021-02-24 14:00:00                                             759.57           \n",
       "2021-02-24 15:00:00                                             580.98           \n",
       "2021-02-24 16:00:00                                             388.01           \n",
       "2021-02-24 17:00:00                                             190.92           \n",
       "\n",
       "                     Temperatura a 2 metros (°C)  \\\n",
       "Date                                               \n",
       "2018-08-01 00:00:00                        24.53   \n",
       "2018-08-01 01:00:00                        24.13   \n",
       "2018-08-01 02:00:00                        23.84   \n",
       "2018-08-01 03:00:00                        23.64   \n",
       "2018-08-01 04:00:00                        23.49   \n",
       "...                                          ...   \n",
       "2021-02-24 13:00:00                        32.61   \n",
       "2021-02-24 14:00:00                        32.76   \n",
       "2021-02-24 15:00:00                        32.55   \n",
       "2021-02-24 16:00:00                        32.06   \n",
       "2021-02-24 17:00:00                        30.92   \n",
       "\n",
       "                     Umidade Relativa a 2 metros (%)  Energia (Wh)  \n",
       "Date                                                                \n",
       "2018-08-01 00:00:00                            71.69          0.00  \n",
       "2018-08-01 01:00:00                            73.38          0.00  \n",
       "2018-08-01 02:00:00                            74.44          0.00  \n",
       "2018-08-01 03:00:00                            75.12          0.00  \n",
       "2018-08-01 04:00:00                            75.56          0.00  \n",
       "...                                              ...           ...  \n",
       "2021-02-24 13:00:00                            45.44       1679.89  \n",
       "2021-02-24 14:00:00                            44.19       1104.89  \n",
       "2021-02-24 15:00:00                            44.25        481.93  \n",
       "2021-02-24 16:00:00                            45.69        112.25  \n",
       "2021-02-24 17:00:00                            52.62          0.00  \n",
       "\n",
       "[22530 rows x 6 columns]"
      ]
     },
     "execution_count": 25,
     "metadata": {},
     "output_type": "execute_result"
    }
   ],
   "source": [
    "## Juntando os dados da NASA e produção de energia fotovoltaica\n",
    "\n",
    "data_hourly = data_hourly.join(data_photovoltaic)\n",
    "data_hourly"
   ]
  },
  {
   "cell_type": "code",
   "execution_count": 26,
   "metadata": {},
   "outputs": [
    {
     "data": {
      "application/vnd.plotly.v1+json": {
       "config": {
        "plotlyServerURL": "https://plot.ly"
       },
       "data": [
        {
         "mode": "markers+lines",
         "name": "Irradiância Global Horizontal a Céu Claro(kWh/m²)",
         "type": "scatter",
         "x": [
          "2018-08-01T00:00:00",
          "2018-08-01T01:00:00",
          "2018-08-01T02:00:00",
          "2018-08-01T03:00:00",
          "2018-08-01T04:00:00",
          "2018-08-01T05:00:00",
          "2018-08-01T06:00:00",
          "2018-08-01T07:00:00",
          "2018-08-01T08:00:00",
          "2018-08-01T09:00:00",
          "2018-08-01T10:00:00",
          "2018-08-01T11:00:00",
          "2018-08-01T12:00:00",
          "2018-08-01T13:00:00",
          "2018-08-01T14:00:00",
          "2018-08-01T15:00:00",
          "2018-08-01T16:00:00",
          "2018-08-01T17:00:00",
          "2018-08-01T18:00:00",
          "2018-08-01T19:00:00",
          "2018-08-01T20:00:00",
          "2018-08-01T21:00:00",
          "2018-08-01T22:00:00",
          "2018-08-01T23:00:00"
         ],
         "y": [
          0,
          0,
          0,
          0,
          0,
          0,
          5.65,
          146.65,
          386.45,
          615.55,
          798.77,
          917.27,
          983,
          944.08,
          830.12,
          650.73,
          422.6,
          176.67,
          9.98,
          0,
          0,
          0,
          0,
          0
         ]
        },
        {
         "mode": "markers+lines",
         "name": "Irradiância Global Horizontal para Qualquer Céu (kWh/m^2)",
         "type": "scatter",
         "x": [
          "2018-08-01T00:00:00",
          "2018-08-01T01:00:00",
          "2018-08-01T02:00:00",
          "2018-08-01T03:00:00",
          "2018-08-01T04:00:00",
          "2018-08-01T05:00:00",
          "2018-08-01T06:00:00",
          "2018-08-01T07:00:00",
          "2018-08-01T08:00:00",
          "2018-08-01T09:00:00",
          "2018-08-01T10:00:00",
          "2018-08-01T11:00:00",
          "2018-08-01T12:00:00",
          "2018-08-01T13:00:00",
          "2018-08-01T14:00:00",
          "2018-08-01T15:00:00",
          "2018-08-01T16:00:00",
          "2018-08-01T17:00:00",
          "2018-08-01T18:00:00",
          "2018-08-01T19:00:00",
          "2018-08-01T20:00:00",
          "2018-08-01T21:00:00",
          "2018-08-01T22:00:00",
          "2018-08-01T23:00:00"
         ],
         "y": [
          0,
          0,
          0,
          0,
          0,
          0,
          8.05,
          151.09,
          391.84,
          618.3,
          799.23,
          908.04,
          967.45,
          933.11,
          831.62,
          654.23,
          429.58,
          180.87,
          12.74,
          0,
          0,
          0,
          0,
          0
         ]
        },
        {
         "mode": "markers+lines",
         "name": "Produção de Energia Fotovoltaica (Wh)",
         "type": "scatter",
         "x": [
          "2018-08-01T00:00:00",
          "2018-08-01T01:00:00",
          "2018-08-01T02:00:00",
          "2018-08-01T03:00:00",
          "2018-08-01T04:00:00",
          "2018-08-01T05:00:00",
          "2018-08-01T06:00:00",
          "2018-08-01T07:00:00",
          "2018-08-01T08:00:00",
          "2018-08-01T09:00:00",
          "2018-08-01T10:00:00",
          "2018-08-01T11:00:00",
          "2018-08-01T12:00:00",
          "2018-08-01T13:00:00",
          "2018-08-01T14:00:00",
          "2018-08-01T15:00:00",
          "2018-08-01T16:00:00",
          "2018-08-01T17:00:00",
          "2018-08-01T18:00:00",
          "2018-08-01T19:00:00",
          "2018-08-01T20:00:00",
          "2018-08-01T21:00:00",
          "2018-08-01T22:00:00",
          "2018-08-01T23:00:00"
         ],
         "y": [
          0,
          0,
          0,
          0,
          0,
          3.4699999999999998,
          90.69,
          756,
          1844.4,
          2202.2799999999997,
          2362.33,
          2358.66,
          2213.48,
          1899.03,
          1447.83,
          836.43,
          196.23,
          10.61,
          0,
          0,
          0,
          0,
          0,
          0
         ]
        }
       ],
       "layout": {
        "colorway": [
         "#FF0000",
         "#006400",
         "#000080",
         "#00FF7F",
         "#006400",
         "#B22222",
         "#00BFFF"
        ],
        "font": {
         "color": "black",
         "family": "Rockwell",
         "size": 16
        },
        "hovermode": "x unified",
        "images": [
         {
          "sizex": 0.2,
          "sizey": 0.2,
          "source": "https://raw.githubusercontent.com/LinconRozendo/Imagens_u/master/Multi%20Mapa/cear.png",
          "x": 1.05,
          "xanchor": "right",
          "xref": "paper",
          "y": 1.1,
          "yanchor": "bottom",
          "yref": "paper"
         }
        ],
        "legend": {
         "orientation": "h",
         "title": {
          "text": ""
         },
         "x": 0.05,
         "y": -0.25
        },
        "template": {
         "data": {
          "bar": [
           {
            "error_x": {
             "color": "#2a3f5f"
            },
            "error_y": {
             "color": "#2a3f5f"
            },
            "marker": {
             "line": {
              "color": "white",
              "width": 0.5
             },
             "pattern": {
              "fillmode": "overlay",
              "size": 10,
              "solidity": 0.2
             }
            },
            "type": "bar"
           }
          ],
          "barpolar": [
           {
            "marker": {
             "line": {
              "color": "white",
              "width": 0.5
             },
             "pattern": {
              "fillmode": "overlay",
              "size": 10,
              "solidity": 0.2
             }
            },
            "type": "barpolar"
           }
          ],
          "carpet": [
           {
            "aaxis": {
             "endlinecolor": "#2a3f5f",
             "gridcolor": "#C8D4E3",
             "linecolor": "#C8D4E3",
             "minorgridcolor": "#C8D4E3",
             "startlinecolor": "#2a3f5f"
            },
            "baxis": {
             "endlinecolor": "#2a3f5f",
             "gridcolor": "#C8D4E3",
             "linecolor": "#C8D4E3",
             "minorgridcolor": "#C8D4E3",
             "startlinecolor": "#2a3f5f"
            },
            "type": "carpet"
           }
          ],
          "choropleth": [
           {
            "colorbar": {
             "outlinewidth": 0,
             "ticks": ""
            },
            "type": "choropleth"
           }
          ],
          "contour": [
           {
            "colorbar": {
             "outlinewidth": 0,
             "ticks": ""
            },
            "colorscale": [
             [
              0,
              "#0d0887"
             ],
             [
              0.1111111111111111,
              "#46039f"
             ],
             [
              0.2222222222222222,
              "#7201a8"
             ],
             [
              0.3333333333333333,
              "#9c179e"
             ],
             [
              0.4444444444444444,
              "#bd3786"
             ],
             [
              0.5555555555555556,
              "#d8576b"
             ],
             [
              0.6666666666666666,
              "#ed7953"
             ],
             [
              0.7777777777777778,
              "#fb9f3a"
             ],
             [
              0.8888888888888888,
              "#fdca26"
             ],
             [
              1,
              "#f0f921"
             ]
            ],
            "type": "contour"
           }
          ],
          "contourcarpet": [
           {
            "colorbar": {
             "outlinewidth": 0,
             "ticks": ""
            },
            "type": "contourcarpet"
           }
          ],
          "heatmap": [
           {
            "colorbar": {
             "outlinewidth": 0,
             "ticks": ""
            },
            "colorscale": [
             [
              0,
              "#0d0887"
             ],
             [
              0.1111111111111111,
              "#46039f"
             ],
             [
              0.2222222222222222,
              "#7201a8"
             ],
             [
              0.3333333333333333,
              "#9c179e"
             ],
             [
              0.4444444444444444,
              "#bd3786"
             ],
             [
              0.5555555555555556,
              "#d8576b"
             ],
             [
              0.6666666666666666,
              "#ed7953"
             ],
             [
              0.7777777777777778,
              "#fb9f3a"
             ],
             [
              0.8888888888888888,
              "#fdca26"
             ],
             [
              1,
              "#f0f921"
             ]
            ],
            "type": "heatmap"
           }
          ],
          "heatmapgl": [
           {
            "colorbar": {
             "outlinewidth": 0,
             "ticks": ""
            },
            "colorscale": [
             [
              0,
              "#0d0887"
             ],
             [
              0.1111111111111111,
              "#46039f"
             ],
             [
              0.2222222222222222,
              "#7201a8"
             ],
             [
              0.3333333333333333,
              "#9c179e"
             ],
             [
              0.4444444444444444,
              "#bd3786"
             ],
             [
              0.5555555555555556,
              "#d8576b"
             ],
             [
              0.6666666666666666,
              "#ed7953"
             ],
             [
              0.7777777777777778,
              "#fb9f3a"
             ],
             [
              0.8888888888888888,
              "#fdca26"
             ],
             [
              1,
              "#f0f921"
             ]
            ],
            "type": "heatmapgl"
           }
          ],
          "histogram": [
           {
            "marker": {
             "pattern": {
              "fillmode": "overlay",
              "size": 10,
              "solidity": 0.2
             }
            },
            "type": "histogram"
           }
          ],
          "histogram2d": [
           {
            "colorbar": {
             "outlinewidth": 0,
             "ticks": ""
            },
            "colorscale": [
             [
              0,
              "#0d0887"
             ],
             [
              0.1111111111111111,
              "#46039f"
             ],
             [
              0.2222222222222222,
              "#7201a8"
             ],
             [
              0.3333333333333333,
              "#9c179e"
             ],
             [
              0.4444444444444444,
              "#bd3786"
             ],
             [
              0.5555555555555556,
              "#d8576b"
             ],
             [
              0.6666666666666666,
              "#ed7953"
             ],
             [
              0.7777777777777778,
              "#fb9f3a"
             ],
             [
              0.8888888888888888,
              "#fdca26"
             ],
             [
              1,
              "#f0f921"
             ]
            ],
            "type": "histogram2d"
           }
          ],
          "histogram2dcontour": [
           {
            "colorbar": {
             "outlinewidth": 0,
             "ticks": ""
            },
            "colorscale": [
             [
              0,
              "#0d0887"
             ],
             [
              0.1111111111111111,
              "#46039f"
             ],
             [
              0.2222222222222222,
              "#7201a8"
             ],
             [
              0.3333333333333333,
              "#9c179e"
             ],
             [
              0.4444444444444444,
              "#bd3786"
             ],
             [
              0.5555555555555556,
              "#d8576b"
             ],
             [
              0.6666666666666666,
              "#ed7953"
             ],
             [
              0.7777777777777778,
              "#fb9f3a"
             ],
             [
              0.8888888888888888,
              "#fdca26"
             ],
             [
              1,
              "#f0f921"
             ]
            ],
            "type": "histogram2dcontour"
           }
          ],
          "mesh3d": [
           {
            "colorbar": {
             "outlinewidth": 0,
             "ticks": ""
            },
            "type": "mesh3d"
           }
          ],
          "parcoords": [
           {
            "line": {
             "colorbar": {
              "outlinewidth": 0,
              "ticks": ""
             }
            },
            "type": "parcoords"
           }
          ],
          "pie": [
           {
            "automargin": true,
            "type": "pie"
           }
          ],
          "scatter": [
           {
            "fillpattern": {
             "fillmode": "overlay",
             "size": 10,
             "solidity": 0.2
            },
            "type": "scatter"
           }
          ],
          "scatter3d": [
           {
            "line": {
             "colorbar": {
              "outlinewidth": 0,
              "ticks": ""
             }
            },
            "marker": {
             "colorbar": {
              "outlinewidth": 0,
              "ticks": ""
             }
            },
            "type": "scatter3d"
           }
          ],
          "scattercarpet": [
           {
            "marker": {
             "colorbar": {
              "outlinewidth": 0,
              "ticks": ""
             }
            },
            "type": "scattercarpet"
           }
          ],
          "scattergeo": [
           {
            "marker": {
             "colorbar": {
              "outlinewidth": 0,
              "ticks": ""
             }
            },
            "type": "scattergeo"
           }
          ],
          "scattergl": [
           {
            "marker": {
             "colorbar": {
              "outlinewidth": 0,
              "ticks": ""
             }
            },
            "type": "scattergl"
           }
          ],
          "scattermapbox": [
           {
            "marker": {
             "colorbar": {
              "outlinewidth": 0,
              "ticks": ""
             }
            },
            "type": "scattermapbox"
           }
          ],
          "scatterpolar": [
           {
            "marker": {
             "colorbar": {
              "outlinewidth": 0,
              "ticks": ""
             }
            },
            "type": "scatterpolar"
           }
          ],
          "scatterpolargl": [
           {
            "marker": {
             "colorbar": {
              "outlinewidth": 0,
              "ticks": ""
             }
            },
            "type": "scatterpolargl"
           }
          ],
          "scatterternary": [
           {
            "marker": {
             "colorbar": {
              "outlinewidth": 0,
              "ticks": ""
             }
            },
            "type": "scatterternary"
           }
          ],
          "surface": [
           {
            "colorbar": {
             "outlinewidth": 0,
             "ticks": ""
            },
            "colorscale": [
             [
              0,
              "#0d0887"
             ],
             [
              0.1111111111111111,
              "#46039f"
             ],
             [
              0.2222222222222222,
              "#7201a8"
             ],
             [
              0.3333333333333333,
              "#9c179e"
             ],
             [
              0.4444444444444444,
              "#bd3786"
             ],
             [
              0.5555555555555556,
              "#d8576b"
             ],
             [
              0.6666666666666666,
              "#ed7953"
             ],
             [
              0.7777777777777778,
              "#fb9f3a"
             ],
             [
              0.8888888888888888,
              "#fdca26"
             ],
             [
              1,
              "#f0f921"
             ]
            ],
            "type": "surface"
           }
          ],
          "table": [
           {
            "cells": {
             "fill": {
              "color": "#EBF0F8"
             },
             "line": {
              "color": "white"
             }
            },
            "header": {
             "fill": {
              "color": "#C8D4E3"
             },
             "line": {
              "color": "white"
             }
            },
            "type": "table"
           }
          ]
         },
         "layout": {
          "annotationdefaults": {
           "arrowcolor": "#2a3f5f",
           "arrowhead": 0,
           "arrowwidth": 1
          },
          "autotypenumbers": "strict",
          "coloraxis": {
           "colorbar": {
            "outlinewidth": 0,
            "ticks": ""
           }
          },
          "colorscale": {
           "diverging": [
            [
             0,
             "#8e0152"
            ],
            [
             0.1,
             "#c51b7d"
            ],
            [
             0.2,
             "#de77ae"
            ],
            [
             0.3,
             "#f1b6da"
            ],
            [
             0.4,
             "#fde0ef"
            ],
            [
             0.5,
             "#f7f7f7"
            ],
            [
             0.6,
             "#e6f5d0"
            ],
            [
             0.7,
             "#b8e186"
            ],
            [
             0.8,
             "#7fbc41"
            ],
            [
             0.9,
             "#4d9221"
            ],
            [
             1,
             "#276419"
            ]
           ],
           "sequential": [
            [
             0,
             "#0d0887"
            ],
            [
             0.1111111111111111,
             "#46039f"
            ],
            [
             0.2222222222222222,
             "#7201a8"
            ],
            [
             0.3333333333333333,
             "#9c179e"
            ],
            [
             0.4444444444444444,
             "#bd3786"
            ],
            [
             0.5555555555555556,
             "#d8576b"
            ],
            [
             0.6666666666666666,
             "#ed7953"
            ],
            [
             0.7777777777777778,
             "#fb9f3a"
            ],
            [
             0.8888888888888888,
             "#fdca26"
            ],
            [
             1,
             "#f0f921"
            ]
           ],
           "sequentialminus": [
            [
             0,
             "#0d0887"
            ],
            [
             0.1111111111111111,
             "#46039f"
            ],
            [
             0.2222222222222222,
             "#7201a8"
            ],
            [
             0.3333333333333333,
             "#9c179e"
            ],
            [
             0.4444444444444444,
             "#bd3786"
            ],
            [
             0.5555555555555556,
             "#d8576b"
            ],
            [
             0.6666666666666666,
             "#ed7953"
            ],
            [
             0.7777777777777778,
             "#fb9f3a"
            ],
            [
             0.8888888888888888,
             "#fdca26"
            ],
            [
             1,
             "#f0f921"
            ]
           ]
          },
          "colorway": [
           "#636efa",
           "#EF553B",
           "#00cc96",
           "#ab63fa",
           "#FFA15A",
           "#19d3f3",
           "#FF6692",
           "#B6E880",
           "#FF97FF",
           "#FECB52"
          ],
          "font": {
           "color": "#2a3f5f"
          },
          "geo": {
           "bgcolor": "white",
           "lakecolor": "white",
           "landcolor": "white",
           "showlakes": true,
           "showland": true,
           "subunitcolor": "#C8D4E3"
          },
          "hoverlabel": {
           "align": "left"
          },
          "hovermode": "closest",
          "mapbox": {
           "style": "light"
          },
          "paper_bgcolor": "white",
          "plot_bgcolor": "white",
          "polar": {
           "angularaxis": {
            "gridcolor": "#EBF0F8",
            "linecolor": "#EBF0F8",
            "ticks": ""
           },
           "bgcolor": "white",
           "radialaxis": {
            "gridcolor": "#EBF0F8",
            "linecolor": "#EBF0F8",
            "ticks": ""
           }
          },
          "scene": {
           "xaxis": {
            "backgroundcolor": "white",
            "gridcolor": "#DFE8F3",
            "gridwidth": 2,
            "linecolor": "#EBF0F8",
            "showbackground": true,
            "ticks": "",
            "zerolinecolor": "#EBF0F8"
           },
           "yaxis": {
            "backgroundcolor": "white",
            "gridcolor": "#DFE8F3",
            "gridwidth": 2,
            "linecolor": "#EBF0F8",
            "showbackground": true,
            "ticks": "",
            "zerolinecolor": "#EBF0F8"
           },
           "zaxis": {
            "backgroundcolor": "white",
            "gridcolor": "#DFE8F3",
            "gridwidth": 2,
            "linecolor": "#EBF0F8",
            "showbackground": true,
            "ticks": "",
            "zerolinecolor": "#EBF0F8"
           }
          },
          "shapedefaults": {
           "line": {
            "color": "#2a3f5f"
           }
          },
          "ternary": {
           "aaxis": {
            "gridcolor": "#DFE8F3",
            "linecolor": "#A2B1C6",
            "ticks": ""
           },
           "baxis": {
            "gridcolor": "#DFE8F3",
            "linecolor": "#A2B1C6",
            "ticks": ""
           },
           "bgcolor": "white",
           "caxis": {
            "gridcolor": "#DFE8F3",
            "linecolor": "#A2B1C6",
            "ticks": ""
           }
          },
          "title": {
           "x": 0.05
          },
          "xaxis": {
           "automargin": true,
           "gridcolor": "#EBF0F8",
           "linecolor": "#EBF0F8",
           "ticks": "",
           "title": {
            "standoff": 15
           },
           "zerolinecolor": "#EBF0F8",
           "zerolinewidth": 2
          },
          "yaxis": {
           "automargin": true,
           "gridcolor": "#EBF0F8",
           "linecolor": "#EBF0F8",
           "ticks": "",
           "title": {
            "standoff": 15
           },
           "zerolinecolor": "#EBF0F8",
           "zerolinewidth": 2
          }
         }
        },
        "title": {
         "text": "Figura 4 - Irradiância Global Horizontal a Céu Claro vs Qualquer Céu no dia 22/8/2018",
         "x": 0.5,
         "xanchor": "center",
         "y": 0.93,
         "yanchor": "top"
        },
        "xaxis": {
         "tickformat": "%H:%M",
         "ticksuffix": "",
         "title": {
          "text": "Hora"
         }
        },
        "yaxis": {
         "ticksuffix": "",
         "title": {
          "text": "Energia"
         }
        }
       }
      }
     },
     "metadata": {},
     "output_type": "display_data"
    }
   ],
   "source": [
    "trace1 = go.Scatter(x = data_hourly.index[0:24], # eixo x \n",
    "                    y = data_hourly['Irradiância Global Horizontal a Céu Claro(kWh/m²)'][504:528], # eixo y\n",
    "                    mode = 'markers+lines', # tipo do gráfico: marcador em linhas\n",
    "                    name = 'Irradiância Global Horizontal a Céu Claro(kWh/m²)') # legenda do objeto trace\n",
    "\n",
    "trace2 = go.Scatter(x = data_hourly.index[0:24], # eixo x \n",
    "                    y = data_hourly['Irradiância Global Horizontal para Qualquer Céu (kWh/m^2)'][504:528], # eixo y\n",
    "                    mode = 'markers+lines', # tipo do gráfico: marcador em linhas\n",
    "                    name = 'Irradiância Global Horizontal para Qualquer Céu (kWh/m^2)') # legenda do objeto trace\n",
    "\n",
    "trace3 = go.Scatter(x = data_hourly.index[0:24], # eixo x \n",
    "                    y = data_hourly['Energia (Wh)'][504:528], # eixo y\n",
    "                    mode = 'markers+lines', # tipo do gráfico: marcador em linhas\n",
    "                    name = 'Produção de Energia Fotovoltaica (Wh)') # legenda do objeto trace\n",
    "\n",
    "# cria uma lista com os trace's\n",
    "data = [trace1, trace2, trace3]\n",
    "\n",
    "# cria um objeto layout para por em um gráfico\n",
    "layout = go.Layout(title=\"Teste\",yaxis={'title':'Energia'},xaxis={'title': 'Hora'}, \n",
    "                    font = {'family': 'Rockwell','size': 16,'color': 'black'},\n",
    "                    colorway = ['#FF0000', '#006400', '#000080', '#00FF7F','#006400', '#B22222', '#00BFFF'])\n",
    "\n",
    "# cria um gráfico através do objeto figure com os dados da lista com os traces e o layout acima\n",
    "fig = go.Figure(data=data, layout=layout)\n",
    "\n",
    "# atualiza o gráfico, objeto figure, informando uma alteração no layout, esta alteração muda o range do eixo X,\n",
    "# o formato de como será exibido esses dados do eixo X, o tema ,a legenda e o título do gráfico.\n",
    "# seleciona o mode hovermode.\n",
    "fig.update_layout(xaxis_tickformat = '%H:%M',\n",
    "                    template = 'plotly_white',\n",
    "                    legend_title=\"\",\n",
    "                    legend_orientation=\"h\",\n",
    "                    legend={\n",
    "                        'x': 0.05,\n",
    "                        'y': -0.25,\n",
    "                    },\n",
    "                    title={\n",
    "                        'text': \"Figura 4 - Irradiância Global Horizontal a Céu Claro vs Qualquer Céu no dia 22/8/2018\",\n",
    "                        'y':0.93,\n",
    "                        'x':0.5,\n",
    "                        'xanchor': 'center',\n",
    "                        'yanchor': 'top'},\n",
    "                    hovermode=(\"x unified\"))\n",
    "fig.update_yaxes(ticksuffix=\"\") \n",
    "fig.update_xaxes(ticksuffix=\"\")                     # selecionando um sufixo para os dados no eixo Y\n",
    "\n",
    "# comando utilizado para adicionar uma imagem ao gráfico\n",
    "fig.add_layout_image(\n",
    "    dict(\n",
    "        source=\"https://raw.githubusercontent.com/LinconRozendo/Imagens_u/master/Multi%20Mapa/cear.png\",\n",
    "        xref=\"paper\", yref=\"paper\",\n",
    "        x=1.05, y=1.1,\n",
    "        sizex=0.2, sizey=0.2,\n",
    "        xanchor=\"right\", yanchor=\"bottom\"\n",
    "        )\n",
    "    )\n",
    "    \n",
    "# retorna a exibição do gráfico criado\n",
    "fig.show()"
   ]
  },
  {
   "cell_type": "code",
   "execution_count": 27,
   "metadata": {},
   "outputs": [
    {
     "data": {
      "text/html": [
       "<div>\n",
       "<style scoped>\n",
       "    .dataframe tbody tr th:only-of-type {\n",
       "        vertical-align: middle;\n",
       "    }\n",
       "\n",
       "    .dataframe tbody tr th {\n",
       "        vertical-align: top;\n",
       "    }\n",
       "\n",
       "    .dataframe thead th {\n",
       "        text-align: right;\n",
       "    }\n",
       "</style>\n",
       "<table border=\"1\" class=\"dataframe\">\n",
       "  <thead>\n",
       "    <tr style=\"text-align: right;\">\n",
       "      <th></th>\n",
       "      <th>kt</th>\n",
       "      <th>Temperatura a 2 metros (°C)</th>\n",
       "      <th>Umidade Relativa a 2 metros (%)</th>\n",
       "      <th>Irradiância Global Horizontal a Céu Claro(kWh/m²)</th>\n",
       "      <th>Irradiância Global Horizontal para Qualquer Céu (kWh/m^2)</th>\n",
       "      <th>Energia (Wh)</th>\n",
       "    </tr>\n",
       "    <tr>\n",
       "      <th>Date</th>\n",
       "      <th></th>\n",
       "      <th></th>\n",
       "      <th></th>\n",
       "      <th></th>\n",
       "      <th></th>\n",
       "      <th></th>\n",
       "    </tr>\n",
       "  </thead>\n",
       "  <tbody>\n",
       "    <tr>\n",
       "      <th>2018-08-01</th>\n",
       "      <td>0.288750</td>\n",
       "      <td>28.672083</td>\n",
       "      <td>53.761250</td>\n",
       "      <td>6415.55</td>\n",
       "      <td>5638.79</td>\n",
       "      <td>15031.41</td>\n",
       "    </tr>\n",
       "    <tr>\n",
       "      <th>2018-08-02</th>\n",
       "      <td>0.297500</td>\n",
       "      <td>28.487500</td>\n",
       "      <td>50.562083</td>\n",
       "      <td>6424.21</td>\n",
       "      <td>5678.10</td>\n",
       "      <td>12754.93</td>\n",
       "    </tr>\n",
       "    <tr>\n",
       "      <th>2018-08-03</th>\n",
       "      <td>0.338750</td>\n",
       "      <td>27.872917</td>\n",
       "      <td>46.375000</td>\n",
       "      <td>6683.66</td>\n",
       "      <td>6651.71</td>\n",
       "      <td>16581.87</td>\n",
       "    </tr>\n",
       "    <tr>\n",
       "      <th>2018-08-04</th>\n",
       "      <td>0.314167</td>\n",
       "      <td>28.124583</td>\n",
       "      <td>47.484167</td>\n",
       "      <td>6641.93</td>\n",
       "      <td>6156.04</td>\n",
       "      <td>15573.27</td>\n",
       "    </tr>\n",
       "    <tr>\n",
       "      <th>2018-08-05</th>\n",
       "      <td>0.328750</td>\n",
       "      <td>29.085000</td>\n",
       "      <td>50.660000</td>\n",
       "      <td>6594.66</td>\n",
       "      <td>6491.30</td>\n",
       "      <td>16056.71</td>\n",
       "    </tr>\n",
       "    <tr>\n",
       "      <th>...</th>\n",
       "      <td>...</td>\n",
       "      <td>...</td>\n",
       "      <td>...</td>\n",
       "      <td>...</td>\n",
       "      <td>...</td>\n",
       "      <td>...</td>\n",
       "    </tr>\n",
       "    <tr>\n",
       "      <th>2021-02-20</th>\n",
       "      <td>0.307083</td>\n",
       "      <td>28.108333</td>\n",
       "      <td>66.469583</td>\n",
       "      <td>7491.07</td>\n",
       "      <td>6674.68</td>\n",
       "      <td>14190.33</td>\n",
       "    </tr>\n",
       "    <tr>\n",
       "      <th>2021-02-21</th>\n",
       "      <td>0.286667</td>\n",
       "      <td>29.076250</td>\n",
       "      <td>61.997500</td>\n",
       "      <td>7573.26</td>\n",
       "      <td>6237.11</td>\n",
       "      <td>13645.42</td>\n",
       "    </tr>\n",
       "    <tr>\n",
       "      <th>2021-02-22</th>\n",
       "      <td>0.336250</td>\n",
       "      <td>29.329583</td>\n",
       "      <td>58.138333</td>\n",
       "      <td>7705.41</td>\n",
       "      <td>7431.68</td>\n",
       "      <td>16692.07</td>\n",
       "    </tr>\n",
       "    <tr>\n",
       "      <th>2021-02-23</th>\n",
       "      <td>0.310417</td>\n",
       "      <td>28.752500</td>\n",
       "      <td>61.565417</td>\n",
       "      <td>7605.12</td>\n",
       "      <td>6850.78</td>\n",
       "      <td>16298.16</td>\n",
       "    </tr>\n",
       "    <tr>\n",
       "      <th>2021-02-24</th>\n",
       "      <td>0.357222</td>\n",
       "      <td>28.205000</td>\n",
       "      <td>69.529444</td>\n",
       "      <td>7332.96</td>\n",
       "      <td>6179.65</td>\n",
       "      <td>13938.13</td>\n",
       "    </tr>\n",
       "  </tbody>\n",
       "</table>\n",
       "<p>939 rows × 6 columns</p>\n",
       "</div>"
      ],
      "text/plain": [
       "                  kt  Temperatura a 2 metros (°C)  \\\n",
       "Date                                                \n",
       "2018-08-01  0.288750                    28.672083   \n",
       "2018-08-02  0.297500                    28.487500   \n",
       "2018-08-03  0.338750                    27.872917   \n",
       "2018-08-04  0.314167                    28.124583   \n",
       "2018-08-05  0.328750                    29.085000   \n",
       "...              ...                          ...   \n",
       "2021-02-20  0.307083                    28.108333   \n",
       "2021-02-21  0.286667                    29.076250   \n",
       "2021-02-22  0.336250                    29.329583   \n",
       "2021-02-23  0.310417                    28.752500   \n",
       "2021-02-24  0.357222                    28.205000   \n",
       "\n",
       "            Umidade Relativa a 2 metros (%)  \\\n",
       "Date                                          \n",
       "2018-08-01                        53.761250   \n",
       "2018-08-02                        50.562083   \n",
       "2018-08-03                        46.375000   \n",
       "2018-08-04                        47.484167   \n",
       "2018-08-05                        50.660000   \n",
       "...                                     ...   \n",
       "2021-02-20                        66.469583   \n",
       "2021-02-21                        61.997500   \n",
       "2021-02-22                        58.138333   \n",
       "2021-02-23                        61.565417   \n",
       "2021-02-24                        69.529444   \n",
       "\n",
       "            Irradiância Global Horizontal a Céu Claro(kWh/m²)  \\\n",
       "Date                                                            \n",
       "2018-08-01                                            6415.55   \n",
       "2018-08-02                                            6424.21   \n",
       "2018-08-03                                            6683.66   \n",
       "2018-08-04                                            6641.93   \n",
       "2018-08-05                                            6594.66   \n",
       "...                                                       ...   \n",
       "2021-02-20                                            7491.07   \n",
       "2021-02-21                                            7573.26   \n",
       "2021-02-22                                            7705.41   \n",
       "2021-02-23                                            7605.12   \n",
       "2021-02-24                                            7332.96   \n",
       "\n",
       "            Irradiância Global Horizontal para Qualquer Céu (kWh/m^2)  \\\n",
       "Date                                                                    \n",
       "2018-08-01                                            5638.79           \n",
       "2018-08-02                                            5678.10           \n",
       "2018-08-03                                            6651.71           \n",
       "2018-08-04                                            6156.04           \n",
       "2018-08-05                                            6491.30           \n",
       "...                                                       ...           \n",
       "2021-02-20                                            6674.68           \n",
       "2021-02-21                                            6237.11           \n",
       "2021-02-22                                            7431.68           \n",
       "2021-02-23                                            6850.78           \n",
       "2021-02-24                                            6179.65           \n",
       "\n",
       "            Energia (Wh)  \n",
       "Date                      \n",
       "2018-08-01      15031.41  \n",
       "2018-08-02      12754.93  \n",
       "2018-08-03      16581.87  \n",
       "2018-08-04      15573.27  \n",
       "2018-08-05      16056.71  \n",
       "...                  ...  \n",
       "2021-02-20      14190.33  \n",
       "2021-02-21      13645.42  \n",
       "2021-02-22      16692.07  \n",
       "2021-02-23      16298.16  \n",
       "2021-02-24      13938.13  \n",
       "\n",
       "[939 rows x 6 columns]"
      ]
     },
     "execution_count": 27,
     "metadata": {},
     "output_type": "execute_result"
    }
   ],
   "source": [
    "## Transformando dados horários em diários \n",
    "\n",
    "data_daily_part1 = data_hourly[data_hourly.columns[[0, 3, 4]]].resample('D').mean()\n",
    "data_daily_part2 = data_hourly[data_hourly.columns[[1, 2, 5]]].resample('D').sum()\n",
    "data_daily = pd.concat([data_daily_part1, data_daily_part2], axis=1)\n",
    "data_daily"
   ]
  },
  {
   "cell_type": "code",
   "execution_count": 28,
   "metadata": {},
   "outputs": [
    {
     "data": {
      "application/vnd.plotly.v1+json": {
       "config": {
        "plotlyServerURL": "https://plot.ly"
       },
       "data": [
        {
         "mode": "markers+lines",
         "name": "Energia por hora",
         "type": "scatter",
         "x": [
          "2018-08-01T00:00:00",
          "2018-08-02T00:00:00",
          "2018-08-03T00:00:00",
          "2018-08-04T00:00:00",
          "2018-08-05T00:00:00",
          "2018-08-06T00:00:00",
          "2018-08-07T00:00:00",
          "2018-08-08T00:00:00",
          "2018-08-09T00:00:00",
          "2018-08-10T00:00:00",
          "2018-08-11T00:00:00",
          "2018-08-12T00:00:00",
          "2018-08-13T00:00:00",
          "2018-08-14T00:00:00",
          "2018-08-15T00:00:00",
          "2018-08-16T00:00:00",
          "2018-08-17T00:00:00",
          "2018-08-18T00:00:00",
          "2018-08-19T00:00:00",
          "2018-08-20T00:00:00",
          "2018-08-21T00:00:00",
          "2018-08-22T00:00:00",
          "2018-08-23T00:00:00",
          "2018-08-24T00:00:00"
         ],
         "y": [
          12587.5,
          12272.37,
          11969.71,
          4457.95,
          1078.99,
          12306.22,
          11062.13,
          1321.45,
          12075.23,
          12068.92,
          7670.28,
          4529.74,
          7068.47,
          9408.15,
          1037.21,
          10701.12,
          12005.02,
          9852.83,
          11176.2,
          11990.92,
          12983.37,
          9913.539999999999,
          12469.93,
          10644.51
         ]
        }
       ],
       "layout": {
        "colorway": [
         "#B22222",
         "#00FF7F",
         "#FF0000",
         "#006400",
         "#000080",
         "#00BFFF"
        ],
        "font": {
         "color": "black",
         "family": "Rockwell",
         "size": 16
        },
        "hovermode": "x unified",
        "images": [
         {
          "sizex": 0.2,
          "sizey": 0.2,
          "source": "https://raw.githubusercontent.com/LinconRozendo/Imagens_u/master/Multi%20Mapa/cear.png",
          "x": 1.05,
          "xanchor": "right",
          "xref": "paper",
          "y": 1.1,
          "yanchor": "bottom",
          "yref": "paper"
         }
        ],
        "legend": {
         "orientation": "h",
         "title": {
          "text": ""
         },
         "x": 0.05,
         "y": -0.25
        },
        "template": {
         "data": {
          "bar": [
           {
            "error_x": {
             "color": "#2a3f5f"
            },
            "error_y": {
             "color": "#2a3f5f"
            },
            "marker": {
             "line": {
              "color": "white",
              "width": 0.5
             },
             "pattern": {
              "fillmode": "overlay",
              "size": 10,
              "solidity": 0.2
             }
            },
            "type": "bar"
           }
          ],
          "barpolar": [
           {
            "marker": {
             "line": {
              "color": "white",
              "width": 0.5
             },
             "pattern": {
              "fillmode": "overlay",
              "size": 10,
              "solidity": 0.2
             }
            },
            "type": "barpolar"
           }
          ],
          "carpet": [
           {
            "aaxis": {
             "endlinecolor": "#2a3f5f",
             "gridcolor": "#C8D4E3",
             "linecolor": "#C8D4E3",
             "minorgridcolor": "#C8D4E3",
             "startlinecolor": "#2a3f5f"
            },
            "baxis": {
             "endlinecolor": "#2a3f5f",
             "gridcolor": "#C8D4E3",
             "linecolor": "#C8D4E3",
             "minorgridcolor": "#C8D4E3",
             "startlinecolor": "#2a3f5f"
            },
            "type": "carpet"
           }
          ],
          "choropleth": [
           {
            "colorbar": {
             "outlinewidth": 0,
             "ticks": ""
            },
            "type": "choropleth"
           }
          ],
          "contour": [
           {
            "colorbar": {
             "outlinewidth": 0,
             "ticks": ""
            },
            "colorscale": [
             [
              0,
              "#0d0887"
             ],
             [
              0.1111111111111111,
              "#46039f"
             ],
             [
              0.2222222222222222,
              "#7201a8"
             ],
             [
              0.3333333333333333,
              "#9c179e"
             ],
             [
              0.4444444444444444,
              "#bd3786"
             ],
             [
              0.5555555555555556,
              "#d8576b"
             ],
             [
              0.6666666666666666,
              "#ed7953"
             ],
             [
              0.7777777777777778,
              "#fb9f3a"
             ],
             [
              0.8888888888888888,
              "#fdca26"
             ],
             [
              1,
              "#f0f921"
             ]
            ],
            "type": "contour"
           }
          ],
          "contourcarpet": [
           {
            "colorbar": {
             "outlinewidth": 0,
             "ticks": ""
            },
            "type": "contourcarpet"
           }
          ],
          "heatmap": [
           {
            "colorbar": {
             "outlinewidth": 0,
             "ticks": ""
            },
            "colorscale": [
             [
              0,
              "#0d0887"
             ],
             [
              0.1111111111111111,
              "#46039f"
             ],
             [
              0.2222222222222222,
              "#7201a8"
             ],
             [
              0.3333333333333333,
              "#9c179e"
             ],
             [
              0.4444444444444444,
              "#bd3786"
             ],
             [
              0.5555555555555556,
              "#d8576b"
             ],
             [
              0.6666666666666666,
              "#ed7953"
             ],
             [
              0.7777777777777778,
              "#fb9f3a"
             ],
             [
              0.8888888888888888,
              "#fdca26"
             ],
             [
              1,
              "#f0f921"
             ]
            ],
            "type": "heatmap"
           }
          ],
          "heatmapgl": [
           {
            "colorbar": {
             "outlinewidth": 0,
             "ticks": ""
            },
            "colorscale": [
             [
              0,
              "#0d0887"
             ],
             [
              0.1111111111111111,
              "#46039f"
             ],
             [
              0.2222222222222222,
              "#7201a8"
             ],
             [
              0.3333333333333333,
              "#9c179e"
             ],
             [
              0.4444444444444444,
              "#bd3786"
             ],
             [
              0.5555555555555556,
              "#d8576b"
             ],
             [
              0.6666666666666666,
              "#ed7953"
             ],
             [
              0.7777777777777778,
              "#fb9f3a"
             ],
             [
              0.8888888888888888,
              "#fdca26"
             ],
             [
              1,
              "#f0f921"
             ]
            ],
            "type": "heatmapgl"
           }
          ],
          "histogram": [
           {
            "marker": {
             "pattern": {
              "fillmode": "overlay",
              "size": 10,
              "solidity": 0.2
             }
            },
            "type": "histogram"
           }
          ],
          "histogram2d": [
           {
            "colorbar": {
             "outlinewidth": 0,
             "ticks": ""
            },
            "colorscale": [
             [
              0,
              "#0d0887"
             ],
             [
              0.1111111111111111,
              "#46039f"
             ],
             [
              0.2222222222222222,
              "#7201a8"
             ],
             [
              0.3333333333333333,
              "#9c179e"
             ],
             [
              0.4444444444444444,
              "#bd3786"
             ],
             [
              0.5555555555555556,
              "#d8576b"
             ],
             [
              0.6666666666666666,
              "#ed7953"
             ],
             [
              0.7777777777777778,
              "#fb9f3a"
             ],
             [
              0.8888888888888888,
              "#fdca26"
             ],
             [
              1,
              "#f0f921"
             ]
            ],
            "type": "histogram2d"
           }
          ],
          "histogram2dcontour": [
           {
            "colorbar": {
             "outlinewidth": 0,
             "ticks": ""
            },
            "colorscale": [
             [
              0,
              "#0d0887"
             ],
             [
              0.1111111111111111,
              "#46039f"
             ],
             [
              0.2222222222222222,
              "#7201a8"
             ],
             [
              0.3333333333333333,
              "#9c179e"
             ],
             [
              0.4444444444444444,
              "#bd3786"
             ],
             [
              0.5555555555555556,
              "#d8576b"
             ],
             [
              0.6666666666666666,
              "#ed7953"
             ],
             [
              0.7777777777777778,
              "#fb9f3a"
             ],
             [
              0.8888888888888888,
              "#fdca26"
             ],
             [
              1,
              "#f0f921"
             ]
            ],
            "type": "histogram2dcontour"
           }
          ],
          "mesh3d": [
           {
            "colorbar": {
             "outlinewidth": 0,
             "ticks": ""
            },
            "type": "mesh3d"
           }
          ],
          "parcoords": [
           {
            "line": {
             "colorbar": {
              "outlinewidth": 0,
              "ticks": ""
             }
            },
            "type": "parcoords"
           }
          ],
          "pie": [
           {
            "automargin": true,
            "type": "pie"
           }
          ],
          "scatter": [
           {
            "fillpattern": {
             "fillmode": "overlay",
             "size": 10,
             "solidity": 0.2
            },
            "type": "scatter"
           }
          ],
          "scatter3d": [
           {
            "line": {
             "colorbar": {
              "outlinewidth": 0,
              "ticks": ""
             }
            },
            "marker": {
             "colorbar": {
              "outlinewidth": 0,
              "ticks": ""
             }
            },
            "type": "scatter3d"
           }
          ],
          "scattercarpet": [
           {
            "marker": {
             "colorbar": {
              "outlinewidth": 0,
              "ticks": ""
             }
            },
            "type": "scattercarpet"
           }
          ],
          "scattergeo": [
           {
            "marker": {
             "colorbar": {
              "outlinewidth": 0,
              "ticks": ""
             }
            },
            "type": "scattergeo"
           }
          ],
          "scattergl": [
           {
            "marker": {
             "colorbar": {
              "outlinewidth": 0,
              "ticks": ""
             }
            },
            "type": "scattergl"
           }
          ],
          "scattermapbox": [
           {
            "marker": {
             "colorbar": {
              "outlinewidth": 0,
              "ticks": ""
             }
            },
            "type": "scattermapbox"
           }
          ],
          "scatterpolar": [
           {
            "marker": {
             "colorbar": {
              "outlinewidth": 0,
              "ticks": ""
             }
            },
            "type": "scatterpolar"
           }
          ],
          "scatterpolargl": [
           {
            "marker": {
             "colorbar": {
              "outlinewidth": 0,
              "ticks": ""
             }
            },
            "type": "scatterpolargl"
           }
          ],
          "scatterternary": [
           {
            "marker": {
             "colorbar": {
              "outlinewidth": 0,
              "ticks": ""
             }
            },
            "type": "scatterternary"
           }
          ],
          "surface": [
           {
            "colorbar": {
             "outlinewidth": 0,
             "ticks": ""
            },
            "colorscale": [
             [
              0,
              "#0d0887"
             ],
             [
              0.1111111111111111,
              "#46039f"
             ],
             [
              0.2222222222222222,
              "#7201a8"
             ],
             [
              0.3333333333333333,
              "#9c179e"
             ],
             [
              0.4444444444444444,
              "#bd3786"
             ],
             [
              0.5555555555555556,
              "#d8576b"
             ],
             [
              0.6666666666666666,
              "#ed7953"
             ],
             [
              0.7777777777777778,
              "#fb9f3a"
             ],
             [
              0.8888888888888888,
              "#fdca26"
             ],
             [
              1,
              "#f0f921"
             ]
            ],
            "type": "surface"
           }
          ],
          "table": [
           {
            "cells": {
             "fill": {
              "color": "#EBF0F8"
             },
             "line": {
              "color": "white"
             }
            },
            "header": {
             "fill": {
              "color": "#C8D4E3"
             },
             "line": {
              "color": "white"
             }
            },
            "type": "table"
           }
          ]
         },
         "layout": {
          "annotationdefaults": {
           "arrowcolor": "#2a3f5f",
           "arrowhead": 0,
           "arrowwidth": 1
          },
          "autotypenumbers": "strict",
          "coloraxis": {
           "colorbar": {
            "outlinewidth": 0,
            "ticks": ""
           }
          },
          "colorscale": {
           "diverging": [
            [
             0,
             "#8e0152"
            ],
            [
             0.1,
             "#c51b7d"
            ],
            [
             0.2,
             "#de77ae"
            ],
            [
             0.3,
             "#f1b6da"
            ],
            [
             0.4,
             "#fde0ef"
            ],
            [
             0.5,
             "#f7f7f7"
            ],
            [
             0.6,
             "#e6f5d0"
            ],
            [
             0.7,
             "#b8e186"
            ],
            [
             0.8,
             "#7fbc41"
            ],
            [
             0.9,
             "#4d9221"
            ],
            [
             1,
             "#276419"
            ]
           ],
           "sequential": [
            [
             0,
             "#0d0887"
            ],
            [
             0.1111111111111111,
             "#46039f"
            ],
            [
             0.2222222222222222,
             "#7201a8"
            ],
            [
             0.3333333333333333,
             "#9c179e"
            ],
            [
             0.4444444444444444,
             "#bd3786"
            ],
            [
             0.5555555555555556,
             "#d8576b"
            ],
            [
             0.6666666666666666,
             "#ed7953"
            ],
            [
             0.7777777777777778,
             "#fb9f3a"
            ],
            [
             0.8888888888888888,
             "#fdca26"
            ],
            [
             1,
             "#f0f921"
            ]
           ],
           "sequentialminus": [
            [
             0,
             "#0d0887"
            ],
            [
             0.1111111111111111,
             "#46039f"
            ],
            [
             0.2222222222222222,
             "#7201a8"
            ],
            [
             0.3333333333333333,
             "#9c179e"
            ],
            [
             0.4444444444444444,
             "#bd3786"
            ],
            [
             0.5555555555555556,
             "#d8576b"
            ],
            [
             0.6666666666666666,
             "#ed7953"
            ],
            [
             0.7777777777777778,
             "#fb9f3a"
            ],
            [
             0.8888888888888888,
             "#fdca26"
            ],
            [
             1,
             "#f0f921"
            ]
           ]
          },
          "colorway": [
           "#636efa",
           "#EF553B",
           "#00cc96",
           "#ab63fa",
           "#FFA15A",
           "#19d3f3",
           "#FF6692",
           "#B6E880",
           "#FF97FF",
           "#FECB52"
          ],
          "font": {
           "color": "#2a3f5f"
          },
          "geo": {
           "bgcolor": "white",
           "lakecolor": "white",
           "landcolor": "white",
           "showlakes": true,
           "showland": true,
           "subunitcolor": "#C8D4E3"
          },
          "hoverlabel": {
           "align": "left"
          },
          "hovermode": "closest",
          "mapbox": {
           "style": "light"
          },
          "paper_bgcolor": "white",
          "plot_bgcolor": "white",
          "polar": {
           "angularaxis": {
            "gridcolor": "#EBF0F8",
            "linecolor": "#EBF0F8",
            "ticks": ""
           },
           "bgcolor": "white",
           "radialaxis": {
            "gridcolor": "#EBF0F8",
            "linecolor": "#EBF0F8",
            "ticks": ""
           }
          },
          "scene": {
           "xaxis": {
            "backgroundcolor": "white",
            "gridcolor": "#DFE8F3",
            "gridwidth": 2,
            "linecolor": "#EBF0F8",
            "showbackground": true,
            "ticks": "",
            "zerolinecolor": "#EBF0F8"
           },
           "yaxis": {
            "backgroundcolor": "white",
            "gridcolor": "#DFE8F3",
            "gridwidth": 2,
            "linecolor": "#EBF0F8",
            "showbackground": true,
            "ticks": "",
            "zerolinecolor": "#EBF0F8"
           },
           "zaxis": {
            "backgroundcolor": "white",
            "gridcolor": "#DFE8F3",
            "gridwidth": 2,
            "linecolor": "#EBF0F8",
            "showbackground": true,
            "ticks": "",
            "zerolinecolor": "#EBF0F8"
           }
          },
          "shapedefaults": {
           "line": {
            "color": "#2a3f5f"
           }
          },
          "ternary": {
           "aaxis": {
            "gridcolor": "#DFE8F3",
            "linecolor": "#A2B1C6",
            "ticks": ""
           },
           "baxis": {
            "gridcolor": "#DFE8F3",
            "linecolor": "#A2B1C6",
            "ticks": ""
           },
           "bgcolor": "white",
           "caxis": {
            "gridcolor": "#DFE8F3",
            "linecolor": "#A2B1C6",
            "ticks": ""
           }
          },
          "title": {
           "x": 0.05
          },
          "xaxis": {
           "automargin": true,
           "gridcolor": "#EBF0F8",
           "linecolor": "#EBF0F8",
           "ticks": "",
           "title": {
            "standoff": 15
           },
           "zerolinecolor": "#EBF0F8",
           "zerolinewidth": 2
          },
          "yaxis": {
           "automargin": true,
           "gridcolor": "#EBF0F8",
           "linecolor": "#EBF0F8",
           "ticks": "",
           "title": {
            "standoff": 15
           },
           "zerolinecolor": "#EBF0F8",
           "zerolinewidth": 2
          }
         }
        },
        "title": {
         "text": "Figura 5 - Produção de energia fotovoltaica entre 2018 e 2021",
         "x": 0.5,
         "xanchor": "center",
         "y": 0.93,
         "yanchor": "top"
        },
        "xaxis": {
         "tickformat": "%x",
         "ticksuffix": "",
         "title": {
          "text": "Hora"
         }
        },
        "yaxis": {
         "ticksuffix": " Wh",
         "title": {
          "text": "Energia produzida"
         }
        }
       }
      }
     },
     "metadata": {},
     "output_type": "display_data"
    }
   ],
   "source": [
    "trace1 = go.Scatter(x = data_daily.index[0:24], # eixo x\n",
    "                    y = data_daily['Energia (Wh)'][504:528], # eixo y \n",
    "                    mode = 'markers+lines', # tipo do gráfico: marcadr em linhas\n",
    "                    name = 'Energia por hora') # legenda do objeto trace\n",
    "    \n",
    "# cria uma lista com os trace's\n",
    "data = [trace1]\n",
    "\n",
    "# cria um objeto layout para por em um gráfico\n",
    "# objeto layout: informar o que está sendo apresentado no gráfico\n",
    "# no eixo x é informado que fica vazio, com o título do gráfico em caixa alta - comando .upper()\n",
    "# alterando as características da fonte e cor de cada trace do gráfico\n",
    "layout = go.Layout(title=\"Teste\",yaxis={'title':'Energia produzida'},xaxis={'title': 'Hora'}, \n",
    "                    font = {'family': 'Rockwell','size': 16,'color': 'black'},\n",
    "                    colorway = ['#B22222', '#00FF7F', '#FF0000', '#006400', '#000080', '#00BFFF'])\n",
    "\n",
    "# cria um gráfico através do objeto figure com os dados da lista com os traces e o layout acima\n",
    "fig = go.Figure(data=data, layout=layout)\n",
    "\n",
    "# atualiza o gráfico, objeto figure, informando uma alteração no layout, esta alteração muda o range do eixo X,\n",
    "# o formato de como será exibido esses dados do eixo X, o tema ,a legenda e o título do gráfico.\n",
    "# seleciona o mode hovermode.\n",
    "fig.update_layout(xaxis_tickformat = '%x',\n",
    "                    template = 'plotly_white',\n",
    "                    legend_title=\"\",\n",
    "                    legend_orientation=\"h\",\n",
    "                    legend={\n",
    "                        'x': 0.05,\n",
    "                        'y': -0.25,\n",
    "                    },\n",
    "                    title={\n",
    "                        'text': \"Figura 5 - Produção de energia fotovoltaica entre 2018 e 2021\",\n",
    "                        'y':0.93,\n",
    "                        'x':0.5,\n",
    "                        'xanchor': 'center',\n",
    "                        'yanchor': 'top'},\n",
    "                    hovermode=(\"x unified\"))\n",
    "fig.update_yaxes(ticksuffix=\" Wh\") \n",
    "fig.update_xaxes(ticksuffix=\"\")                     # selecionando um sufixo para os dados no eixo Y\n",
    "\n",
    "# comando utilizado para adicionar uma imagem ao gráfico\n",
    "fig.add_layout_image(\n",
    "    dict(\n",
    "        source=\"https://raw.githubusercontent.com/LinconRozendo/Imagens_u/master/Multi%20Mapa/cear.png\",\n",
    "        xref=\"paper\", yref=\"paper\",\n",
    "        x=1.05, y=1.1,\n",
    "        sizex=0.2, sizey=0.2,\n",
    "        xanchor=\"right\", yanchor=\"bottom\"\n",
    "        )\n",
    "    )\n",
    "    \n",
    "# retorna a exibição do gráfico criado\n",
    "fig.show()"
   ]
  },
  {
   "cell_type": "code",
   "execution_count": 29,
   "metadata": {},
   "outputs": [],
   "source": [
    "def data_proc(data, n_data_before, n_data_after):\n",
    "\n",
    "  for i in range(1, n_data_before + 1):\n",
    "    data['kt (k-'+str(i)+')'] = data['kt'].shift(i)\n",
    "    data['Temperatura a 2 metros (°C) (k-'+str(i)+')'] = data['Temperatura a 2 metros (°C)'].shift(i)\n",
    "    data['Umidade Relativa a 2 metros (%) (k-'+str(i)+')'] = data['Umidade Relativa a 2 metros (%)'].shift(i)\n",
    "    data['Energia (Wh) (k-'+str(i)+')'] = data['Energia (Wh)'].shift(i)\n",
    "\n",
    "  for k in range(1, n_data_after + 1):\n",
    "    data['Energia (Wh) (k+'+str(k)+')'] = data['Energia (Wh)'].shift(k)\n",
    "        \n",
    "  return data"
   ]
  },
  {
   "cell_type": "code",
   "execution_count": 30,
   "metadata": {},
   "outputs": [
    {
     "data": {
      "text/html": [
       "<div>\n",
       "<style scoped>\n",
       "    .dataframe tbody tr th:only-of-type {\n",
       "        vertical-align: middle;\n",
       "    }\n",
       "\n",
       "    .dataframe tbody tr th {\n",
       "        vertical-align: top;\n",
       "    }\n",
       "\n",
       "    .dataframe thead th {\n",
       "        text-align: right;\n",
       "    }\n",
       "</style>\n",
       "<table border=\"1\" class=\"dataframe\">\n",
       "  <thead>\n",
       "    <tr style=\"text-align: right;\">\n",
       "      <th></th>\n",
       "      <th>kt</th>\n",
       "      <th>Temperatura a 2 metros (°C)</th>\n",
       "      <th>Umidade Relativa a 2 metros (%)</th>\n",
       "      <th>Irradiância Global Horizontal a Céu Claro(kWh/m²)</th>\n",
       "      <th>Irradiância Global Horizontal para Qualquer Céu (kWh/m^2)</th>\n",
       "      <th>Energia (Wh)</th>\n",
       "      <th>kt (k-1)</th>\n",
       "      <th>Temperatura a 2 metros (°C) (k-1)</th>\n",
       "      <th>Umidade Relativa a 2 metros (%) (k-1)</th>\n",
       "      <th>Energia (Wh) (k-1)</th>\n",
       "      <th>...</th>\n",
       "      <th>Energia (Wh) (k-5)</th>\n",
       "      <th>kt (k-6)</th>\n",
       "      <th>Temperatura a 2 metros (°C) (k-6)</th>\n",
       "      <th>Umidade Relativa a 2 metros (%) (k-6)</th>\n",
       "      <th>Energia (Wh) (k-6)</th>\n",
       "      <th>kt (k-7)</th>\n",
       "      <th>Temperatura a 2 metros (°C) (k-7)</th>\n",
       "      <th>Umidade Relativa a 2 metros (%) (k-7)</th>\n",
       "      <th>Energia (Wh) (k-7)</th>\n",
       "      <th>Energia (Wh) (k+1)</th>\n",
       "    </tr>\n",
       "    <tr>\n",
       "      <th>Date</th>\n",
       "      <th></th>\n",
       "      <th></th>\n",
       "      <th></th>\n",
       "      <th></th>\n",
       "      <th></th>\n",
       "      <th></th>\n",
       "      <th></th>\n",
       "      <th></th>\n",
       "      <th></th>\n",
       "      <th></th>\n",
       "      <th></th>\n",
       "      <th></th>\n",
       "      <th></th>\n",
       "      <th></th>\n",
       "      <th></th>\n",
       "      <th></th>\n",
       "      <th></th>\n",
       "      <th></th>\n",
       "      <th></th>\n",
       "      <th></th>\n",
       "      <th></th>\n",
       "    </tr>\n",
       "  </thead>\n",
       "  <tbody>\n",
       "    <tr>\n",
       "      <th>2018-08-08</th>\n",
       "      <td>0.341667</td>\n",
       "      <td>28.335000</td>\n",
       "      <td>49.058750</td>\n",
       "      <td>6738.91</td>\n",
       "      <td>6728.41</td>\n",
       "      <td>16406.57</td>\n",
       "      <td>0.334167</td>\n",
       "      <td>28.723750</td>\n",
       "      <td>49.219583</td>\n",
       "      <td>15812.41</td>\n",
       "      <td>...</td>\n",
       "      <td>16581.87</td>\n",
       "      <td>0.297500</td>\n",
       "      <td>28.487500</td>\n",
       "      <td>50.562083</td>\n",
       "      <td>12754.93</td>\n",
       "      <td>0.288750</td>\n",
       "      <td>28.672083</td>\n",
       "      <td>53.761250</td>\n",
       "      <td>15031.41</td>\n",
       "      <td>15812.41</td>\n",
       "    </tr>\n",
       "    <tr>\n",
       "      <th>2018-08-09</th>\n",
       "      <td>0.330417</td>\n",
       "      <td>28.068750</td>\n",
       "      <td>53.166667</td>\n",
       "      <td>6697.75</td>\n",
       "      <td>6138.11</td>\n",
       "      <td>15215.39</td>\n",
       "      <td>0.341667</td>\n",
       "      <td>28.335000</td>\n",
       "      <td>49.058750</td>\n",
       "      <td>16406.57</td>\n",
       "      <td>...</td>\n",
       "      <td>15573.27</td>\n",
       "      <td>0.338750</td>\n",
       "      <td>27.872917</td>\n",
       "      <td>46.375000</td>\n",
       "      <td>16581.87</td>\n",
       "      <td>0.297500</td>\n",
       "      <td>28.487500</td>\n",
       "      <td>50.562083</td>\n",
       "      <td>12754.93</td>\n",
       "      <td>16406.57</td>\n",
       "    </tr>\n",
       "    <tr>\n",
       "      <th>2018-08-10</th>\n",
       "      <td>0.349583</td>\n",
       "      <td>28.515833</td>\n",
       "      <td>51.335833</td>\n",
       "      <td>6738.48</td>\n",
       "      <td>6518.86</td>\n",
       "      <td>15634.63</td>\n",
       "      <td>0.330417</td>\n",
       "      <td>28.068750</td>\n",
       "      <td>53.166667</td>\n",
       "      <td>15215.39</td>\n",
       "      <td>...</td>\n",
       "      <td>16056.71</td>\n",
       "      <td>0.314167</td>\n",
       "      <td>28.124583</td>\n",
       "      <td>47.484167</td>\n",
       "      <td>15573.27</td>\n",
       "      <td>0.338750</td>\n",
       "      <td>27.872917</td>\n",
       "      <td>46.375000</td>\n",
       "      <td>16581.87</td>\n",
       "      <td>15215.39</td>\n",
       "    </tr>\n",
       "    <tr>\n",
       "      <th>2018-08-11</th>\n",
       "      <td>0.360000</td>\n",
       "      <td>28.135833</td>\n",
       "      <td>47.601250</td>\n",
       "      <td>6799.00</td>\n",
       "      <td>6738.63</td>\n",
       "      <td>15757.18</td>\n",
       "      <td>0.349583</td>\n",
       "      <td>28.515833</td>\n",
       "      <td>51.335833</td>\n",
       "      <td>15634.63</td>\n",
       "      <td>...</td>\n",
       "      <td>16279.71</td>\n",
       "      <td>0.328750</td>\n",
       "      <td>29.085000</td>\n",
       "      <td>50.660000</td>\n",
       "      <td>16056.71</td>\n",
       "      <td>0.314167</td>\n",
       "      <td>28.124583</td>\n",
       "      <td>47.484167</td>\n",
       "      <td>15573.27</td>\n",
       "      <td>15634.63</td>\n",
       "    </tr>\n",
       "    <tr>\n",
       "      <th>2018-08-12</th>\n",
       "      <td>0.338333</td>\n",
       "      <td>28.613750</td>\n",
       "      <td>55.525417</td>\n",
       "      <td>6611.71</td>\n",
       "      <td>6379.75</td>\n",
       "      <td>15747.87</td>\n",
       "      <td>0.360000</td>\n",
       "      <td>28.135833</td>\n",
       "      <td>47.601250</td>\n",
       "      <td>15757.18</td>\n",
       "      <td>...</td>\n",
       "      <td>15812.41</td>\n",
       "      <td>0.338333</td>\n",
       "      <td>28.825833</td>\n",
       "      <td>49.395833</td>\n",
       "      <td>16279.71</td>\n",
       "      <td>0.328750</td>\n",
       "      <td>29.085000</td>\n",
       "      <td>50.660000</td>\n",
       "      <td>16056.71</td>\n",
       "      <td>15757.18</td>\n",
       "    </tr>\n",
       "    <tr>\n",
       "      <th>...</th>\n",
       "      <td>...</td>\n",
       "      <td>...</td>\n",
       "      <td>...</td>\n",
       "      <td>...</td>\n",
       "      <td>...</td>\n",
       "      <td>...</td>\n",
       "      <td>...</td>\n",
       "      <td>...</td>\n",
       "      <td>...</td>\n",
       "      <td>...</td>\n",
       "      <td>...</td>\n",
       "      <td>...</td>\n",
       "      <td>...</td>\n",
       "      <td>...</td>\n",
       "      <td>...</td>\n",
       "      <td>...</td>\n",
       "      <td>...</td>\n",
       "      <td>...</td>\n",
       "      <td>...</td>\n",
       "      <td>...</td>\n",
       "      <td>...</td>\n",
       "    </tr>\n",
       "    <tr>\n",
       "      <th>2021-02-20</th>\n",
       "      <td>0.307083</td>\n",
       "      <td>28.108333</td>\n",
       "      <td>66.469583</td>\n",
       "      <td>7491.07</td>\n",
       "      <td>6674.68</td>\n",
       "      <td>14190.33</td>\n",
       "      <td>0.267917</td>\n",
       "      <td>26.849167</td>\n",
       "      <td>67.754583</td>\n",
       "      <td>12527.12</td>\n",
       "      <td>...</td>\n",
       "      <td>10585.29</td>\n",
       "      <td>0.265833</td>\n",
       "      <td>29.872500</td>\n",
       "      <td>55.341667</td>\n",
       "      <td>14751.13</td>\n",
       "      <td>0.292500</td>\n",
       "      <td>30.877083</td>\n",
       "      <td>53.234167</td>\n",
       "      <td>13325.60</td>\n",
       "      <td>12527.12</td>\n",
       "    </tr>\n",
       "    <tr>\n",
       "      <th>2021-02-21</th>\n",
       "      <td>0.286667</td>\n",
       "      <td>29.076250</td>\n",
       "      <td>61.997500</td>\n",
       "      <td>7573.26</td>\n",
       "      <td>6237.11</td>\n",
       "      <td>13645.42</td>\n",
       "      <td>0.307083</td>\n",
       "      <td>28.108333</td>\n",
       "      <td>66.469583</td>\n",
       "      <td>14190.33</td>\n",
       "      <td>...</td>\n",
       "      <td>8072.61</td>\n",
       "      <td>0.229167</td>\n",
       "      <td>27.113333</td>\n",
       "      <td>73.804167</td>\n",
       "      <td>10585.29</td>\n",
       "      <td>0.265833</td>\n",
       "      <td>29.872500</td>\n",
       "      <td>55.341667</td>\n",
       "      <td>14751.13</td>\n",
       "      <td>14190.33</td>\n",
       "    </tr>\n",
       "    <tr>\n",
       "      <th>2021-02-22</th>\n",
       "      <td>0.336250</td>\n",
       "      <td>29.329583</td>\n",
       "      <td>58.138333</td>\n",
       "      <td>7705.41</td>\n",
       "      <td>7431.68</td>\n",
       "      <td>16692.07</td>\n",
       "      <td>0.286667</td>\n",
       "      <td>29.076250</td>\n",
       "      <td>61.997500</td>\n",
       "      <td>13645.42</td>\n",
       "      <td>...</td>\n",
       "      <td>14344.80</td>\n",
       "      <td>0.157917</td>\n",
       "      <td>27.073333</td>\n",
       "      <td>76.388750</td>\n",
       "      <td>8072.61</td>\n",
       "      <td>0.229167</td>\n",
       "      <td>27.113333</td>\n",
       "      <td>73.804167</td>\n",
       "      <td>10585.29</td>\n",
       "      <td>13645.42</td>\n",
       "    </tr>\n",
       "    <tr>\n",
       "      <th>2021-02-23</th>\n",
       "      <td>0.310417</td>\n",
       "      <td>28.752500</td>\n",
       "      <td>61.565417</td>\n",
       "      <td>7605.12</td>\n",
       "      <td>6850.78</td>\n",
       "      <td>16298.16</td>\n",
       "      <td>0.336250</td>\n",
       "      <td>29.329583</td>\n",
       "      <td>58.138333</td>\n",
       "      <td>16692.07</td>\n",
       "      <td>...</td>\n",
       "      <td>13701.32</td>\n",
       "      <td>0.249167</td>\n",
       "      <td>26.843333</td>\n",
       "      <td>76.945417</td>\n",
       "      <td>14344.80</td>\n",
       "      <td>0.157917</td>\n",
       "      <td>27.073333</td>\n",
       "      <td>76.388750</td>\n",
       "      <td>8072.61</td>\n",
       "      <td>16692.07</td>\n",
       "    </tr>\n",
       "    <tr>\n",
       "      <th>2021-02-24</th>\n",
       "      <td>0.357222</td>\n",
       "      <td>28.205000</td>\n",
       "      <td>69.529444</td>\n",
       "      <td>7332.96</td>\n",
       "      <td>6179.65</td>\n",
       "      <td>13938.13</td>\n",
       "      <td>0.310417</td>\n",
       "      <td>28.752500</td>\n",
       "      <td>61.565417</td>\n",
       "      <td>16298.16</td>\n",
       "      <td>...</td>\n",
       "      <td>12527.12</td>\n",
       "      <td>0.308333</td>\n",
       "      <td>27.064167</td>\n",
       "      <td>68.911250</td>\n",
       "      <td>13701.32</td>\n",
       "      <td>0.249167</td>\n",
       "      <td>26.843333</td>\n",
       "      <td>76.945417</td>\n",
       "      <td>14344.80</td>\n",
       "      <td>16298.16</td>\n",
       "    </tr>\n",
       "  </tbody>\n",
       "</table>\n",
       "<p>932 rows × 35 columns</p>\n",
       "</div>"
      ],
      "text/plain": [
       "                  kt  Temperatura a 2 metros (°C)  \\\n",
       "Date                                                \n",
       "2018-08-08  0.341667                    28.335000   \n",
       "2018-08-09  0.330417                    28.068750   \n",
       "2018-08-10  0.349583                    28.515833   \n",
       "2018-08-11  0.360000                    28.135833   \n",
       "2018-08-12  0.338333                    28.613750   \n",
       "...              ...                          ...   \n",
       "2021-02-20  0.307083                    28.108333   \n",
       "2021-02-21  0.286667                    29.076250   \n",
       "2021-02-22  0.336250                    29.329583   \n",
       "2021-02-23  0.310417                    28.752500   \n",
       "2021-02-24  0.357222                    28.205000   \n",
       "\n",
       "            Umidade Relativa a 2 metros (%)  \\\n",
       "Date                                          \n",
       "2018-08-08                        49.058750   \n",
       "2018-08-09                        53.166667   \n",
       "2018-08-10                        51.335833   \n",
       "2018-08-11                        47.601250   \n",
       "2018-08-12                        55.525417   \n",
       "...                                     ...   \n",
       "2021-02-20                        66.469583   \n",
       "2021-02-21                        61.997500   \n",
       "2021-02-22                        58.138333   \n",
       "2021-02-23                        61.565417   \n",
       "2021-02-24                        69.529444   \n",
       "\n",
       "            Irradiância Global Horizontal a Céu Claro(kWh/m²)  \\\n",
       "Date                                                            \n",
       "2018-08-08                                            6738.91   \n",
       "2018-08-09                                            6697.75   \n",
       "2018-08-10                                            6738.48   \n",
       "2018-08-11                                            6799.00   \n",
       "2018-08-12                                            6611.71   \n",
       "...                                                       ...   \n",
       "2021-02-20                                            7491.07   \n",
       "2021-02-21                                            7573.26   \n",
       "2021-02-22                                            7705.41   \n",
       "2021-02-23                                            7605.12   \n",
       "2021-02-24                                            7332.96   \n",
       "\n",
       "            Irradiância Global Horizontal para Qualquer Céu (kWh/m^2)  \\\n",
       "Date                                                                    \n",
       "2018-08-08                                            6728.41           \n",
       "2018-08-09                                            6138.11           \n",
       "2018-08-10                                            6518.86           \n",
       "2018-08-11                                            6738.63           \n",
       "2018-08-12                                            6379.75           \n",
       "...                                                       ...           \n",
       "2021-02-20                                            6674.68           \n",
       "2021-02-21                                            6237.11           \n",
       "2021-02-22                                            7431.68           \n",
       "2021-02-23                                            6850.78           \n",
       "2021-02-24                                            6179.65           \n",
       "\n",
       "            Energia (Wh)  kt (k-1)  Temperatura a 2 metros (°C) (k-1)  \\\n",
       "Date                                                                    \n",
       "2018-08-08      16406.57  0.334167                          28.723750   \n",
       "2018-08-09      15215.39  0.341667                          28.335000   \n",
       "2018-08-10      15634.63  0.330417                          28.068750   \n",
       "2018-08-11      15757.18  0.349583                          28.515833   \n",
       "2018-08-12      15747.87  0.360000                          28.135833   \n",
       "...                  ...       ...                                ...   \n",
       "2021-02-20      14190.33  0.267917                          26.849167   \n",
       "2021-02-21      13645.42  0.307083                          28.108333   \n",
       "2021-02-22      16692.07  0.286667                          29.076250   \n",
       "2021-02-23      16298.16  0.336250                          29.329583   \n",
       "2021-02-24      13938.13  0.310417                          28.752500   \n",
       "\n",
       "            Umidade Relativa a 2 metros (%) (k-1)  Energia (Wh) (k-1)  ...  \\\n",
       "Date                                                                   ...   \n",
       "2018-08-08                              49.219583            15812.41  ...   \n",
       "2018-08-09                              49.058750            16406.57  ...   \n",
       "2018-08-10                              53.166667            15215.39  ...   \n",
       "2018-08-11                              51.335833            15634.63  ...   \n",
       "2018-08-12                              47.601250            15757.18  ...   \n",
       "...                                           ...                 ...  ...   \n",
       "2021-02-20                              67.754583            12527.12  ...   \n",
       "2021-02-21                              66.469583            14190.33  ...   \n",
       "2021-02-22                              61.997500            13645.42  ...   \n",
       "2021-02-23                              58.138333            16692.07  ...   \n",
       "2021-02-24                              61.565417            16298.16  ...   \n",
       "\n",
       "            Energia (Wh) (k-5)  kt (k-6)  Temperatura a 2 metros (°C) (k-6)  \\\n",
       "Date                                                                          \n",
       "2018-08-08            16581.87  0.297500                          28.487500   \n",
       "2018-08-09            15573.27  0.338750                          27.872917   \n",
       "2018-08-10            16056.71  0.314167                          28.124583   \n",
       "2018-08-11            16279.71  0.328750                          29.085000   \n",
       "2018-08-12            15812.41  0.338333                          28.825833   \n",
       "...                        ...       ...                                ...   \n",
       "2021-02-20            10585.29  0.265833                          29.872500   \n",
       "2021-02-21             8072.61  0.229167                          27.113333   \n",
       "2021-02-22            14344.80  0.157917                          27.073333   \n",
       "2021-02-23            13701.32  0.249167                          26.843333   \n",
       "2021-02-24            12527.12  0.308333                          27.064167   \n",
       "\n",
       "            Umidade Relativa a 2 metros (%) (k-6)  Energia (Wh) (k-6)  \\\n",
       "Date                                                                    \n",
       "2018-08-08                              50.562083            12754.93   \n",
       "2018-08-09                              46.375000            16581.87   \n",
       "2018-08-10                              47.484167            15573.27   \n",
       "2018-08-11                              50.660000            16056.71   \n",
       "2018-08-12                              49.395833            16279.71   \n",
       "...                                           ...                 ...   \n",
       "2021-02-20                              55.341667            14751.13   \n",
       "2021-02-21                              73.804167            10585.29   \n",
       "2021-02-22                              76.388750             8072.61   \n",
       "2021-02-23                              76.945417            14344.80   \n",
       "2021-02-24                              68.911250            13701.32   \n",
       "\n",
       "            kt (k-7)  Temperatura a 2 metros (°C) (k-7)  \\\n",
       "Date                                                      \n",
       "2018-08-08  0.288750                          28.672083   \n",
       "2018-08-09  0.297500                          28.487500   \n",
       "2018-08-10  0.338750                          27.872917   \n",
       "2018-08-11  0.314167                          28.124583   \n",
       "2018-08-12  0.328750                          29.085000   \n",
       "...              ...                                ...   \n",
       "2021-02-20  0.292500                          30.877083   \n",
       "2021-02-21  0.265833                          29.872500   \n",
       "2021-02-22  0.229167                          27.113333   \n",
       "2021-02-23  0.157917                          27.073333   \n",
       "2021-02-24  0.249167                          26.843333   \n",
       "\n",
       "            Umidade Relativa a 2 metros (%) (k-7)  Energia (Wh) (k-7)  \\\n",
       "Date                                                                    \n",
       "2018-08-08                              53.761250            15031.41   \n",
       "2018-08-09                              50.562083            12754.93   \n",
       "2018-08-10                              46.375000            16581.87   \n",
       "2018-08-11                              47.484167            15573.27   \n",
       "2018-08-12                              50.660000            16056.71   \n",
       "...                                           ...                 ...   \n",
       "2021-02-20                              53.234167            13325.60   \n",
       "2021-02-21                              55.341667            14751.13   \n",
       "2021-02-22                              73.804167            10585.29   \n",
       "2021-02-23                              76.388750             8072.61   \n",
       "2021-02-24                              76.945417            14344.80   \n",
       "\n",
       "            Energia (Wh) (k+1)  \n",
       "Date                            \n",
       "2018-08-08            15812.41  \n",
       "2018-08-09            16406.57  \n",
       "2018-08-10            15215.39  \n",
       "2018-08-11            15634.63  \n",
       "2018-08-12            15757.18  \n",
       "...                        ...  \n",
       "2021-02-20            12527.12  \n",
       "2021-02-21            14190.33  \n",
       "2021-02-22            13645.42  \n",
       "2021-02-23            16692.07  \n",
       "2021-02-24            16298.16  \n",
       "\n",
       "[932 rows x 35 columns]"
      ]
     },
     "execution_count": 30,
     "metadata": {},
     "output_type": "execute_result"
    }
   ],
   "source": [
    "n_data_before = 7\n",
    "n_data_after = 1\n",
    "\n",
    "data_daily_k = data_proc(data_daily , n_data_before, n_data_after)\n",
    "\n",
    "data_daily_k.dropna(axis=0,inplace=True)\n",
    "data_daily_k"
   ]
  },
  {
   "cell_type": "code",
   "execution_count": 36,
   "metadata": {},
   "outputs": [],
   "source": [
    "#implementação da RNA\n",
    "\n",
    "import tensorflow as tf\n",
    "from tensorflow import keras\n",
    "from keras.callbacks import EarlyStopping\n",
    "from keras import regularizers\n",
    "from keras.layers import LSTM\n",
    "from keras.layers import Dense"
   ]
  },
  {
   "cell_type": "code",
   "execution_count": 37,
   "metadata": {},
   "outputs": [],
   "source": [
    "## Funções para normalizar e desnormalizar os dados \n",
    "\n",
    "def Normalize(data):\n",
    "    data_max = data.max(axis=0)\n",
    "    data_min = data.min(axis=0)\n",
    "    return (data-data_min)/(data_max-data_min)\n",
    "    # w = np.sqrt((data**2).sum(axis=0))\n",
    "    # x_norm2 = data/w\n",
    "    # return x_norm2\n",
    "\n",
    "def Denormalize(data_normalized, data):\n",
    "    data_max = data.max(axis=0)\n",
    "    data_min = data.min(axis=0)\n",
    "    return data_normalized*(data_max-data_min) + data_min\n",
    "    # w = np.sqrt((data**2).sum(axis=0))\n",
    "    # data_denormalized = data_normalized*w\n",
    "    # return data_denormalized"
   ]
  },
  {
   "cell_type": "code",
   "execution_count": 38,
   "metadata": {},
   "outputs": [],
   "source": [
    "## Criando dados de treinamento e testes\n",
    "\n",
    "inputs = data_daily_k.iloc[:,0:-n_data_after]\n",
    "outputs = data_daily_k.iloc[:,-n_data_after:]\n",
    "\n",
    "#normalização\n",
    "data_norm = Normalize(data_daily_k)\n",
    "\n",
    "data_daily_norm = data_proc(data_norm, n_data_before, n_data_after)\n",
    "\n",
    "data_daily_norm.dropna(axis=0,inplace=True)\n",
    "\n",
    "data_norm = data_daily_norm\n",
    "\n",
    "inputs_norm = data_norm.iloc[:, 0:-n_data_after]\n",
    "outputs_norm = data_norm.iloc[:, -n_data_after:]\n",
    "\n",
    "input_train = data_norm.iloc[0:int(0.7 * len(inputs_norm)), 0:-n_data_after]\n",
    "input_test = data_norm.iloc[int(0.7 * len(inputs_norm)):-1, 0:-n_data_after] \n",
    "\n",
    "output_train = data_norm.iloc[0:int(0.7 * len(outputs_norm)), -n_data_after:]\n",
    "output_test = data_norm.iloc[int(0.7 * len(outputs_norm)):-1, -n_data_after:] "
   ]
  },
  {
   "cell_type": "code",
   "execution_count": 40,
   "metadata": {},
   "outputs": [],
   "source": [
    "entrada_train = tf.convert_to_tensor(input_train)\n",
    "saida_train = tf.convert_to_tensor(output_train)\n",
    "entrada_test = tf.convert_to_tensor(input_test)\n",
    "saida_test = tf.convert_to_tensor(output_test)"
   ]
  },
  {
   "cell_type": "code",
   "execution_count": 41,
   "metadata": {},
   "outputs": [],
   "source": [
    "## Montando a RNA\n",
    "\n",
    "from keras.layers import SimpleRNN"
   ]
  },
  {
   "cell_type": "code",
   "execution_count": 42,
   "metadata": {},
   "outputs": [],
   "source": [
    "## Criando a função do modelo da RNA\n",
    "\n",
    "def create_model(inputs,outputs,n_neurons,activation_fn,type_nn):\n",
    "  if type_nn == 'ff':\n",
    "    model = keras.Sequential([\n",
    "    keras.Input(shape=(len(inputs.columns),)),  # input layer (1)\n",
    "    keras.layers.Dense(n_neurons, activation=activation_fn,\n",
    "                      kernel_regularizer=regularizers.l1_l2(l1=1e-5, l2=1e-4),\n",
    "                      bias_regularizer=regularizers.l2(1e-4),\n",
    "                      activity_regularizer=regularizers.l2(1e-5)),  # hidden layer (1)\n",
    "    #keras.layers.Dropout(0.2),\n",
    "    keras.layers.Dense(n_neurons/2, activation=activation_fn,\n",
    "                      kernel_regularizer=regularizers.l1_l2(l1=1e-5, l2=1e-4),\n",
    "                      bias_regularizer=regularizers.l2(1e-4),\n",
    "                      activity_regularizer=regularizers.l2(1e-5)),  # hidden layer (2)\n",
    "    \n",
    "    # keras.layers.Dense(n_neurons, activation=activation_fn,\n",
    "    #                    kernel_regularizer=regularizers.l1_l2(l1=1e-5, l2=1e-4),\n",
    "    #                    bias_regularizer=regularizers.l2(1e-4),\n",
    "    #                    activity_regularizer=regularizers.l2(1e-5)),  # hidden layer (3)\n",
    "                            \n",
    "          #keras.layers.Dropout(0.2),\n",
    "    keras.layers.Dense(len(outputs.columns), activation=activation_fn) # output layer \n",
    "    ])\n",
    "  if type_nn == 'lstm':\n",
    "    model = keras.Sequential()\n",
    "    model.add(SimpleRNN(128,input_shape = (inputs.shape[1],inputs.shape[2]),return_sequences=True))\n",
    "    model.add(Dense(1))\n",
    "\n",
    "\n",
    "  return model"
   ]
  },
  {
   "cell_type": "code",
   "execution_count": 43,
   "metadata": {},
   "outputs": [
    {
     "name": "stdout",
     "output_type": "stream",
     "text": [
      "Model: \"sequential\"\n",
      "_________________________________________________________________\n",
      " Layer (type)                Output Shape              Param #   \n",
      "=================================================================\n",
      " dense (Dense)               (None, 100)               3500      \n",
      "                                                                 \n",
      " dense_1 (Dense)             (None, 50)                5050      \n",
      "                                                                 \n",
      " dense_2 (Dense)             (None, 1)                 51        \n",
      "                                                                 \n",
      "=================================================================\n",
      "Total params: 8601 (33.60 KB)\n",
      "Trainable params: 8601 (33.60 KB)\n",
      "Non-trainable params: 0 (0.00 Byte)\n",
      "_________________________________________________________________\n",
      "Epoch 1/500\n",
      "21/21 [==============================] - 2s 23ms/step - loss: 0.1694 - mae: 0.2811 - accuracy: 0.0015 - val_loss: 0.0969 - val_mae: 0.2389 - val_accuracy: 0.0000e+00\n",
      "Epoch 2/500\n",
      "21/21 [==============================] - 0s 5ms/step - loss: 0.1003 - mae: 0.2407 - accuracy: 0.0015 - val_loss: 0.0975 - val_mae: 0.2401 - val_accuracy: 0.0000e+00\n",
      "Epoch 3/500\n",
      "21/21 [==============================] - 0s 5ms/step - loss: 0.0998 - mae: 0.2398 - accuracy: 0.0015 - val_loss: 0.0960 - val_mae: 0.2373 - val_accuracy: 0.0000e+00\n",
      "Epoch 4/500\n",
      "21/21 [==============================] - 0s 5ms/step - loss: 0.0970 - mae: 0.2346 - accuracy: 0.0015 - val_loss: 0.0908 - val_mae: 0.2270 - val_accuracy: 0.0000e+00\n",
      "Epoch 5/500\n",
      "21/21 [==============================] - 0s 5ms/step - loss: 0.0802 - mae: 0.1984 - accuracy: 0.0015 - val_loss: 0.0441 - val_mae: 0.1130 - val_accuracy: 0.0000e+00\n",
      "Epoch 6/500\n",
      "21/21 [==============================] - 0s 5ms/step - loss: 0.0429 - mae: 0.1088 - accuracy: 0.0015 - val_loss: 0.0354 - val_mae: 0.0912 - val_accuracy: 0.0000e+00\n",
      "Epoch 7/500\n",
      "21/21 [==============================] - 0s 5ms/step - loss: 0.0346 - mae: 0.0895 - accuracy: 0.0031 - val_loss: 0.0351 - val_mae: 0.0933 - val_accuracy: 0.0000e+00\n",
      "Epoch 8/500\n",
      "21/21 [==============================] - 0s 5ms/step - loss: 0.0315 - mae: 0.0771 - accuracy: 0.0031 - val_loss: 0.0321 - val_mae: 0.0793 - val_accuracy: 0.0000e+00\n",
      "Epoch 9/500\n",
      "21/21 [==============================] - 0s 5ms/step - loss: 0.0298 - mae: 0.0722 - accuracy: 0.0031 - val_loss: 0.0322 - val_mae: 0.0847 - val_accuracy: 0.0000e+00\n",
      "Epoch 10/500\n",
      "21/21 [==============================] - 0s 5ms/step - loss: 0.0288 - mae: 0.0690 - accuracy: 0.0031 - val_loss: 0.0304 - val_mae: 0.0668 - val_accuracy: 0.0000e+00\n",
      "Epoch 11/500\n",
      "21/21 [==============================] - 0s 4ms/step - loss: 0.0276 - mae: 0.0623 - accuracy: 0.0031 - val_loss: 0.0288 - val_mae: 0.0672 - val_accuracy: 0.0000e+00\n",
      "Epoch 12/500\n",
      "21/21 [==============================] - 0s 4ms/step - loss: 0.0261 - mae: 0.0572 - accuracy: 0.0031 - val_loss: 0.0278 - val_mae: 0.0595 - val_accuracy: 0.0000e+00\n",
      "Epoch 13/500\n",
      "21/21 [==============================] - 0s 4ms/step - loss: 0.0254 - mae: 0.0539 - accuracy: 0.0031 - val_loss: 0.0268 - val_mae: 0.0574 - val_accuracy: 0.0000e+00\n",
      "Epoch 14/500\n",
      "21/21 [==============================] - 0s 4ms/step - loss: 0.0249 - mae: 0.0522 - accuracy: 0.0031 - val_loss: 0.0260 - val_mae: 0.0560 - val_accuracy: 0.0000e+00\n",
      "Epoch 15/500\n",
      "21/21 [==============================] - 0s 4ms/step - loss: 0.0245 - mae: 0.0494 - accuracy: 0.0031 - val_loss: 0.0253 - val_mae: 0.0510 - val_accuracy: 0.0000e+00\n",
      "Epoch 16/500\n",
      "21/21 [==============================] - 0s 4ms/step - loss: 0.0238 - mae: 0.0468 - accuracy: 0.0031 - val_loss: 0.0246 - val_mae: 0.0485 - val_accuracy: 0.0000e+00\n",
      "Epoch 17/500\n",
      "21/21 [==============================] - 0s 4ms/step - loss: 0.0233 - mae: 0.0450 - accuracy: 0.0031 - val_loss: 0.0244 - val_mae: 0.0464 - val_accuracy: 0.0000e+00\n",
      "Epoch 18/500\n",
      "21/21 [==============================] - 0s 4ms/step - loss: 0.0228 - mae: 0.0421 - accuracy: 0.0031 - val_loss: 0.0238 - val_mae: 0.0477 - val_accuracy: 0.0000e+00\n",
      "Epoch 19/500\n",
      "21/21 [==============================] - 0s 5ms/step - loss: 0.0226 - mae: 0.0416 - accuracy: 0.0031 - val_loss: 0.0234 - val_mae: 0.0434 - val_accuracy: 0.0000e+00\n",
      "Epoch 20/500\n",
      "21/21 [==============================] - 0s 6ms/step - loss: 0.0225 - mae: 0.0412 - accuracy: 0.0031 - val_loss: 0.0228 - val_mae: 0.0409 - val_accuracy: 0.0000e+00\n",
      "Epoch 21/500\n",
      "21/21 [==============================] - 0s 5ms/step - loss: 0.0224 - mae: 0.0408 - accuracy: 0.0031 - val_loss: 0.0244 - val_mae: 0.0519 - val_accuracy: 0.0000e+00\n",
      "Epoch 22/500\n",
      "21/21 [==============================] - 0s 4ms/step - loss: 0.0225 - mae: 0.0422 - accuracy: 0.0031 - val_loss: 0.0225 - val_mae: 0.0422 - val_accuracy: 0.0000e+00\n",
      "Epoch 23/500\n",
      "21/21 [==============================] - 0s 4ms/step - loss: 0.0217 - mae: 0.0373 - accuracy: 0.0031 - val_loss: 0.0225 - val_mae: 0.0412 - val_accuracy: 0.0000e+00\n",
      "Epoch 24/500\n",
      "21/21 [==============================] - 0s 4ms/step - loss: 0.0215 - mae: 0.0368 - accuracy: 0.0031 - val_loss: 0.0220 - val_mae: 0.0391 - val_accuracy: 0.0000e+00\n",
      "Epoch 25/500\n",
      "21/21 [==============================] - 0s 5ms/step - loss: 0.0215 - mae: 0.0376 - accuracy: 0.0031 - val_loss: 0.0215 - val_mae: 0.0365 - val_accuracy: 0.0000e+00\n",
      "Epoch 26/500\n",
      "21/21 [==============================] - 0s 5ms/step - loss: 0.0213 - mae: 0.0365 - accuracy: 0.0031 - val_loss: 0.0217 - val_mae: 0.0406 - val_accuracy: 0.0000e+00\n",
      "Epoch 27/500\n",
      "21/21 [==============================] - 0s 4ms/step - loss: 0.0211 - mae: 0.0351 - accuracy: 0.0031 - val_loss: 0.0221 - val_mae: 0.0421 - val_accuracy: 0.0000e+00\n",
      "Epoch 28/500\n",
      "21/21 [==============================] - 0s 4ms/step - loss: 0.0211 - mae: 0.0360 - accuracy: 0.0031 - val_loss: 0.0210 - val_mae: 0.0349 - val_accuracy: 0.0000e+00\n",
      "Epoch 29/500\n",
      "21/21 [==============================] - 0s 4ms/step - loss: 0.0207 - mae: 0.0335 - accuracy: 0.0031 - val_loss: 0.0207 - val_mae: 0.0336 - val_accuracy: 0.0000e+00\n",
      "Epoch 30/500\n",
      "21/21 [==============================] - 0s 4ms/step - loss: 0.0205 - mae: 0.0327 - accuracy: 0.0031 - val_loss: 0.0206 - val_mae: 0.0334 - val_accuracy: 0.0000e+00\n",
      "Epoch 31/500\n",
      "21/21 [==============================] - 0s 4ms/step - loss: 0.0205 - mae: 0.0335 - accuracy: 0.0031 - val_loss: 0.0207 - val_mae: 0.0353 - val_accuracy: 0.0000e+00\n",
      "Epoch 32/500\n",
      "21/21 [==============================] - 0s 4ms/step - loss: 0.0203 - mae: 0.0330 - accuracy: 0.0031 - val_loss: 0.0207 - val_mae: 0.0362 - val_accuracy: 0.0000e+00\n",
      "Epoch 33/500\n",
      "21/21 [==============================] - 0s 4ms/step - loss: 0.0202 - mae: 0.0325 - accuracy: 0.0031 - val_loss: 0.0202 - val_mae: 0.0330 - val_accuracy: 0.0000e+00\n",
      "Epoch 34/500\n",
      "21/21 [==============================] - 0s 4ms/step - loss: 0.0200 - mae: 0.0317 - accuracy: 0.0031 - val_loss: 0.0207 - val_mae: 0.0383 - val_accuracy: 0.0000e+00\n",
      "Epoch 35/500\n",
      "21/21 [==============================] - 0s 5ms/step - loss: 0.0200 - mae: 0.0330 - accuracy: 0.0031 - val_loss: 0.0203 - val_mae: 0.0354 - val_accuracy: 0.0000e+00\n",
      "Epoch 36/500\n",
      "21/21 [==============================] - 0s 5ms/step - loss: 0.0197 - mae: 0.0303 - accuracy: 0.0031 - val_loss: 0.0198 - val_mae: 0.0314 - val_accuracy: 0.0000e+00\n",
      "Epoch 37/500\n",
      "21/21 [==============================] - 0s 4ms/step - loss: 0.0196 - mae: 0.0304 - accuracy: 0.0031 - val_loss: 0.0196 - val_mae: 0.0310 - val_accuracy: 0.0000e+00\n",
      "Epoch 38/500\n",
      "21/21 [==============================] - 0s 5ms/step - loss: 0.0195 - mae: 0.0294 - accuracy: 0.0031 - val_loss: 0.0197 - val_mae: 0.0325 - val_accuracy: 0.0000e+00\n",
      "Epoch 39/500\n",
      "21/21 [==============================] - 0s 6ms/step - loss: 0.0194 - mae: 0.0302 - accuracy: 0.0031 - val_loss: 0.0195 - val_mae: 0.0315 - val_accuracy: 0.0000e+00\n",
      "Epoch 40/500\n",
      "21/21 [==============================] - 0s 4ms/step - loss: 0.0193 - mae: 0.0298 - accuracy: 0.0031 - val_loss: 0.0193 - val_mae: 0.0305 - val_accuracy: 0.0000e+00\n",
      "Epoch 41/500\n",
      "21/21 [==============================] - 0s 4ms/step - loss: 0.0192 - mae: 0.0301 - accuracy: 0.0031 - val_loss: 0.0194 - val_mae: 0.0328 - val_accuracy: 0.0000e+00\n",
      "Epoch 42/500\n",
      "21/21 [==============================] - 0s 4ms/step - loss: 0.0191 - mae: 0.0291 - accuracy: 0.0031 - val_loss: 0.0195 - val_mae: 0.0356 - val_accuracy: 0.0000e+00\n",
      "Epoch 43/500\n",
      "21/21 [==============================] - 0s 4ms/step - loss: 0.0190 - mae: 0.0303 - accuracy: 0.0031 - val_loss: 0.0190 - val_mae: 0.0298 - val_accuracy: 0.0000e+00\n",
      "Epoch 44/500\n",
      "21/21 [==============================] - 0s 4ms/step - loss: 0.0189 - mae: 0.0296 - accuracy: 0.0031 - val_loss: 0.0191 - val_mae: 0.0337 - val_accuracy: 0.0000e+00\n",
      "Epoch 45/500\n",
      "21/21 [==============================] - 0s 4ms/step - loss: 0.0195 - mae: 0.0372 - accuracy: 0.0031 - val_loss: 0.0192 - val_mae: 0.0343 - val_accuracy: 0.0000e+00\n",
      "Epoch 46/500\n",
      "21/21 [==============================] - 0s 4ms/step - loss: 0.0187 - mae: 0.0294 - accuracy: 0.0031 - val_loss: 0.0188 - val_mae: 0.0323 - val_accuracy: 0.0000e+00\n",
      "Epoch 47/500\n",
      "21/21 [==============================] - 0s 5ms/step - loss: 0.0185 - mae: 0.0286 - accuracy: 0.0031 - val_loss: 0.0196 - val_mae: 0.0410 - val_accuracy: 0.0000e+00\n",
      "Epoch 48/500\n",
      "21/21 [==============================] - 0s 6ms/step - loss: 0.0189 - mae: 0.0349 - accuracy: 0.0031 - val_loss: 0.0185 - val_mae: 0.0305 - val_accuracy: 0.0000e+00\n",
      "Epoch 49/500\n",
      "21/21 [==============================] - 0s 6ms/step - loss: 0.0184 - mae: 0.0296 - accuracy: 0.0031 - val_loss: 0.0185 - val_mae: 0.0314 - val_accuracy: 0.0000e+00\n",
      "Epoch 50/500\n",
      "21/21 [==============================] - 0s 5ms/step - loss: 0.0184 - mae: 0.0305 - accuracy: 0.0031 - val_loss: 0.0183 - val_mae: 0.0305 - val_accuracy: 0.0000e+00\n",
      "Epoch 51/500\n",
      "21/21 [==============================] - 0s 12ms/step - loss: 0.0181 - mae: 0.0281 - accuracy: 0.0031 - val_loss: 0.0187 - val_mae: 0.0358 - val_accuracy: 0.0000e+00\n",
      "Epoch 52/500\n",
      "21/21 [==============================] - 0s 6ms/step - loss: 0.0183 - mae: 0.0319 - accuracy: 0.0031 - val_loss: 0.0180 - val_mae: 0.0286 - val_accuracy: 0.0000e+00\n",
      "Epoch 53/500\n",
      "21/21 [==============================] - 0s 5ms/step - loss: 0.0179 - mae: 0.0285 - accuracy: 0.0031 - val_loss: 0.0183 - val_mae: 0.0314 - val_accuracy: 0.0000e+00\n",
      "Epoch 54/500\n",
      "21/21 [==============================] - 0s 5ms/step - loss: 0.0178 - mae: 0.0278 - accuracy: 0.0031 - val_loss: 0.0178 - val_mae: 0.0284 - val_accuracy: 0.0000e+00\n",
      "Epoch 55/500\n",
      "21/21 [==============================] - 0s 4ms/step - loss: 0.0177 - mae: 0.0280 - accuracy: 0.0031 - val_loss: 0.0177 - val_mae: 0.0285 - val_accuracy: 0.0000e+00\n",
      "Epoch 56/500\n",
      "21/21 [==============================] - 0s 4ms/step - loss: 0.0176 - mae: 0.0287 - accuracy: 0.0031 - val_loss: 0.0176 - val_mae: 0.0288 - val_accuracy: 0.0000e+00\n",
      "Epoch 57/500\n",
      "21/21 [==============================] - 0s 4ms/step - loss: 0.0175 - mae: 0.0273 - accuracy: 0.0031 - val_loss: 0.0178 - val_mae: 0.0332 - val_accuracy: 0.0000e+00\n",
      "Epoch 58/500\n",
      "21/21 [==============================] - 0s 4ms/step - loss: 0.0173 - mae: 0.0273 - accuracy: 0.0031 - val_loss: 0.0174 - val_mae: 0.0288 - val_accuracy: 0.0000e+00\n",
      "Epoch 59/500\n",
      "21/21 [==============================] - 0s 4ms/step - loss: 0.0172 - mae: 0.0268 - accuracy: 0.0031 - val_loss: 0.0173 - val_mae: 0.0282 - val_accuracy: 0.0000e+00\n",
      "Epoch 60/500\n",
      "21/21 [==============================] - 0s 5ms/step - loss: 0.0172 - mae: 0.0280 - accuracy: 0.0031 - val_loss: 0.0174 - val_mae: 0.0315 - val_accuracy: 0.0000e+00\n",
      "Epoch 61/500\n",
      "21/21 [==============================] - 0s 4ms/step - loss: 0.0171 - mae: 0.0274 - accuracy: 0.0031 - val_loss: 0.0172 - val_mae: 0.0282 - val_accuracy: 0.0000e+00\n",
      "Epoch 62/500\n",
      "21/21 [==============================] - 0s 4ms/step - loss: 0.0172 - mae: 0.0293 - accuracy: 0.0031 - val_loss: 0.0179 - val_mae: 0.0385 - val_accuracy: 0.0000e+00\n",
      "Epoch 63/500\n",
      "21/21 [==============================] - 0s 4ms/step - loss: 0.0173 - mae: 0.0324 - accuracy: 0.0031 - val_loss: 0.0170 - val_mae: 0.0286 - val_accuracy: 0.0000e+00\n",
      "Epoch 64/500\n",
      "21/21 [==============================] - 0s 6ms/step - loss: 0.0168 - mae: 0.0279 - accuracy: 0.0031 - val_loss: 0.0169 - val_mae: 0.0300 - val_accuracy: 0.0000e+00\n",
      "Epoch 65/500\n",
      "21/21 [==============================] - 0s 6ms/step - loss: 0.0168 - mae: 0.0287 - accuracy: 0.0031 - val_loss: 0.0170 - val_mae: 0.0322 - val_accuracy: 0.0000e+00\n",
      "Epoch 66/500\n",
      "21/21 [==============================] - 0s 10ms/step - loss: 0.0167 - mae: 0.0291 - accuracy: 0.0031 - val_loss: 0.0167 - val_mae: 0.0280 - val_accuracy: 0.0000e+00\n",
      "Epoch 67/500\n",
      "21/21 [==============================] - 0s 7ms/step - loss: 0.0165 - mae: 0.0269 - accuracy: 0.0031 - val_loss: 0.0165 - val_mae: 0.0284 - val_accuracy: 0.0000e+00\n",
      "Epoch 68/500\n",
      "21/21 [==============================] - 0s 6ms/step - loss: 0.0167 - mae: 0.0304 - accuracy: 0.0031 - val_loss: 0.0177 - val_mae: 0.0425 - val_accuracy: 0.0000e+00\n",
      "Epoch 69/500\n",
      "21/21 [==============================] - 0s 5ms/step - loss: 0.0165 - mae: 0.0305 - accuracy: 0.0031 - val_loss: 0.0165 - val_mae: 0.0282 - val_accuracy: 0.0000e+00\n",
      "Epoch 70/500\n",
      "21/21 [==============================] - 0s 5ms/step - loss: 0.0163 - mae: 0.0292 - accuracy: 0.0031 - val_loss: 0.0162 - val_mae: 0.0277 - val_accuracy: 0.0000e+00\n",
      "Epoch 71/500\n",
      "21/21 [==============================] - 0s 6ms/step - loss: 0.0161 - mae: 0.0278 - accuracy: 0.0031 - val_loss: 0.0164 - val_mae: 0.0322 - val_accuracy: 0.0000e+00\n",
      "Epoch 72/500\n",
      "21/21 [==============================] - 0s 5ms/step - loss: 0.0161 - mae: 0.0279 - accuracy: 0.0031 - val_loss: 0.0160 - val_mae: 0.0274 - val_accuracy: 0.0000e+00\n",
      "Epoch 73/500\n",
      "21/21 [==============================] - 0s 5ms/step - loss: 0.0159 - mae: 0.0265 - accuracy: 0.0031 - val_loss: 0.0162 - val_mae: 0.0316 - val_accuracy: 0.0000e+00\n",
      "Epoch 74/500\n",
      "21/21 [==============================] - 0s 5ms/step - loss: 0.0158 - mae: 0.0267 - accuracy: 0.0031 - val_loss: 0.0159 - val_mae: 0.0279 - val_accuracy: 0.0000e+00\n",
      "Epoch 75/500\n",
      "21/21 [==============================] - 0s 5ms/step - loss: 0.0157 - mae: 0.0271 - accuracy: 0.0031 - val_loss: 0.0158 - val_mae: 0.0273 - val_accuracy: 0.0000e+00\n",
      "Epoch 76/500\n",
      "21/21 [==============================] - 0s 5ms/step - loss: 0.0157 - mae: 0.0278 - accuracy: 0.0031 - val_loss: 0.0163 - val_mae: 0.0342 - val_accuracy: 0.0000e+00\n",
      "Epoch 77/500\n",
      "21/21 [==============================] - 0s 5ms/step - loss: 0.0158 - mae: 0.0308 - accuracy: 0.0031 - val_loss: 0.0156 - val_mae: 0.0284 - val_accuracy: 0.0000e+00\n",
      "Epoch 78/500\n",
      "21/21 [==============================] - 0s 5ms/step - loss: 0.0155 - mae: 0.0275 - accuracy: 0.0031 - val_loss: 0.0159 - val_mae: 0.0341 - val_accuracy: 0.0000e+00\n",
      "Epoch 79/500\n",
      "21/21 [==============================] - 0s 6ms/step - loss: 0.0159 - mae: 0.0339 - accuracy: 0.0031 - val_loss: 0.0157 - val_mae: 0.0317 - val_accuracy: 0.0000e+00\n",
      "Epoch 80/500\n",
      "21/21 [==============================] - 0s 6ms/step - loss: 0.0153 - mae: 0.0281 - accuracy: 0.0031 - val_loss: 0.0157 - val_mae: 0.0337 - val_accuracy: 0.0000e+00\n",
      "Epoch 81/500\n",
      "21/21 [==============================] - 0s 4ms/step - loss: 0.0153 - mae: 0.0290 - accuracy: 0.0031 - val_loss: 0.0152 - val_mae: 0.0280 - val_accuracy: 0.0000e+00\n",
      "Epoch 82/500\n",
      "21/21 [==============================] - 0s 6ms/step - loss: 0.0150 - mae: 0.0262 - accuracy: 0.0031 - val_loss: 0.0151 - val_mae: 0.0280 - val_accuracy: 0.0000e+00\n",
      "Epoch 83/500\n",
      "21/21 [==============================] - 0s 5ms/step - loss: 0.0149 - mae: 0.0261 - accuracy: 0.0031 - val_loss: 0.0155 - val_mae: 0.0346 - val_accuracy: 0.0000e+00\n",
      "Epoch 84/500\n",
      "21/21 [==============================] - 0s 5ms/step - loss: 0.0150 - mae: 0.0291 - accuracy: 0.0031 - val_loss: 0.0150 - val_mae: 0.0286 - val_accuracy: 0.0000e+00\n",
      "Epoch 85/500\n",
      "21/21 [==============================] - 0s 6ms/step - loss: 0.0147 - mae: 0.0257 - accuracy: 0.0031 - val_loss: 0.0149 - val_mae: 0.0297 - val_accuracy: 0.0000e+00\n",
      "Epoch 86/500\n",
      "21/21 [==============================] - 0s 4ms/step - loss: 0.0146 - mae: 0.0267 - accuracy: 0.0031 - val_loss: 0.0149 - val_mae: 0.0286 - val_accuracy: 0.0000e+00\n",
      "Epoch 87/500\n",
      "21/21 [==============================] - 0s 5ms/step - loss: 0.0147 - mae: 0.0279 - accuracy: 0.0031 - val_loss: 0.0146 - val_mae: 0.0270 - val_accuracy: 0.0000e+00\n",
      "Epoch 88/500\n",
      "21/21 [==============================] - 0s 5ms/step - loss: 0.0144 - mae: 0.0254 - accuracy: 0.0031 - val_loss: 0.0155 - val_mae: 0.0392 - val_accuracy: 0.0000e+00\n",
      "Epoch 89/500\n",
      "21/21 [==============================] - 0s 4ms/step - loss: 0.0148 - mae: 0.0312 - accuracy: 0.0031 - val_loss: 0.0146 - val_mae: 0.0305 - val_accuracy: 0.0000e+00\n",
      "Epoch 90/500\n",
      "21/21 [==============================] - 0s 4ms/step - loss: 0.0144 - mae: 0.0272 - accuracy: 0.0031 - val_loss: 0.0144 - val_mae: 0.0271 - val_accuracy: 0.0000e+00\n",
      "Epoch 91/500\n",
      "21/21 [==============================] - 0s 8ms/step - loss: 0.0143 - mae: 0.0271 - accuracy: 0.0031 - val_loss: 0.0142 - val_mae: 0.0273 - val_accuracy: 0.0000e+00\n",
      "Epoch 92/500\n",
      "21/21 [==============================] - 0s 7ms/step - loss: 0.0142 - mae: 0.0279 - accuracy: 0.0031 - val_loss: 0.0169 - val_mae: 0.0532 - val_accuracy: 0.0000e+00\n",
      "Epoch 93/500\n",
      "21/21 [==============================] - 0s 5ms/step - loss: 0.0150 - mae: 0.0381 - accuracy: 0.0031 - val_loss: 0.0142 - val_mae: 0.0286 - val_accuracy: 0.0000e+00\n",
      "Epoch 94/500\n",
      "21/21 [==============================] - 0s 5ms/step - loss: 0.0139 - mae: 0.0261 - accuracy: 0.0031 - val_loss: 0.0143 - val_mae: 0.0316 - val_accuracy: 0.0000e+00\n",
      "Epoch 95/500\n",
      "21/21 [==============================] - 0s 6ms/step - loss: 0.0139 - mae: 0.0280 - accuracy: 0.0031 - val_loss: 0.0139 - val_mae: 0.0276 - val_accuracy: 0.0000e+00\n",
      "Epoch 96/500\n",
      "21/21 [==============================] - 0s 4ms/step - loss: 0.0137 - mae: 0.0253 - accuracy: 0.0031 - val_loss: 0.0141 - val_mae: 0.0317 - val_accuracy: 0.0000e+00\n",
      "Epoch 97/500\n",
      "21/21 [==============================] - 0s 5ms/step - loss: 0.0136 - mae: 0.0261 - accuracy: 0.0031 - val_loss: 0.0137 - val_mae: 0.0272 - val_accuracy: 0.0000e+00\n",
      "Epoch 98/500\n",
      "21/21 [==============================] - 0s 4ms/step - loss: 0.0135 - mae: 0.0255 - accuracy: 0.0031 - val_loss: 0.0136 - val_mae: 0.0275 - val_accuracy: 0.0000e+00\n",
      "Epoch 99/500\n",
      "21/21 [==============================] - 0s 4ms/step - loss: 0.0134 - mae: 0.0250 - accuracy: 0.0031 - val_loss: 0.0136 - val_mae: 0.0289 - val_accuracy: 0.0000e+00\n",
      "Epoch 100/500\n",
      "21/21 [==============================] - 0s 4ms/step - loss: 0.0133 - mae: 0.0253 - accuracy: 0.0031 - val_loss: 0.0137 - val_mae: 0.0281 - val_accuracy: 0.0000e+00\n",
      "Epoch 101/500\n",
      "21/21 [==============================] - 0s 4ms/step - loss: 0.0135 - mae: 0.0297 - accuracy: 0.0031 - val_loss: 0.0134 - val_mae: 0.0273 - val_accuracy: 0.0000e+00\n",
      "Epoch 102/500\n",
      "21/21 [==============================] - 0s 4ms/step - loss: 0.0133 - mae: 0.0274 - accuracy: 0.0031 - val_loss: 0.0133 - val_mae: 0.0267 - val_accuracy: 0.0000e+00\n",
      "Epoch 103/500\n",
      "21/21 [==============================] - 0s 4ms/step - loss: 0.0131 - mae: 0.0262 - accuracy: 0.0031 - val_loss: 0.0133 - val_mae: 0.0267 - val_accuracy: 0.0000e+00\n",
      "Epoch 104/500\n",
      "21/21 [==============================] - 0s 5ms/step - loss: 0.0130 - mae: 0.0254 - accuracy: 0.0031 - val_loss: 0.0136 - val_mae: 0.0337 - val_accuracy: 0.0000e+00\n",
      "Epoch 105/500\n",
      "21/21 [==============================] - 0s 5ms/step - loss: 0.0135 - mae: 0.0330 - accuracy: 0.0031 - val_loss: 0.0133 - val_mae: 0.0308 - val_accuracy: 0.0000e+00\n",
      "Epoch 106/500\n",
      "21/21 [==============================] - 0s 5ms/step - loss: 0.0135 - mae: 0.0343 - accuracy: 0.0031 - val_loss: 0.0129 - val_mae: 0.0267 - val_accuracy: 0.0000e+00\n",
      "Epoch 107/500\n",
      "21/21 [==============================] - 0s 5ms/step - loss: 0.0128 - mae: 0.0268 - accuracy: 0.0031 - val_loss: 0.0133 - val_mae: 0.0343 - val_accuracy: 0.0000e+00\n",
      "Epoch 108/500\n",
      "21/21 [==============================] - 0s 4ms/step - loss: 0.0128 - mae: 0.0276 - accuracy: 0.0031 - val_loss: 0.0128 - val_mae: 0.0270 - val_accuracy: 0.0000e+00\n",
      "Epoch 109/500\n",
      "21/21 [==============================] - 0s 5ms/step - loss: 0.0125 - mae: 0.0255 - accuracy: 0.0031 - val_loss: 0.0129 - val_mae: 0.0282 - val_accuracy: 0.0000e+00\n",
      "Epoch 110/500\n",
      "21/21 [==============================] - 0s 5ms/step - loss: 0.0126 - mae: 0.0274 - accuracy: 0.0031 - val_loss: 0.0127 - val_mae: 0.0270 - val_accuracy: 0.0000e+00\n",
      "Epoch 111/500\n",
      "21/21 [==============================] - 0s 7ms/step - loss: 0.0128 - mae: 0.0304 - accuracy: 0.0031 - val_loss: 0.0127 - val_mae: 0.0300 - val_accuracy: 0.0000e+00\n",
      "Epoch 112/500\n",
      "21/21 [==============================] - 0s 6ms/step - loss: 0.0123 - mae: 0.0260 - accuracy: 0.0031 - val_loss: 0.0124 - val_mae: 0.0266 - val_accuracy: 0.0000e+00\n",
      "Epoch 113/500\n",
      "21/21 [==============================] - 0s 5ms/step - loss: 0.0122 - mae: 0.0253 - accuracy: 0.0031 - val_loss: 0.0124 - val_mae: 0.0273 - val_accuracy: 0.0000e+00\n",
      "Epoch 114/500\n",
      "21/21 [==============================] - 0s 5ms/step - loss: 0.0123 - mae: 0.0272 - accuracy: 0.0031 - val_loss: 0.0123 - val_mae: 0.0269 - val_accuracy: 0.0000e+00\n",
      "Epoch 115/500\n",
      "21/21 [==============================] - 0s 5ms/step - loss: 0.0121 - mae: 0.0263 - accuracy: 0.0031 - val_loss: 0.0123 - val_mae: 0.0293 - val_accuracy: 0.0000e+00\n",
      "Epoch 116/500\n",
      "21/21 [==============================] - 0s 5ms/step - loss: 0.0121 - mae: 0.0278 - accuracy: 0.0031 - val_loss: 0.0123 - val_mae: 0.0276 - val_accuracy: 0.0000e+00\n",
      "Epoch 117/500\n",
      "21/21 [==============================] - 0s 5ms/step - loss: 0.0120 - mae: 0.0277 - accuracy: 0.0031 - val_loss: 0.0121 - val_mae: 0.0273 - val_accuracy: 0.0000e+00\n",
      "Epoch 118/500\n",
      "21/21 [==============================] - 0s 4ms/step - loss: 0.0119 - mae: 0.0263 - accuracy: 0.0031 - val_loss: 0.0121 - val_mae: 0.0306 - val_accuracy: 0.0000e+00\n",
      "Epoch 119/500\n",
      "21/21 [==============================] - 0s 5ms/step - loss: 0.0121 - mae: 0.0309 - accuracy: 0.0031 - val_loss: 0.0119 - val_mae: 0.0275 - val_accuracy: 0.0000e+00\n",
      "Epoch 120/500\n",
      "21/21 [==============================] - 0s 5ms/step - loss: 0.0116 - mae: 0.0251 - accuracy: 0.0031 - val_loss: 0.0119 - val_mae: 0.0288 - val_accuracy: 0.0000e+00\n",
      "Epoch 121/500\n",
      "21/21 [==============================] - 0s 4ms/step - loss: 0.0115 - mae: 0.0251 - accuracy: 0.0031 - val_loss: 0.0117 - val_mae: 0.0271 - val_accuracy: 0.0000e+00\n",
      "Epoch 122/500\n",
      "21/21 [==============================] - 0s 4ms/step - loss: 0.0114 - mae: 0.0250 - accuracy: 0.0031 - val_loss: 0.0116 - val_mae: 0.0262 - val_accuracy: 0.0000e+00\n",
      "Epoch 123/500\n",
      "21/21 [==============================] - 0s 4ms/step - loss: 0.0114 - mae: 0.0253 - accuracy: 0.0031 - val_loss: 0.0117 - val_mae: 0.0291 - val_accuracy: 0.0000e+00\n",
      "Epoch 124/500\n",
      "21/21 [==============================] - 0s 4ms/step - loss: 0.0113 - mae: 0.0247 - accuracy: 0.0031 - val_loss: 0.0115 - val_mae: 0.0286 - val_accuracy: 0.0000e+00\n",
      "Epoch 125/500\n",
      "21/21 [==============================] - 0s 7ms/step - loss: 0.0112 - mae: 0.0255 - accuracy: 0.0031 - val_loss: 0.0114 - val_mae: 0.0271 - val_accuracy: 0.0000e+00\n",
      "Epoch 126/500\n",
      "21/21 [==============================] - 0s 4ms/step - loss: 0.0113 - mae: 0.0271 - accuracy: 0.0031 - val_loss: 0.0113 - val_mae: 0.0274 - val_accuracy: 0.0000e+00\n",
      "Epoch 127/500\n",
      "21/21 [==============================] - 0s 4ms/step - loss: 0.0111 - mae: 0.0261 - accuracy: 0.0031 - val_loss: 0.0112 - val_mae: 0.0264 - val_accuracy: 0.0000e+00\n",
      "Epoch 128/500\n",
      "21/21 [==============================] - 0s 4ms/step - loss: 0.0110 - mae: 0.0259 - accuracy: 0.0031 - val_loss: 0.0112 - val_mae: 0.0263 - val_accuracy: 0.0000e+00\n",
      "Epoch 129/500\n",
      "21/21 [==============================] - 0s 5ms/step - loss: 0.0111 - mae: 0.0279 - accuracy: 0.0031 - val_loss: 0.0112 - val_mae: 0.0277 - val_accuracy: 0.0000e+00\n",
      "Epoch 130/500\n",
      "21/21 [==============================] - 0s 4ms/step - loss: 0.0111 - mae: 0.0286 - accuracy: 0.0031 - val_loss: 0.0111 - val_mae: 0.0278 - val_accuracy: 0.0000e+00\n",
      "Epoch 131/500\n",
      "21/21 [==============================] - 0s 4ms/step - loss: 0.0108 - mae: 0.0266 - accuracy: 0.0031 - val_loss: 0.0113 - val_mae: 0.0308 - val_accuracy: 0.0000e+00\n",
      "Epoch 132/500\n",
      "21/21 [==============================] - 0s 5ms/step - loss: 0.0112 - mae: 0.0321 - accuracy: 0.0031 - val_loss: 0.0110 - val_mae: 0.0278 - val_accuracy: 0.0000e+00\n",
      "Epoch 133/500\n",
      "21/21 [==============================] - 0s 4ms/step - loss: 0.0108 - mae: 0.0275 - accuracy: 0.0031 - val_loss: 0.0107 - val_mae: 0.0265 - val_accuracy: 0.0000e+00\n",
      "Epoch 134/500\n",
      "21/21 [==============================] - 0s 7ms/step - loss: 0.0106 - mae: 0.0258 - accuracy: 0.0031 - val_loss: 0.0107 - val_mae: 0.0278 - val_accuracy: 0.0000e+00\n",
      "Epoch 135/500\n",
      "21/21 [==============================] - 0s 4ms/step - loss: 0.0104 - mae: 0.0252 - accuracy: 0.0031 - val_loss: 0.0106 - val_mae: 0.0257 - val_accuracy: 0.0000e+00\n",
      "Epoch 136/500\n",
      "21/21 [==============================] - 0s 4ms/step - loss: 0.0104 - mae: 0.0253 - accuracy: 0.0031 - val_loss: 0.0105 - val_mae: 0.0264 - val_accuracy: 0.0000e+00\n",
      "Epoch 137/500\n",
      "21/21 [==============================] - 0s 4ms/step - loss: 0.0103 - mae: 0.0256 - accuracy: 0.0031 - val_loss: 0.0104 - val_mae: 0.0266 - val_accuracy: 0.0000e+00\n",
      "Epoch 138/500\n",
      "21/21 [==============================] - 0s 4ms/step - loss: 0.0101 - mae: 0.0243 - accuracy: 0.0031 - val_loss: 0.0103 - val_mae: 0.0262 - val_accuracy: 0.0000e+00\n",
      "Epoch 139/500\n",
      "21/21 [==============================] - 0s 4ms/step - loss: 0.0101 - mae: 0.0252 - accuracy: 0.0031 - val_loss: 0.0103 - val_mae: 0.0274 - val_accuracy: 0.0000e+00\n",
      "Epoch 140/500\n",
      "21/21 [==============================] - 0s 4ms/step - loss: 0.0101 - mae: 0.0262 - accuracy: 0.0031 - val_loss: 0.0102 - val_mae: 0.0278 - val_accuracy: 0.0000e+00\n",
      "Epoch 141/500\n",
      "21/21 [==============================] - 0s 4ms/step - loss: 0.0100 - mae: 0.0256 - accuracy: 0.0031 - val_loss: 0.0101 - val_mae: 0.0266 - val_accuracy: 0.0000e+00\n",
      "Epoch 142/500\n",
      "21/21 [==============================] - 0s 4ms/step - loss: 0.0099 - mae: 0.0244 - accuracy: 0.0031 - val_loss: 0.0105 - val_mae: 0.0328 - val_accuracy: 0.0000e+00\n",
      "Epoch 143/500\n",
      "21/21 [==============================] - 0s 4ms/step - loss: 0.0099 - mae: 0.0259 - accuracy: 0.0031 - val_loss: 0.0100 - val_mae: 0.0269 - val_accuracy: 0.0000e+00\n",
      "Epoch 144/500\n",
      "21/21 [==============================] - 0s 4ms/step - loss: 0.0097 - mae: 0.0246 - accuracy: 0.0031 - val_loss: 0.0102 - val_mae: 0.0319 - val_accuracy: 0.0000e+00\n",
      "Epoch 145/500\n",
      "21/21 [==============================] - 0s 5ms/step - loss: 0.0097 - mae: 0.0255 - accuracy: 0.0031 - val_loss: 0.0102 - val_mae: 0.0317 - val_accuracy: 0.0000e+00\n",
      "Epoch 146/500\n",
      "21/21 [==============================] - 0s 5ms/step - loss: 0.0099 - mae: 0.0289 - accuracy: 0.0031 - val_loss: 0.0100 - val_mae: 0.0306 - val_accuracy: 0.0000e+00\n",
      "Epoch 147/500\n",
      "21/21 [==============================] - 0s 4ms/step - loss: 0.0095 - mae: 0.0247 - accuracy: 0.0031 - val_loss: 0.0097 - val_mae: 0.0255 - val_accuracy: 0.0000e+00\n",
      "Epoch 148/500\n",
      "21/21 [==============================] - 0s 4ms/step - loss: 0.0095 - mae: 0.0246 - accuracy: 0.0031 - val_loss: 0.0097 - val_mae: 0.0290 - val_accuracy: 0.0000e+00\n",
      "Epoch 149/500\n",
      "21/21 [==============================] - 0s 4ms/step - loss: 0.0096 - mae: 0.0275 - accuracy: 0.0031 - val_loss: 0.0100 - val_mae: 0.0326 - val_accuracy: 0.0000e+00\n",
      "Epoch 150/500\n",
      "21/21 [==============================] - 0s 5ms/step - loss: 0.0093 - mae: 0.0255 - accuracy: 0.0031 - val_loss: 0.0096 - val_mae: 0.0269 - val_accuracy: 0.0000e+00\n",
      "Epoch 151/500\n",
      "21/21 [==============================] - 0s 4ms/step - loss: 0.0095 - mae: 0.0287 - accuracy: 0.0031 - val_loss: 0.0097 - val_mae: 0.0286 - val_accuracy: 0.0000e+00\n",
      "Epoch 152/500\n",
      "21/21 [==============================] - 0s 5ms/step - loss: 0.0093 - mae: 0.0273 - accuracy: 0.0031 - val_loss: 0.0098 - val_mae: 0.0308 - val_accuracy: 0.0000e+00\n",
      "Epoch 153/500\n",
      "21/21 [==============================] - 0s 4ms/step - loss: 0.0093 - mae: 0.0280 - accuracy: 0.0031 - val_loss: 0.0093 - val_mae: 0.0262 - val_accuracy: 0.0000e+00\n",
      "Epoch 154/500\n",
      "21/21 [==============================] - 0s 4ms/step - loss: 0.0090 - mae: 0.0248 - accuracy: 0.0031 - val_loss: 0.0092 - val_mae: 0.0259 - val_accuracy: 0.0000e+00\n",
      "Epoch 155/500\n",
      "21/21 [==============================] - 0s 4ms/step - loss: 0.0091 - mae: 0.0264 - accuracy: 0.0031 - val_loss: 0.0091 - val_mae: 0.0259 - val_accuracy: 0.0000e+00\n",
      "Epoch 156/500\n",
      "21/21 [==============================] - 0s 4ms/step - loss: 0.0089 - mae: 0.0248 - accuracy: 0.0031 - val_loss: 0.0090 - val_mae: 0.0254 - val_accuracy: 0.0000e+00\n",
      "Epoch 157/500\n",
      "21/21 [==============================] - 0s 4ms/step - loss: 0.0088 - mae: 0.0242 - accuracy: 0.0031 - val_loss: 0.0090 - val_mae: 0.0261 - val_accuracy: 0.0000e+00\n",
      "Epoch 158/500\n",
      "21/21 [==============================] - 0s 4ms/step - loss: 0.0088 - mae: 0.0260 - accuracy: 0.0031 - val_loss: 0.0091 - val_mae: 0.0304 - val_accuracy: 0.0000e+00\n",
      "Epoch 159/500\n",
      "21/21 [==============================] - 0s 5ms/step - loss: 0.0087 - mae: 0.0255 - accuracy: 0.0031 - val_loss: 0.0090 - val_mae: 0.0286 - val_accuracy: 0.0000e+00\n",
      "Epoch 160/500\n",
      "21/21 [==============================] - 0s 4ms/step - loss: 0.0087 - mae: 0.0250 - accuracy: 0.0031 - val_loss: 0.0087 - val_mae: 0.0256 - val_accuracy: 0.0000e+00\n",
      "Epoch 161/500\n",
      "21/21 [==============================] - 0s 5ms/step - loss: 0.0085 - mae: 0.0241 - accuracy: 0.0031 - val_loss: 0.0087 - val_mae: 0.0261 - val_accuracy: 0.0000e+00\n",
      "Epoch 162/500\n",
      "21/21 [==============================] - 0s 4ms/step - loss: 0.0086 - mae: 0.0253 - accuracy: 0.0031 - val_loss: 0.0088 - val_mae: 0.0295 - val_accuracy: 0.0000e+00\n",
      "Epoch 163/500\n",
      "21/21 [==============================] - 0s 4ms/step - loss: 0.0085 - mae: 0.0255 - accuracy: 0.0031 - val_loss: 0.0093 - val_mae: 0.0359 - val_accuracy: 0.0000e+00\n",
      "Epoch 164/500\n",
      "21/21 [==============================] - 0s 4ms/step - loss: 0.0091 - mae: 0.0344 - accuracy: 0.0031 - val_loss: 0.0090 - val_mae: 0.0332 - val_accuracy: 0.0000e+00\n",
      "Epoch 165/500\n",
      "21/21 [==============================] - 0s 4ms/step - loss: 0.0084 - mae: 0.0261 - accuracy: 0.0031 - val_loss: 0.0087 - val_mae: 0.0311 - val_accuracy: 0.0000e+00\n",
      "Epoch 166/500\n",
      "21/21 [==============================] - 0s 4ms/step - loss: 0.0083 - mae: 0.0259 - accuracy: 0.0031 - val_loss: 0.0083 - val_mae: 0.0262 - val_accuracy: 0.0000e+00\n",
      "Epoch 167/500\n",
      "21/21 [==============================] - 0s 4ms/step - loss: 0.0081 - mae: 0.0243 - accuracy: 0.0031 - val_loss: 0.0083 - val_mae: 0.0257 - val_accuracy: 0.0000e+00\n",
      "Epoch 168/500\n",
      "21/21 [==============================] - 0s 4ms/step - loss: 0.0081 - mae: 0.0242 - accuracy: 0.0031 - val_loss: 0.0086 - val_mae: 0.0281 - val_accuracy: 0.0000e+00\n",
      "Epoch 169/500\n",
      "21/21 [==============================] - 0s 4ms/step - loss: 0.0082 - mae: 0.0265 - accuracy: 0.0031 - val_loss: 0.0082 - val_mae: 0.0262 - val_accuracy: 0.0000e+00\n",
      "Epoch 170/500\n",
      "21/21 [==============================] - 0s 5ms/step - loss: 0.0081 - mae: 0.0264 - accuracy: 0.0031 - val_loss: 0.0081 - val_mae: 0.0253 - val_accuracy: 0.0000e+00\n",
      "Epoch 171/500\n",
      "21/21 [==============================] - 0s 5ms/step - loss: 0.0079 - mae: 0.0238 - accuracy: 0.0031 - val_loss: 0.0080 - val_mae: 0.0255 - val_accuracy: 0.0000e+00\n",
      "Epoch 172/500\n",
      "21/21 [==============================] - 0s 4ms/step - loss: 0.0078 - mae: 0.0238 - accuracy: 0.0031 - val_loss: 0.0081 - val_mae: 0.0270 - val_accuracy: 0.0000e+00\n",
      "Epoch 173/500\n",
      "21/21 [==============================] - 0s 6ms/step - loss: 0.0078 - mae: 0.0241 - accuracy: 0.0031 - val_loss: 0.0080 - val_mae: 0.0274 - val_accuracy: 0.0000e+00\n",
      "Epoch 174/500\n",
      "21/21 [==============================] - 0s 4ms/step - loss: 0.0078 - mae: 0.0262 - accuracy: 0.0031 - val_loss: 0.0079 - val_mae: 0.0256 - val_accuracy: 0.0000e+00\n",
      "Epoch 175/500\n",
      "21/21 [==============================] - 0s 4ms/step - loss: 0.0078 - mae: 0.0259 - accuracy: 0.0031 - val_loss: 0.0080 - val_mae: 0.0294 - val_accuracy: 0.0000e+00\n",
      "Epoch 176/500\n",
      "21/21 [==============================] - 0s 5ms/step - loss: 0.0076 - mae: 0.0240 - accuracy: 0.0031 - val_loss: 0.0077 - val_mae: 0.0252 - val_accuracy: 0.0000e+00\n",
      "Epoch 177/500\n",
      "21/21 [==============================] - 0s 5ms/step - loss: 0.0076 - mae: 0.0250 - accuracy: 0.0031 - val_loss: 0.0078 - val_mae: 0.0274 - val_accuracy: 0.0000e+00\n",
      "Epoch 178/500\n",
      "21/21 [==============================] - 0s 4ms/step - loss: 0.0075 - mae: 0.0246 - accuracy: 0.0031 - val_loss: 0.0078 - val_mae: 0.0285 - val_accuracy: 0.0000e+00\n",
      "Epoch 179/500\n",
      "21/21 [==============================] - 0s 4ms/step - loss: 0.0076 - mae: 0.0262 - accuracy: 0.0031 - val_loss: 0.0082 - val_mae: 0.0351 - val_accuracy: 0.0000e+00\n",
      "Epoch 180/500\n",
      "21/21 [==============================] - 0s 4ms/step - loss: 0.0076 - mae: 0.0280 - accuracy: 0.0031 - val_loss: 0.0077 - val_mae: 0.0280 - val_accuracy: 0.0000e+00\n",
      "Epoch 181/500\n",
      "21/21 [==============================] - 0s 4ms/step - loss: 0.0076 - mae: 0.0276 - accuracy: 0.0031 - val_loss: 0.0075 - val_mae: 0.0264 - val_accuracy: 0.0000e+00\n",
      "Epoch 182/500\n",
      "21/21 [==============================] - 0s 7ms/step - loss: 0.0073 - mae: 0.0246 - accuracy: 0.0031 - val_loss: 0.0085 - val_mae: 0.0398 - val_accuracy: 0.0000e+00\n",
      "Epoch 183/500\n",
      "21/21 [==============================] - 0s 4ms/step - loss: 0.0075 - mae: 0.0278 - accuracy: 0.0031 - val_loss: 0.0082 - val_mae: 0.0374 - val_accuracy: 0.0000e+00\n",
      "Epoch 184/500\n",
      "21/21 [==============================] - 0s 5ms/step - loss: 0.0073 - mae: 0.0267 - accuracy: 0.0031 - val_loss: 0.0077 - val_mae: 0.0322 - val_accuracy: 0.0000e+00\n",
      "Epoch 185/500\n",
      "21/21 [==============================] - 0s 4ms/step - loss: 0.0070 - mae: 0.0237 - accuracy: 0.0031 - val_loss: 0.0072 - val_mae: 0.0251 - val_accuracy: 0.0000e+00\n",
      "Epoch 186/500\n",
      "21/21 [==============================] - 0s 4ms/step - loss: 0.0070 - mae: 0.0246 - accuracy: 0.0031 - val_loss: 0.0073 - val_mae: 0.0291 - val_accuracy: 0.0000e+00\n",
      "Epoch 187/500\n",
      "21/21 [==============================] - 0s 4ms/step - loss: 0.0071 - mae: 0.0266 - accuracy: 0.0031 - val_loss: 0.0072 - val_mae: 0.0284 - val_accuracy: 0.0000e+00\n",
      "Epoch 188/500\n",
      "21/21 [==============================] - 0s 4ms/step - loss: 0.0070 - mae: 0.0257 - accuracy: 0.0031 - val_loss: 0.0072 - val_mae: 0.0291 - val_accuracy: 0.0000e+00\n",
      "Epoch 189/500\n",
      "21/21 [==============================] - 0s 5ms/step - loss: 0.0070 - mae: 0.0264 - accuracy: 0.0031 - val_loss: 0.0070 - val_mae: 0.0259 - val_accuracy: 0.0000e+00\n",
      "Epoch 190/500\n",
      "21/21 [==============================] - 0s 6ms/step - loss: 0.0069 - mae: 0.0264 - accuracy: 0.0031 - val_loss: 0.0069 - val_mae: 0.0256 - val_accuracy: 0.0000e+00\n",
      "Epoch 191/500\n",
      "21/21 [==============================] - 0s 5ms/step - loss: 0.0068 - mae: 0.0256 - accuracy: 0.0031 - val_loss: 0.0073 - val_mae: 0.0327 - val_accuracy: 0.0000e+00\n",
      "Epoch 192/500\n",
      "21/21 [==============================] - 0s 4ms/step - loss: 0.0067 - mae: 0.0250 - accuracy: 0.0031 - val_loss: 0.0068 - val_mae: 0.0257 - val_accuracy: 0.0000e+00\n",
      "Epoch 193/500\n",
      "21/21 [==============================] - 0s 5ms/step - loss: 0.0066 - mae: 0.0239 - accuracy: 0.0031 - val_loss: 0.0071 - val_mae: 0.0313 - val_accuracy: 0.0000e+00\n",
      "Epoch 194/500\n",
      "21/21 [==============================] - 0s 4ms/step - loss: 0.0067 - mae: 0.0270 - accuracy: 0.0031 - val_loss: 0.0069 - val_mae: 0.0278 - val_accuracy: 0.0000e+00\n",
      "Epoch 195/500\n",
      "21/21 [==============================] - 0s 4ms/step - loss: 0.0066 - mae: 0.0263 - accuracy: 0.0031 - val_loss: 0.0066 - val_mae: 0.0247 - val_accuracy: 0.0000e+00\n",
      "Epoch 196/500\n",
      "21/21 [==============================] - 0s 4ms/step - loss: 0.0066 - mae: 0.0258 - accuracy: 0.0031 - val_loss: 0.0066 - val_mae: 0.0252 - val_accuracy: 0.0000e+00\n",
      "Epoch 197/500\n",
      "21/21 [==============================] - 0s 4ms/step - loss: 0.0065 - mae: 0.0252 - accuracy: 0.0031 - val_loss: 0.0066 - val_mae: 0.0257 - val_accuracy: 0.0000e+00\n",
      "Epoch 198/500\n",
      "21/21 [==============================] - 0s 4ms/step - loss: 0.0064 - mae: 0.0253 - accuracy: 0.0031 - val_loss: 0.0066 - val_mae: 0.0269 - val_accuracy: 0.0000e+00\n",
      "Epoch 199/500\n",
      "21/21 [==============================] - 0s 4ms/step - loss: 0.0064 - mae: 0.0250 - accuracy: 0.0031 - val_loss: 0.0066 - val_mae: 0.0260 - val_accuracy: 0.0000e+00\n",
      "Epoch 200/500\n",
      "21/21 [==============================] - 0s 4ms/step - loss: 0.0063 - mae: 0.0245 - accuracy: 0.0031 - val_loss: 0.0066 - val_mae: 0.0290 - val_accuracy: 0.0000e+00\n",
      "Epoch 201/500\n",
      "21/21 [==============================] - 0s 4ms/step - loss: 0.0062 - mae: 0.0239 - accuracy: 0.0031 - val_loss: 0.0064 - val_mae: 0.0263 - val_accuracy: 0.0000e+00\n",
      "Epoch 202/500\n",
      "21/21 [==============================] - 0s 4ms/step - loss: 0.0062 - mae: 0.0248 - accuracy: 0.0031 - val_loss: 0.0063 - val_mae: 0.0249 - val_accuracy: 0.0000e+00\n",
      "Epoch 203/500\n",
      "21/21 [==============================] - 0s 4ms/step - loss: 0.0062 - mae: 0.0256 - accuracy: 0.0031 - val_loss: 0.0063 - val_mae: 0.0259 - val_accuracy: 0.0000e+00\n",
      "Epoch 204/500\n",
      "21/21 [==============================] - 0s 4ms/step - loss: 0.0062 - mae: 0.0259 - accuracy: 0.0031 - val_loss: 0.0062 - val_mae: 0.0261 - val_accuracy: 0.0000e+00\n",
      "Epoch 205/500\n",
      "21/21 [==============================] - 0s 4ms/step - loss: 0.0061 - mae: 0.0259 - accuracy: 0.0031 - val_loss: 0.0064 - val_mae: 0.0292 - val_accuracy: 0.0000e+00\n",
      "Epoch 206/500\n",
      "21/21 [==============================] - 0s 6ms/step - loss: 0.0061 - mae: 0.0261 - accuracy: 0.0031 - val_loss: 0.0069 - val_mae: 0.0368 - val_accuracy: 0.0000e+00\n",
      "Epoch 207/500\n",
      "21/21 [==============================] - 0s 4ms/step - loss: 0.0065 - mae: 0.0317 - accuracy: 0.0031 - val_loss: 0.0078 - val_mae: 0.0456 - val_accuracy: 0.0000e+00\n",
      "Epoch 208/500\n",
      "21/21 [==============================] - 0s 4ms/step - loss: 0.0062 - mae: 0.0288 - accuracy: 0.0031 - val_loss: 0.0061 - val_mae: 0.0271 - val_accuracy: 0.0000e+00\n",
      "Epoch 209/500\n",
      "21/21 [==============================] - 0s 4ms/step - loss: 0.0058 - mae: 0.0235 - accuracy: 0.0031 - val_loss: 0.0059 - val_mae: 0.0251 - val_accuracy: 0.0000e+00\n",
      "Epoch 210/500\n",
      "21/21 [==============================] - 0s 4ms/step - loss: 0.0058 - mae: 0.0245 - accuracy: 0.0031 - val_loss: 0.0062 - val_mae: 0.0308 - val_accuracy: 0.0000e+00\n",
      "Epoch 211/500\n",
      "21/21 [==============================] - 0s 4ms/step - loss: 0.0058 - mae: 0.0257 - accuracy: 0.0031 - val_loss: 0.0060 - val_mae: 0.0277 - val_accuracy: 0.0000e+00\n",
      "Epoch 212/500\n",
      "21/21 [==============================] - 0s 4ms/step - loss: 0.0056 - mae: 0.0230 - accuracy: 0.0031 - val_loss: 0.0058 - val_mae: 0.0259 - val_accuracy: 0.0000e+00\n",
      "Epoch 213/500\n",
      "21/21 [==============================] - 0s 4ms/step - loss: 0.0056 - mae: 0.0236 - accuracy: 0.0031 - val_loss: 0.0057 - val_mae: 0.0256 - val_accuracy: 0.0000e+00\n",
      "Epoch 214/500\n",
      "21/21 [==============================] - 0s 5ms/step - loss: 0.0056 - mae: 0.0245 - accuracy: 0.0031 - val_loss: 0.0057 - val_mae: 0.0247 - val_accuracy: 0.0000e+00\n",
      "Epoch 215/500\n",
      "21/21 [==============================] - 0s 4ms/step - loss: 0.0057 - mae: 0.0263 - accuracy: 0.0031 - val_loss: 0.0057 - val_mae: 0.0261 - val_accuracy: 0.0000e+00\n",
      "Epoch 216/500\n",
      "21/21 [==============================] - 0s 4ms/step - loss: 0.0055 - mae: 0.0243 - accuracy: 0.0031 - val_loss: 0.0056 - val_mae: 0.0257 - val_accuracy: 0.0000e+00\n",
      "Epoch 217/500\n",
      "21/21 [==============================] - 0s 5ms/step - loss: 0.0054 - mae: 0.0232 - accuracy: 0.0031 - val_loss: 0.0055 - val_mae: 0.0249 - val_accuracy: 0.0000e+00\n",
      "Epoch 218/500\n",
      "21/21 [==============================] - 0s 5ms/step - loss: 0.0054 - mae: 0.0237 - accuracy: 0.0031 - val_loss: 0.0057 - val_mae: 0.0282 - val_accuracy: 0.0000e+00\n",
      "Epoch 219/500\n",
      "21/21 [==============================] - 0s 5ms/step - loss: 0.0055 - mae: 0.0259 - accuracy: 0.0031 - val_loss: 0.0055 - val_mae: 0.0258 - val_accuracy: 0.0000e+00\n",
      "Epoch 220/500\n",
      "21/21 [==============================] - 0s 5ms/step - loss: 0.0053 - mae: 0.0237 - accuracy: 0.0031 - val_loss: 0.0056 - val_mae: 0.0282 - val_accuracy: 0.0000e+00\n",
      "Epoch 221/500\n",
      "21/21 [==============================] - 0s 5ms/step - loss: 0.0053 - mae: 0.0237 - accuracy: 0.0031 - val_loss: 0.0054 - val_mae: 0.0253 - val_accuracy: 0.0000e+00\n",
      "Epoch 222/500\n",
      "21/21 [==============================] - 0s 6ms/step - loss: 0.0052 - mae: 0.0239 - accuracy: 0.0031 - val_loss: 0.0055 - val_mae: 0.0279 - val_accuracy: 0.0000e+00\n",
      "Epoch 223/500\n",
      "21/21 [==============================] - 0s 9ms/step - loss: 0.0055 - mae: 0.0277 - accuracy: 0.0031 - val_loss: 0.0057 - val_mae: 0.0304 - val_accuracy: 0.0000e+00\n",
      "Epoch 224/500\n",
      "21/21 [==============================] - 0s 6ms/step - loss: 0.0052 - mae: 0.0254 - accuracy: 0.0031 - val_loss: 0.0053 - val_mae: 0.0242 - val_accuracy: 0.0000e+00\n",
      "Epoch 225/500\n",
      "21/21 [==============================] - 0s 6ms/step - loss: 0.0051 - mae: 0.0233 - accuracy: 0.0031 - val_loss: 0.0052 - val_mae: 0.0255 - val_accuracy: 0.0000e+00\n",
      "Epoch 226/500\n",
      "21/21 [==============================] - 0s 6ms/step - loss: 0.0050 - mae: 0.0230 - accuracy: 0.0031 - val_loss: 0.0052 - val_mae: 0.0240 - val_accuracy: 0.0000e+00\n",
      "Epoch 227/500\n",
      "21/21 [==============================] - 0s 6ms/step - loss: 0.0050 - mae: 0.0238 - accuracy: 0.0031 - val_loss: 0.0051 - val_mae: 0.0247 - val_accuracy: 0.0000e+00\n",
      "Epoch 228/500\n",
      "21/21 [==============================] - 0s 5ms/step - loss: 0.0049 - mae: 0.0231 - accuracy: 0.0031 - val_loss: 0.0051 - val_mae: 0.0249 - val_accuracy: 0.0000e+00\n",
      "Epoch 229/500\n",
      "21/21 [==============================] - 0s 5ms/step - loss: 0.0049 - mae: 0.0238 - accuracy: 0.0031 - val_loss: 0.0051 - val_mae: 0.0254 - val_accuracy: 0.0000e+00\n",
      "Epoch 230/500\n",
      "21/21 [==============================] - 0s 6ms/step - loss: 0.0049 - mae: 0.0237 - accuracy: 0.0031 - val_loss: 0.0052 - val_mae: 0.0260 - val_accuracy: 0.0000e+00\n",
      "Epoch 231/500\n",
      "21/21 [==============================] - 0s 8ms/step - loss: 0.0048 - mae: 0.0236 - accuracy: 0.0031 - val_loss: 0.0052 - val_mae: 0.0283 - val_accuracy: 0.0000e+00\n",
      "Epoch 232/500\n",
      "21/21 [==============================] - 0s 5ms/step - loss: 0.0048 - mae: 0.0230 - accuracy: 0.0031 - val_loss: 0.0056 - val_mae: 0.0347 - val_accuracy: 0.0000e+00\n",
      "Epoch 233/500\n",
      "21/21 [==============================] - 0s 5ms/step - loss: 0.0048 - mae: 0.0238 - accuracy: 0.0031 - val_loss: 0.0049 - val_mae: 0.0249 - val_accuracy: 0.0000e+00\n",
      "Epoch 234/500\n",
      "21/21 [==============================] - 0s 5ms/step - loss: 0.0048 - mae: 0.0243 - accuracy: 0.0031 - val_loss: 0.0052 - val_mae: 0.0302 - val_accuracy: 0.0000e+00\n",
      "Epoch 235/500\n",
      "21/21 [==============================] - 0s 5ms/step - loss: 0.0049 - mae: 0.0274 - accuracy: 0.0031 - val_loss: 0.0048 - val_mae: 0.0240 - val_accuracy: 0.0000e+00\n",
      "Epoch 236/500\n",
      "21/21 [==============================] - 0s 5ms/step - loss: 0.0046 - mae: 0.0229 - accuracy: 0.0031 - val_loss: 0.0050 - val_mae: 0.0269 - val_accuracy: 0.0000e+00\n",
      "Epoch 237/500\n",
      "21/21 [==============================] - 0s 6ms/step - loss: 0.0047 - mae: 0.0242 - accuracy: 0.0031 - val_loss: 0.0048 - val_mae: 0.0243 - val_accuracy: 0.0000e+00\n",
      "Epoch 238/500\n",
      "21/21 [==============================] - 0s 8ms/step - loss: 0.0047 - mae: 0.0257 - accuracy: 0.0031 - val_loss: 0.0057 - val_mae: 0.0379 - val_accuracy: 0.0000e+00\n",
      "Epoch 239/500\n",
      "21/21 [==============================] - 0s 7ms/step - loss: 0.0052 - mae: 0.0328 - accuracy: 0.0031 - val_loss: 0.0057 - val_mae: 0.0376 - val_accuracy: 0.0000e+00\n",
      "Epoch 240/500\n",
      "21/21 [==============================] - 0s 7ms/step - loss: 0.0047 - mae: 0.0260 - accuracy: 0.0031 - val_loss: 0.0051 - val_mae: 0.0302 - val_accuracy: 0.0000e+00\n",
      "Epoch 241/500\n",
      "21/21 [==============================] - 0s 6ms/step - loss: 0.0050 - mae: 0.0307 - accuracy: 0.0031 - val_loss: 0.0047 - val_mae: 0.0250 - val_accuracy: 0.0000e+00\n",
      "Epoch 242/500\n",
      "21/21 [==============================] - 0s 5ms/step - loss: 0.0045 - mae: 0.0245 - accuracy: 0.0031 - val_loss: 0.0047 - val_mae: 0.0257 - val_accuracy: 0.0000e+00\n",
      "Epoch 243/500\n",
      "21/21 [==============================] - 0s 9ms/step - loss: 0.0044 - mae: 0.0239 - accuracy: 0.0031 - val_loss: 0.0045 - val_mae: 0.0242 - val_accuracy: 0.0000e+00\n",
      "Epoch 244/500\n",
      "21/21 [==============================] - 0s 7ms/step - loss: 0.0043 - mae: 0.0231 - accuracy: 0.0031 - val_loss: 0.0045 - val_mae: 0.0249 - val_accuracy: 0.0000e+00\n",
      "Epoch 245/500\n",
      "21/21 [==============================] - 0s 6ms/step - loss: 0.0043 - mae: 0.0228 - accuracy: 0.0031 - val_loss: 0.0054 - val_mae: 0.0376 - val_accuracy: 0.0000e+00\n",
      "Epoch 246/500\n",
      "21/21 [==============================] - 0s 9ms/step - loss: 0.0044 - mae: 0.0247 - accuracy: 0.0031 - val_loss: 0.0044 - val_mae: 0.0245 - val_accuracy: 0.0000e+00\n",
      "Epoch 247/500\n",
      "21/21 [==============================] - 0s 6ms/step - loss: 0.0042 - mae: 0.0229 - accuracy: 0.0031 - val_loss: 0.0045 - val_mae: 0.0269 - val_accuracy: 0.0000e+00\n",
      "Epoch 248/500\n",
      "21/21 [==============================] - 0s 4ms/step - loss: 0.0042 - mae: 0.0227 - accuracy: 0.0031 - val_loss: 0.0047 - val_mae: 0.0304 - val_accuracy: 0.0000e+00\n",
      "Epoch 249/500\n",
      "21/21 [==============================] - 0s 4ms/step - loss: 0.0042 - mae: 0.0239 - accuracy: 0.0031 - val_loss: 0.0043 - val_mae: 0.0252 - val_accuracy: 0.0000e+00\n",
      "Epoch 250/500\n",
      "21/21 [==============================] - 0s 5ms/step - loss: 0.0041 - mae: 0.0221 - accuracy: 0.0031 - val_loss: 0.0043 - val_mae: 0.0243 - val_accuracy: 0.0000e+00\n",
      "Epoch 251/500\n",
      "21/21 [==============================] - 0s 6ms/step - loss: 0.0042 - mae: 0.0241 - accuracy: 0.0031 - val_loss: 0.0043 - val_mae: 0.0248 - val_accuracy: 0.0000e+00\n",
      "Epoch 252/500\n",
      "21/21 [==============================] - 0s 7ms/step - loss: 0.0040 - mae: 0.0225 - accuracy: 0.0031 - val_loss: 0.0043 - val_mae: 0.0255 - val_accuracy: 0.0000e+00\n",
      "Epoch 253/500\n",
      "21/21 [==============================] - 0s 6ms/step - loss: 0.0042 - mae: 0.0251 - accuracy: 0.0031 - val_loss: 0.0043 - val_mae: 0.0256 - val_accuracy: 0.0000e+00\n",
      "Epoch 254/500\n",
      "21/21 [==============================] - 0s 6ms/step - loss: 0.0043 - mae: 0.0270 - accuracy: 0.0031 - val_loss: 0.0043 - val_mae: 0.0252 - val_accuracy: 0.0000e+00\n",
      "Epoch 255/500\n",
      "21/21 [==============================] - 0s 6ms/step - loss: 0.0040 - mae: 0.0233 - accuracy: 0.0031 - val_loss: 0.0043 - val_mae: 0.0263 - val_accuracy: 0.0000e+00\n",
      "Epoch 256/500\n",
      "21/21 [==============================] - 0s 5ms/step - loss: 0.0039 - mae: 0.0222 - accuracy: 0.0031 - val_loss: 0.0041 - val_mae: 0.0245 - val_accuracy: 0.0000e+00\n",
      "Epoch 257/500\n",
      "21/21 [==============================] - 0s 5ms/step - loss: 0.0039 - mae: 0.0218 - accuracy: 0.0031 - val_loss: 0.0040 - val_mae: 0.0239 - val_accuracy: 0.0000e+00\n",
      "Epoch 258/500\n",
      "21/21 [==============================] - 0s 5ms/step - loss: 0.0038 - mae: 0.0219 - accuracy: 0.0031 - val_loss: 0.0040 - val_mae: 0.0247 - val_accuracy: 0.0000e+00\n",
      "Epoch 259/500\n",
      "21/21 [==============================] - 0s 4ms/step - loss: 0.0038 - mae: 0.0226 - accuracy: 0.0031 - val_loss: 0.0042 - val_mae: 0.0252 - val_accuracy: 0.0000e+00\n",
      "Epoch 260/500\n",
      "21/21 [==============================] - 0s 4ms/step - loss: 0.0038 - mae: 0.0227 - accuracy: 0.0031 - val_loss: 0.0043 - val_mae: 0.0299 - val_accuracy: 0.0000e+00\n",
      "Epoch 261/500\n",
      "21/21 [==============================] - 0s 5ms/step - loss: 0.0039 - mae: 0.0243 - accuracy: 0.0031 - val_loss: 0.0044 - val_mae: 0.0315 - val_accuracy: 0.0000e+00\n",
      "Epoch 262/500\n",
      "21/21 [==============================] - 0s 5ms/step - loss: 0.0038 - mae: 0.0230 - accuracy: 0.0031 - val_loss: 0.0042 - val_mae: 0.0294 - val_accuracy: 0.0000e+00\n",
      "Epoch 263/500\n",
      "21/21 [==============================] - 0s 5ms/step - loss: 0.0037 - mae: 0.0223 - accuracy: 0.0031 - val_loss: 0.0039 - val_mae: 0.0251 - val_accuracy: 0.0000e+00\n",
      "Epoch 264/500\n",
      "21/21 [==============================] - 0s 4ms/step - loss: 0.0038 - mae: 0.0238 - accuracy: 0.0031 - val_loss: 0.0042 - val_mae: 0.0301 - val_accuracy: 0.0000e+00\n",
      "Epoch 265/500\n",
      "21/21 [==============================] - 0s 4ms/step - loss: 0.0038 - mae: 0.0253 - accuracy: 0.0031 - val_loss: 0.0039 - val_mae: 0.0259 - val_accuracy: 0.0000e+00\n",
      "Epoch 266/500\n",
      "21/21 [==============================] - 0s 5ms/step - loss: 0.0036 - mae: 0.0228 - accuracy: 0.0031 - val_loss: 0.0038 - val_mae: 0.0256 - val_accuracy: 0.0000e+00\n",
      "Epoch 267/500\n",
      "21/21 [==============================] - 0s 4ms/step - loss: 0.0037 - mae: 0.0235 - accuracy: 0.0031 - val_loss: 0.0037 - val_mae: 0.0238 - val_accuracy: 0.0000e+00\n",
      "Epoch 268/500\n",
      "21/21 [==============================] - 0s 5ms/step - loss: 0.0036 - mae: 0.0223 - accuracy: 0.0031 - val_loss: 0.0037 - val_mae: 0.0237 - val_accuracy: 0.0000e+00\n",
      "Epoch 269/500\n",
      "21/21 [==============================] - 0s 12ms/step - loss: 0.0035 - mae: 0.0219 - accuracy: 0.0031 - val_loss: 0.0037 - val_mae: 0.0246 - val_accuracy: 0.0000e+00\n",
      "Epoch 270/500\n",
      "21/21 [==============================] - 0s 7ms/step - loss: 0.0036 - mae: 0.0229 - accuracy: 0.0031 - val_loss: 0.0039 - val_mae: 0.0283 - val_accuracy: 0.0000e+00\n",
      "Epoch 271/500\n",
      "21/21 [==============================] - 0s 5ms/step - loss: 0.0035 - mae: 0.0233 - accuracy: 0.0031 - val_loss: 0.0037 - val_mae: 0.0258 - val_accuracy: 0.0000e+00\n",
      "Epoch 272/500\n",
      "21/21 [==============================] - 0s 6ms/step - loss: 0.0034 - mae: 0.0224 - accuracy: 0.0031 - val_loss: 0.0038 - val_mae: 0.0254 - val_accuracy: 0.0000e+00\n",
      "Epoch 273/500\n",
      "21/21 [==============================] - 0s 6ms/step - loss: 0.0034 - mae: 0.0218 - accuracy: 0.0031 - val_loss: 0.0038 - val_mae: 0.0260 - val_accuracy: 0.0000e+00\n",
      "Epoch 274/500\n",
      "21/21 [==============================] - 0s 7ms/step - loss: 0.0036 - mae: 0.0247 - accuracy: 0.0031 - val_loss: 0.0035 - val_mae: 0.0235 - val_accuracy: 0.0000e+00\n",
      "Epoch 275/500\n",
      "21/21 [==============================] - 0s 6ms/step - loss: 0.0035 - mae: 0.0235 - accuracy: 0.0031 - val_loss: 0.0035 - val_mae: 0.0234 - val_accuracy: 0.0000e+00\n",
      "Epoch 276/500\n",
      "21/21 [==============================] - 0s 5ms/step - loss: 0.0033 - mae: 0.0215 - accuracy: 0.0031 - val_loss: 0.0036 - val_mae: 0.0245 - val_accuracy: 0.0000e+00\n",
      "Epoch 277/500\n",
      "21/21 [==============================] - 0s 5ms/step - loss: 0.0035 - mae: 0.0251 - accuracy: 0.0031 - val_loss: 0.0040 - val_mae: 0.0318 - val_accuracy: 0.0000e+00\n",
      "Epoch 278/500\n",
      "21/21 [==============================] - 0s 5ms/step - loss: 0.0036 - mae: 0.0265 - accuracy: 0.0031 - val_loss: 0.0036 - val_mae: 0.0261 - val_accuracy: 0.0000e+00\n",
      "Epoch 279/500\n",
      "21/21 [==============================] - 0s 5ms/step - loss: 0.0034 - mae: 0.0239 - accuracy: 0.0031 - val_loss: 0.0034 - val_mae: 0.0227 - val_accuracy: 0.0000e+00\n",
      "Epoch 280/500\n",
      "21/21 [==============================] - 0s 5ms/step - loss: 0.0032 - mae: 0.0214 - accuracy: 0.0031 - val_loss: 0.0034 - val_mae: 0.0241 - val_accuracy: 0.0000e+00\n",
      "Epoch 281/500\n",
      "21/21 [==============================] - 0s 4ms/step - loss: 0.0032 - mae: 0.0213 - accuracy: 0.0031 - val_loss: 0.0034 - val_mae: 0.0236 - val_accuracy: 0.0000e+00\n",
      "Epoch 282/500\n",
      "21/21 [==============================] - 0s 4ms/step - loss: 0.0031 - mae: 0.0213 - accuracy: 0.0031 - val_loss: 0.0037 - val_mae: 0.0306 - val_accuracy: 0.0000e+00\n",
      "Epoch 283/500\n",
      "21/21 [==============================] - 0s 4ms/step - loss: 0.0033 - mae: 0.0242 - accuracy: 0.0031 - val_loss: 0.0033 - val_mae: 0.0230 - val_accuracy: 0.0000e+00\n",
      "Epoch 284/500\n",
      "21/21 [==============================] - 0s 5ms/step - loss: 0.0031 - mae: 0.0214 - accuracy: 0.0031 - val_loss: 0.0033 - val_mae: 0.0226 - val_accuracy: 0.0000e+00\n",
      "Epoch 285/500\n",
      "21/21 [==============================] - 0s 4ms/step - loss: 0.0031 - mae: 0.0206 - accuracy: 0.0031 - val_loss: 0.0032 - val_mae: 0.0234 - val_accuracy: 0.0000e+00\n",
      "Epoch 286/500\n",
      "21/21 [==============================] - 0s 4ms/step - loss: 0.0031 - mae: 0.0216 - accuracy: 0.0031 - val_loss: 0.0032 - val_mae: 0.0238 - val_accuracy: 0.0000e+00\n",
      "Epoch 287/500\n",
      "21/21 [==============================] - 0s 4ms/step - loss: 0.0031 - mae: 0.0217 - accuracy: 0.0031 - val_loss: 0.0037 - val_mae: 0.0310 - val_accuracy: 0.0000e+00\n",
      "Epoch 288/500\n",
      "21/21 [==============================] - 0s 4ms/step - loss: 0.0031 - mae: 0.0232 - accuracy: 0.0031 - val_loss: 0.0034 - val_mae: 0.0274 - val_accuracy: 0.0000e+00\n",
      "Epoch 289/500\n",
      "21/21 [==============================] - 0s 4ms/step - loss: 0.0030 - mae: 0.0217 - accuracy: 0.0031 - val_loss: 0.0033 - val_mae: 0.0256 - val_accuracy: 0.0000e+00\n",
      "Epoch 290/500\n",
      "21/21 [==============================] - 0s 4ms/step - loss: 0.0030 - mae: 0.0211 - accuracy: 0.0031 - val_loss: 0.0032 - val_mae: 0.0226 - val_accuracy: 0.0000e+00\n",
      "Epoch 291/500\n",
      "21/21 [==============================] - 0s 7ms/step - loss: 0.0030 - mae: 0.0226 - accuracy: 0.0031 - val_loss: 0.0034 - val_mae: 0.0286 - val_accuracy: 0.0000e+00\n",
      "Epoch 292/500\n",
      "21/21 [==============================] - 0s 4ms/step - loss: 0.0030 - mae: 0.0217 - accuracy: 0.0031 - val_loss: 0.0031 - val_mae: 0.0224 - val_accuracy: 0.0000e+00\n",
      "Epoch 293/500\n",
      "21/21 [==============================] - 0s 5ms/step - loss: 0.0029 - mae: 0.0217 - accuracy: 0.0031 - val_loss: 0.0046 - val_mae: 0.0421 - val_accuracy: 0.0000e+00\n",
      "Epoch 294/500\n",
      "21/21 [==============================] - 0s 6ms/step - loss: 0.0031 - mae: 0.0242 - accuracy: 0.0031 - val_loss: 0.0030 - val_mae: 0.0224 - val_accuracy: 0.0000e+00\n",
      "Epoch 295/500\n",
      "21/21 [==============================] - 0s 10ms/step - loss: 0.0029 - mae: 0.0217 - accuracy: 0.0031 - val_loss: 0.0030 - val_mae: 0.0224 - val_accuracy: 0.0000e+00\n",
      "Epoch 296/500\n",
      "21/21 [==============================] - 0s 6ms/step - loss: 0.0029 - mae: 0.0212 - accuracy: 0.0031 - val_loss: 0.0031 - val_mae: 0.0252 - val_accuracy: 0.0000e+00\n",
      "Epoch 297/500\n",
      "21/21 [==============================] - 0s 5ms/step - loss: 0.0028 - mae: 0.0213 - accuracy: 0.0031 - val_loss: 0.0035 - val_mae: 0.0290 - val_accuracy: 0.0000e+00\n",
      "Epoch 298/500\n",
      "21/21 [==============================] - 0s 4ms/step - loss: 0.0030 - mae: 0.0237 - accuracy: 0.0031 - val_loss: 0.0030 - val_mae: 0.0248 - val_accuracy: 0.0000e+00\n",
      "Epoch 299/500\n",
      "21/21 [==============================] - 0s 5ms/step - loss: 0.0028 - mae: 0.0207 - accuracy: 0.0031 - val_loss: 0.0031 - val_mae: 0.0271 - val_accuracy: 0.0000e+00\n",
      "Epoch 300/500\n",
      "21/21 [==============================] - 0s 6ms/step - loss: 0.0028 - mae: 0.0221 - accuracy: 0.0031 - val_loss: 0.0034 - val_mae: 0.0295 - val_accuracy: 0.0000e+00\n",
      "Epoch 301/500\n",
      "21/21 [==============================] - 0s 7ms/step - loss: 0.0029 - mae: 0.0226 - accuracy: 0.0031 - val_loss: 0.0031 - val_mae: 0.0274 - val_accuracy: 0.0000e+00\n",
      "Epoch 302/500\n",
      "21/21 [==============================] - 0s 5ms/step - loss: 0.0028 - mae: 0.0222 - accuracy: 0.0031 - val_loss: 0.0029 - val_mae: 0.0230 - val_accuracy: 0.0000e+00\n",
      "Epoch 303/500\n",
      "21/21 [==============================] - 0s 6ms/step - loss: 0.0027 - mae: 0.0205 - accuracy: 0.0031 - val_loss: 0.0030 - val_mae: 0.0252 - val_accuracy: 0.0000e+00\n",
      "Epoch 304/500\n",
      "21/21 [==============================] - 0s 11ms/step - loss: 0.0028 - mae: 0.0223 - accuracy: 0.0031 - val_loss: 0.0032 - val_mae: 0.0296 - val_accuracy: 0.0000e+00\n",
      "Epoch 305/500\n",
      "21/21 [==============================] - 0s 6ms/step - loss: 0.0027 - mae: 0.0215 - accuracy: 0.0031 - val_loss: 0.0028 - val_mae: 0.0226 - val_accuracy: 0.0000e+00\n",
      "Epoch 306/500\n",
      "21/21 [==============================] - 0s 4ms/step - loss: 0.0026 - mae: 0.0202 - accuracy: 0.0031 - val_loss: 0.0028 - val_mae: 0.0217 - val_accuracy: 0.0000e+00\n",
      "Epoch 307/500\n",
      "21/21 [==============================] - 0s 4ms/step - loss: 0.0027 - mae: 0.0216 - accuracy: 0.0031 - val_loss: 0.0029 - val_mae: 0.0246 - val_accuracy: 0.0000e+00\n",
      "Epoch 308/500\n",
      "21/21 [==============================] - 0s 5ms/step - loss: 0.0028 - mae: 0.0229 - accuracy: 0.0031 - val_loss: 0.0032 - val_mae: 0.0305 - val_accuracy: 0.0000e+00\n",
      "Epoch 309/500\n",
      "21/21 [==============================] - 0s 5ms/step - loss: 0.0028 - mae: 0.0235 - accuracy: 0.0031 - val_loss: 0.0029 - val_mae: 0.0248 - val_accuracy: 0.0000e+00\n",
      "Epoch 310/500\n",
      "21/21 [==============================] - 0s 4ms/step - loss: 0.0026 - mae: 0.0214 - accuracy: 0.0031 - val_loss: 0.0029 - val_mae: 0.0256 - val_accuracy: 0.0000e+00\n",
      "Epoch 311/500\n",
      "21/21 [==============================] - 0s 4ms/step - loss: 0.0025 - mae: 0.0200 - accuracy: 0.0031 - val_loss: 0.0027 - val_mae: 0.0219 - val_accuracy: 0.0000e+00\n",
      "Epoch 312/500\n",
      "21/21 [==============================] - 0s 4ms/step - loss: 0.0025 - mae: 0.0202 - accuracy: 0.0031 - val_loss: 0.0027 - val_mae: 0.0215 - val_accuracy: 0.0000e+00\n",
      "Epoch 313/500\n",
      "21/21 [==============================] - 0s 4ms/step - loss: 0.0026 - mae: 0.0226 - accuracy: 0.0031 - val_loss: 0.0029 - val_mae: 0.0248 - val_accuracy: 0.0000e+00\n",
      "Epoch 314/500\n",
      "21/21 [==============================] - 0s 4ms/step - loss: 0.0027 - mae: 0.0249 - accuracy: 0.0031 - val_loss: 0.0027 - val_mae: 0.0220 - val_accuracy: 0.0000e+00\n",
      "Epoch 315/500\n",
      "21/21 [==============================] - 0s 5ms/step - loss: 0.0026 - mae: 0.0225 - accuracy: 0.0031 - val_loss: 0.0030 - val_mae: 0.0288 - val_accuracy: 0.0000e+00\n",
      "Epoch 316/500\n",
      "21/21 [==============================] - 0s 4ms/step - loss: 0.0025 - mae: 0.0203 - accuracy: 0.0031 - val_loss: 0.0029 - val_mae: 0.0270 - val_accuracy: 0.0000e+00\n",
      "Epoch 317/500\n",
      "21/21 [==============================] - 0s 4ms/step - loss: 0.0025 - mae: 0.0207 - accuracy: 0.0031 - val_loss: 0.0026 - val_mae: 0.0220 - val_accuracy: 0.0000e+00\n",
      "Epoch 318/500\n",
      "21/21 [==============================] - 0s 5ms/step - loss: 0.0024 - mae: 0.0205 - accuracy: 0.0031 - val_loss: 0.0026 - val_mae: 0.0228 - val_accuracy: 0.0000e+00\n",
      "Epoch 319/500\n",
      "21/21 [==============================] - 0s 5ms/step - loss: 0.0024 - mae: 0.0201 - accuracy: 0.0031 - val_loss: 0.0026 - val_mae: 0.0221 - val_accuracy: 0.0000e+00\n",
      "Epoch 320/500\n",
      "21/21 [==============================] - 0s 4ms/step - loss: 0.0024 - mae: 0.0198 - accuracy: 0.0031 - val_loss: 0.0026 - val_mae: 0.0215 - val_accuracy: 0.0000e+00\n",
      "Epoch 321/500\n",
      "21/21 [==============================] - 0s 4ms/step - loss: 0.0024 - mae: 0.0196 - accuracy: 0.0031 - val_loss: 0.0027 - val_mae: 0.0250 - val_accuracy: 0.0000e+00\n",
      "Epoch 322/500\n",
      "21/21 [==============================] - 0s 11ms/step - loss: 0.0024 - mae: 0.0204 - accuracy: 0.0031 - val_loss: 0.0028 - val_mae: 0.0269 - val_accuracy: 0.0000e+00\n",
      "Epoch 323/500\n",
      "21/21 [==============================] - 0s 5ms/step - loss: 0.0025 - mae: 0.0235 - accuracy: 0.0031 - val_loss: 0.0031 - val_mae: 0.0305 - val_accuracy: 0.0000e+00\n",
      "Epoch 324/500\n",
      "21/21 [==============================] - 0s 5ms/step - loss: 0.0026 - mae: 0.0239 - accuracy: 0.0031 - val_loss: 0.0025 - val_mae: 0.0231 - val_accuracy: 0.0000e+00\n",
      "Epoch 325/500\n",
      "21/21 [==============================] - 0s 5ms/step - loss: 0.0024 - mae: 0.0212 - accuracy: 0.0031 - val_loss: 0.0026 - val_mae: 0.0221 - val_accuracy: 0.0000e+00\n",
      "Epoch 326/500\n",
      "21/21 [==============================] - 0s 5ms/step - loss: 0.0024 - mae: 0.0212 - accuracy: 0.0031 - val_loss: 0.0025 - val_mae: 0.0209 - val_accuracy: 0.0000e+00\n",
      "Epoch 327/500\n",
      "21/21 [==============================] - 0s 5ms/step - loss: 0.0023 - mae: 0.0198 - accuracy: 0.0031 - val_loss: 0.0027 - val_mae: 0.0243 - val_accuracy: 0.0000e+00\n",
      "Epoch 328/500\n",
      "21/21 [==============================] - 0s 5ms/step - loss: 0.0023 - mae: 0.0205 - accuracy: 0.0031 - val_loss: 0.0024 - val_mae: 0.0212 - val_accuracy: 0.0000e+00\n",
      "Epoch 329/500\n",
      "21/21 [==============================] - 0s 5ms/step - loss: 0.0022 - mae: 0.0190 - accuracy: 0.0031 - val_loss: 0.0025 - val_mae: 0.0242 - val_accuracy: 0.0000e+00\n",
      "Epoch 330/500\n",
      "21/21 [==============================] - 0s 4ms/step - loss: 0.0022 - mae: 0.0193 - accuracy: 0.0031 - val_loss: 0.0025 - val_mae: 0.0218 - val_accuracy: 0.0000e+00\n",
      "Epoch 331/500\n",
      "21/21 [==============================] - 0s 5ms/step - loss: 0.0022 - mae: 0.0195 - accuracy: 0.0031 - val_loss: 0.0025 - val_mae: 0.0235 - val_accuracy: 0.0000e+00\n",
      "Epoch 332/500\n",
      "21/21 [==============================] - 0s 4ms/step - loss: 0.0022 - mae: 0.0195 - accuracy: 0.0031 - val_loss: 0.0024 - val_mae: 0.0208 - val_accuracy: 0.0000e+00\n",
      "Epoch 333/500\n",
      "21/21 [==============================] - 0s 5ms/step - loss: 0.0022 - mae: 0.0191 - accuracy: 0.0031 - val_loss: 0.0025 - val_mae: 0.0255 - val_accuracy: 0.0000e+00\n",
      "Epoch 334/500\n",
      "21/21 [==============================] - 0s 4ms/step - loss: 0.0022 - mae: 0.0199 - accuracy: 0.0031 - val_loss: 0.0024 - val_mae: 0.0228 - val_accuracy: 0.0000e+00\n",
      "Epoch 335/500\n",
      "21/21 [==============================] - 0s 4ms/step - loss: 0.0021 - mae: 0.0188 - accuracy: 0.0031 - val_loss: 0.0027 - val_mae: 0.0274 - val_accuracy: 0.0000e+00\n",
      "Epoch 336/500\n",
      "21/21 [==============================] - 0s 4ms/step - loss: 0.0023 - mae: 0.0209 - accuracy: 0.0031 - val_loss: 0.0023 - val_mae: 0.0206 - val_accuracy: 0.0000e+00\n",
      "Epoch 337/500\n",
      "21/21 [==============================] - 0s 9ms/step - loss: 0.0022 - mae: 0.0198 - accuracy: 0.0031 - val_loss: 0.0023 - val_mae: 0.0215 - val_accuracy: 0.0000e+00\n",
      "Epoch 338/500\n",
      "21/21 [==============================] - 0s 4ms/step - loss: 0.0021 - mae: 0.0189 - accuracy: 0.0031 - val_loss: 0.0028 - val_mae: 0.0308 - val_accuracy: 0.0000e+00\n",
      "Epoch 339/500\n",
      "21/21 [==============================] - 0s 5ms/step - loss: 0.0022 - mae: 0.0197 - accuracy: 0.0031 - val_loss: 0.0023 - val_mae: 0.0205 - val_accuracy: 0.0000e+00\n",
      "Epoch 340/500\n",
      "21/21 [==============================] - 0s 4ms/step - loss: 0.0021 - mae: 0.0189 - accuracy: 0.0031 - val_loss: 0.0026 - val_mae: 0.0276 - val_accuracy: 0.0000e+00\n",
      "Epoch 341/500\n",
      "21/21 [==============================] - 0s 4ms/step - loss: 0.0022 - mae: 0.0212 - accuracy: 0.0031 - val_loss: 0.0023 - val_mae: 0.0235 - val_accuracy: 0.0000e+00\n",
      "Epoch 342/500\n",
      "21/21 [==============================] - 0s 4ms/step - loss: 0.0022 - mae: 0.0204 - accuracy: 0.0031 - val_loss: 0.0022 - val_mae: 0.0203 - val_accuracy: 0.0000e+00\n",
      "Epoch 343/500\n",
      "21/21 [==============================] - 0s 5ms/step - loss: 0.0022 - mae: 0.0203 - accuracy: 0.0031 - val_loss: 0.0023 - val_mae: 0.0206 - val_accuracy: 0.0000e+00\n",
      "Epoch 344/500\n",
      "21/21 [==============================] - 0s 5ms/step - loss: 0.0020 - mae: 0.0186 - accuracy: 0.0031 - val_loss: 0.0024 - val_mae: 0.0248 - val_accuracy: 0.0000e+00\n",
      "Epoch 345/500\n",
      "21/21 [==============================] - 0s 4ms/step - loss: 0.0021 - mae: 0.0194 - accuracy: 0.0031 - val_loss: 0.0023 - val_mae: 0.0215 - val_accuracy: 0.0000e+00\n",
      "Epoch 346/500\n",
      "21/21 [==============================] - 0s 5ms/step - loss: 0.0021 - mae: 0.0204 - accuracy: 0.0031 - val_loss: 0.0023 - val_mae: 0.0212 - val_accuracy: 0.0000e+00\n",
      "Epoch 347/500\n",
      "21/21 [==============================] - 0s 5ms/step - loss: 0.0021 - mae: 0.0195 - accuracy: 0.0031 - val_loss: 0.0022 - val_mae: 0.0208 - val_accuracy: 0.0000e+00\n",
      "Epoch 348/500\n",
      "21/21 [==============================] - 0s 5ms/step - loss: 0.0021 - mae: 0.0199 - accuracy: 0.0031 - val_loss: 0.0023 - val_mae: 0.0225 - val_accuracy: 0.0000e+00\n",
      "Epoch 349/500\n",
      "21/21 [==============================] - 0s 8ms/step - loss: 0.0023 - mae: 0.0234 - accuracy: 0.0031 - val_loss: 0.0030 - val_mae: 0.0340 - val_accuracy: 0.0000e+00\n",
      "Epoch 350/500\n",
      "21/21 [==============================] - 0s 4ms/step - loss: 0.0022 - mae: 0.0227 - accuracy: 0.0031 - val_loss: 0.0023 - val_mae: 0.0215 - val_accuracy: 0.0000e+00\n",
      "Epoch 351/500\n",
      "21/21 [==============================] - 0s 5ms/step - loss: 0.0021 - mae: 0.0204 - accuracy: 0.0031 - val_loss: 0.0022 - val_mae: 0.0220 - val_accuracy: 0.0000e+00\n",
      "Epoch 352/500\n",
      "21/21 [==============================] - 0s 8ms/step - loss: 0.0020 - mae: 0.0191 - accuracy: 0.0031 - val_loss: 0.0021 - val_mae: 0.0200 - val_accuracy: 0.0000e+00\n",
      "Epoch 353/500\n",
      "21/21 [==============================] - 0s 4ms/step - loss: 0.0020 - mae: 0.0193 - accuracy: 0.0031 - val_loss: 0.0021 - val_mae: 0.0206 - val_accuracy: 0.0000e+00\n",
      "Epoch 354/500\n",
      "21/21 [==============================] - 0s 4ms/step - loss: 0.0019 - mae: 0.0184 - accuracy: 0.0031 - val_loss: 0.0022 - val_mae: 0.0220 - val_accuracy: 0.0000e+00\n",
      "Epoch 355/500\n",
      "21/21 [==============================] - 0s 4ms/step - loss: 0.0019 - mae: 0.0181 - accuracy: 0.0031 - val_loss: 0.0022 - val_mae: 0.0230 - val_accuracy: 0.0000e+00\n",
      "Epoch 356/500\n",
      "21/21 [==============================] - 0s 5ms/step - loss: 0.0020 - mae: 0.0189 - accuracy: 0.0031 - val_loss: 0.0021 - val_mae: 0.0212 - val_accuracy: 0.0000e+00\n",
      "Epoch 357/500\n",
      "21/21 [==============================] - 0s 4ms/step - loss: 0.0019 - mae: 0.0181 - accuracy: 0.0031 - val_loss: 0.0021 - val_mae: 0.0213 - val_accuracy: 0.0000e+00\n",
      "Epoch 358/500\n",
      "21/21 [==============================] - 0s 5ms/step - loss: 0.0020 - mae: 0.0191 - accuracy: 0.0031 - val_loss: 0.0024 - val_mae: 0.0270 - val_accuracy: 0.0000e+00\n",
      "Epoch 359/500\n",
      "21/21 [==============================] - 0s 6ms/step - loss: 0.0019 - mae: 0.0183 - accuracy: 0.0031 - val_loss: 0.0027 - val_mae: 0.0318 - val_accuracy: 0.0000e+00\n",
      "Epoch 360/500\n",
      "21/21 [==============================] - 0s 4ms/step - loss: 0.0021 - mae: 0.0226 - accuracy: 0.0031 - val_loss: 0.0021 - val_mae: 0.0196 - val_accuracy: 0.0000e+00\n",
      "Epoch 361/500\n",
      "21/21 [==============================] - 0s 5ms/step - loss: 0.0019 - mae: 0.0184 - accuracy: 0.0031 - val_loss: 0.0021 - val_mae: 0.0204 - val_accuracy: 0.0000e+00\n",
      "Epoch 362/500\n",
      "21/21 [==============================] - 0s 4ms/step - loss: 0.0020 - mae: 0.0201 - accuracy: 0.0031 - val_loss: 0.0023 - val_mae: 0.0253 - val_accuracy: 0.0000e+00\n",
      "Epoch 363/500\n",
      "21/21 [==============================] - 0s 4ms/step - loss: 0.0019 - mae: 0.0180 - accuracy: 0.0031 - val_loss: 0.0021 - val_mae: 0.0212 - val_accuracy: 0.0000e+00\n",
      "Epoch 364/500\n",
      "21/21 [==============================] - 0s 5ms/step - loss: 0.0019 - mae: 0.0183 - accuracy: 0.0031 - val_loss: 0.0022 - val_mae: 0.0237 - val_accuracy: 0.0000e+00\n",
      "Epoch 365/500\n",
      "21/21 [==============================] - 0s 4ms/step - loss: 0.0020 - mae: 0.0201 - accuracy: 0.0031 - val_loss: 0.0022 - val_mae: 0.0244 - val_accuracy: 0.0000e+00\n",
      "Epoch 366/500\n",
      "21/21 [==============================] - 0s 4ms/step - loss: 0.0019 - mae: 0.0199 - accuracy: 0.0031 - val_loss: 0.0023 - val_mae: 0.0239 - val_accuracy: 0.0000e+00\n",
      "Epoch 367/500\n",
      "21/21 [==============================] - 0s 4ms/step - loss: 0.0020 - mae: 0.0218 - accuracy: 0.0031 - val_loss: 0.0022 - val_mae: 0.0253 - val_accuracy: 0.0000e+00\n",
      "Epoch 368/500\n",
      "21/21 [==============================] - 0s 4ms/step - loss: 0.0020 - mae: 0.0213 - accuracy: 0.0031 - val_loss: 0.0022 - val_mae: 0.0235 - val_accuracy: 0.0000e+00\n",
      "Epoch 369/500\n",
      "21/21 [==============================] - 0s 4ms/step - loss: 0.0021 - mae: 0.0230 - accuracy: 0.0031 - val_loss: 0.0021 - val_mae: 0.0215 - val_accuracy: 0.0000e+00\n",
      "Epoch 370/500\n",
      "21/21 [==============================] - 0s 4ms/step - loss: 0.0018 - mae: 0.0188 - accuracy: 0.0031 - val_loss: 0.0020 - val_mae: 0.0209 - val_accuracy: 0.0000e+00\n",
      "Epoch 371/500\n",
      "21/21 [==============================] - 0s 10ms/step - loss: 0.0019 - mae: 0.0187 - accuracy: 0.0031 - val_loss: 0.0020 - val_mae: 0.0216 - val_accuracy: 0.0000e+00\n",
      "Epoch 372/500\n",
      "21/21 [==============================] - 0s 5ms/step - loss: 0.0018 - mae: 0.0185 - accuracy: 0.0031 - val_loss: 0.0020 - val_mae: 0.0221 - val_accuracy: 0.0000e+00\n",
      "Epoch 373/500\n",
      "21/21 [==============================] - 0s 5ms/step - loss: 0.0018 - mae: 0.0180 - accuracy: 0.0031 - val_loss: 0.0024 - val_mae: 0.0287 - val_accuracy: 0.0000e+00\n",
      "Epoch 374/500\n",
      "21/21 [==============================] - 0s 5ms/step - loss: 0.0019 - mae: 0.0204 - accuracy: 0.0031 - val_loss: 0.0020 - val_mae: 0.0211 - val_accuracy: 0.0000e+00\n",
      "Epoch 375/500\n",
      "21/21 [==============================] - 0s 5ms/step - loss: 0.0018 - mae: 0.0177 - accuracy: 0.0031 - val_loss: 0.0022 - val_mae: 0.0233 - val_accuracy: 0.0000e+00\n",
      "Epoch 376/500\n",
      "21/21 [==============================] - 0s 5ms/step - loss: 0.0018 - mae: 0.0189 - accuracy: 0.0031 - val_loss: 0.0021 - val_mae: 0.0234 - val_accuracy: 0.0000e+00\n",
      "Epoch 377/500\n",
      "21/21 [==============================] - 0s 8ms/step - loss: 0.0018 - mae: 0.0176 - accuracy: 0.0031 - val_loss: 0.0019 - val_mae: 0.0192 - val_accuracy: 0.0000e+00\n",
      "Epoch 378/500\n",
      "21/21 [==============================] - 0s 5ms/step - loss: 0.0018 - mae: 0.0191 - accuracy: 0.0031 - val_loss: 0.0019 - val_mae: 0.0197 - val_accuracy: 0.0000e+00\n",
      "Epoch 379/500\n",
      "21/21 [==============================] - 0s 5ms/step - loss: 0.0018 - mae: 0.0192 - accuracy: 0.0031 - val_loss: 0.0019 - val_mae: 0.0197 - val_accuracy: 0.0000e+00\n",
      "Epoch 380/500\n",
      "21/21 [==============================] - 0s 5ms/step - loss: 0.0017 - mae: 0.0174 - accuracy: 0.0031 - val_loss: 0.0019 - val_mae: 0.0192 - val_accuracy: 0.0000e+00\n",
      "Epoch 381/500\n",
      "21/21 [==============================] - 0s 5ms/step - loss: 0.0018 - mae: 0.0181 - accuracy: 0.0031 - val_loss: 0.0020 - val_mae: 0.0228 - val_accuracy: 0.0000e+00\n",
      "Epoch 382/500\n",
      "21/21 [==============================] - 0s 4ms/step - loss: 0.0018 - mae: 0.0189 - accuracy: 0.0031 - val_loss: 0.0019 - val_mae: 0.0189 - val_accuracy: 0.0000e+00\n",
      "Epoch 383/500\n",
      "21/21 [==============================] - 0s 4ms/step - loss: 0.0017 - mae: 0.0176 - accuracy: 0.0031 - val_loss: 0.0018 - val_mae: 0.0194 - val_accuracy: 0.0000e+00\n",
      "Epoch 384/500\n",
      "21/21 [==============================] - 0s 4ms/step - loss: 0.0017 - mae: 0.0171 - accuracy: 0.0031 - val_loss: 0.0019 - val_mae: 0.0187 - val_accuracy: 0.0000e+00\n",
      "Epoch 385/500\n",
      "21/21 [==============================] - 0s 4ms/step - loss: 0.0017 - mae: 0.0170 - accuracy: 0.0031 - val_loss: 0.0019 - val_mae: 0.0201 - val_accuracy: 0.0000e+00\n",
      "Epoch 386/500\n",
      "21/21 [==============================] - 0s 4ms/step - loss: 0.0018 - mae: 0.0196 - accuracy: 0.0031 - val_loss: 0.0020 - val_mae: 0.0214 - val_accuracy: 0.0000e+00\n",
      "Epoch 387/500\n",
      "21/21 [==============================] - 0s 5ms/step - loss: 0.0017 - mae: 0.0179 - accuracy: 0.0031 - val_loss: 0.0019 - val_mae: 0.0204 - val_accuracy: 0.0000e+00\n",
      "Epoch 388/500\n",
      "21/21 [==============================] - 0s 5ms/step - loss: 0.0017 - mae: 0.0174 - accuracy: 0.0031 - val_loss: 0.0019 - val_mae: 0.0208 - val_accuracy: 0.0000e+00\n",
      "Epoch 389/500\n",
      "21/21 [==============================] - 0s 5ms/step - loss: 0.0017 - mae: 0.0172 - accuracy: 0.0031 - val_loss: 0.0018 - val_mae: 0.0197 - val_accuracy: 0.0000e+00\n",
      "Epoch 390/500\n",
      "21/21 [==============================] - 0s 10ms/step - loss: 0.0017 - mae: 0.0169 - accuracy: 0.0031 - val_loss: 0.0020 - val_mae: 0.0220 - val_accuracy: 0.0000e+00\n",
      "Epoch 391/500\n",
      "21/21 [==============================] - 0s 6ms/step - loss: 0.0017 - mae: 0.0185 - accuracy: 0.0031 - val_loss: 0.0018 - val_mae: 0.0190 - val_accuracy: 0.0000e+00\n",
      "Epoch 392/500\n",
      "21/21 [==============================] - 0s 5ms/step - loss: 0.0017 - mae: 0.0180 - accuracy: 0.0031 - val_loss: 0.0018 - val_mae: 0.0195 - val_accuracy: 0.0000e+00\n",
      "Epoch 393/500\n",
      "21/21 [==============================] - 0s 5ms/step - loss: 0.0016 - mae: 0.0170 - accuracy: 0.0031 - val_loss: 0.0018 - val_mae: 0.0184 - val_accuracy: 0.0000e+00\n",
      "Epoch 394/500\n",
      "21/21 [==============================] - 0s 5ms/step - loss: 0.0017 - mae: 0.0170 - accuracy: 0.0031 - val_loss: 0.0019 - val_mae: 0.0199 - val_accuracy: 0.0000e+00\n",
      "Epoch 395/500\n",
      "21/21 [==============================] - 0s 5ms/step - loss: 0.0017 - mae: 0.0182 - accuracy: 0.0031 - val_loss: 0.0018 - val_mae: 0.0189 - val_accuracy: 0.0000e+00\n",
      "Epoch 396/500\n",
      "21/21 [==============================] - 0s 6ms/step - loss: 0.0016 - mae: 0.0166 - accuracy: 0.0031 - val_loss: 0.0018 - val_mae: 0.0198 - val_accuracy: 0.0000e+00\n",
      "Epoch 397/500\n",
      "21/21 [==============================] - 0s 5ms/step - loss: 0.0016 - mae: 0.0172 - accuracy: 0.0031 - val_loss: 0.0018 - val_mae: 0.0185 - val_accuracy: 0.0000e+00\n",
      "Epoch 398/500\n",
      "21/21 [==============================] - 0s 5ms/step - loss: 0.0016 - mae: 0.0169 - accuracy: 0.0031 - val_loss: 0.0019 - val_mae: 0.0216 - val_accuracy: 0.0000e+00\n",
      "Epoch 399/500\n",
      "21/21 [==============================] - 0s 5ms/step - loss: 0.0017 - mae: 0.0180 - accuracy: 0.0031 - val_loss: 0.0018 - val_mae: 0.0210 - val_accuracy: 0.0000e+00\n",
      "Epoch 400/500\n",
      "21/21 [==============================] - 0s 4ms/step - loss: 0.0017 - mae: 0.0197 - accuracy: 0.0031 - val_loss: 0.0018 - val_mae: 0.0192 - val_accuracy: 0.0000e+00\n",
      "Epoch 401/500\n",
      "21/21 [==============================] - 0s 5ms/step - loss: 0.0018 - mae: 0.0199 - accuracy: 0.0031 - val_loss: 0.0017 - val_mae: 0.0183 - val_accuracy: 0.0000e+00\n",
      "Epoch 402/500\n",
      "21/21 [==============================] - 0s 4ms/step - loss: 0.0017 - mae: 0.0182 - accuracy: 0.0031 - val_loss: 0.0017 - val_mae: 0.0184 - val_accuracy: 0.0000e+00\n",
      "Epoch 403/500\n",
      "21/21 [==============================] - 0s 8ms/step - loss: 0.0016 - mae: 0.0165 - accuracy: 0.0031 - val_loss: 0.0017 - val_mae: 0.0192 - val_accuracy: 0.0000e+00\n",
      "Epoch 404/500\n",
      "21/21 [==============================] - 0s 4ms/step - loss: 0.0016 - mae: 0.0165 - accuracy: 0.0031 - val_loss: 0.0020 - val_mae: 0.0259 - val_accuracy: 0.0000e+00\n",
      "Epoch 405/500\n",
      "21/21 [==============================] - 0s 4ms/step - loss: 0.0017 - mae: 0.0191 - accuracy: 0.0031 - val_loss: 0.0018 - val_mae: 0.0190 - val_accuracy: 0.0000e+00\n",
      "Epoch 406/500\n",
      "21/21 [==============================] - 0s 4ms/step - loss: 0.0016 - mae: 0.0168 - accuracy: 0.0031 - val_loss: 0.0023 - val_mae: 0.0301 - val_accuracy: 0.0000e+00\n",
      "Epoch 407/500\n",
      "21/21 [==============================] - 0s 4ms/step - loss: 0.0018 - mae: 0.0210 - accuracy: 0.0031 - val_loss: 0.0021 - val_mae: 0.0242 - val_accuracy: 0.0000e+00\n",
      "Epoch 408/500\n",
      "21/21 [==============================] - 0s 4ms/step - loss: 0.0016 - mae: 0.0182 - accuracy: 0.0031 - val_loss: 0.0018 - val_mae: 0.0192 - val_accuracy: 0.0000e+00\n",
      "Epoch 409/500\n",
      "21/21 [==============================] - 0s 4ms/step - loss: 0.0016 - mae: 0.0174 - accuracy: 0.0031 - val_loss: 0.0019 - val_mae: 0.0245 - val_accuracy: 0.0000e+00\n",
      "Epoch 410/500\n",
      "21/21 [==============================] - 0s 4ms/step - loss: 0.0017 - mae: 0.0195 - accuracy: 0.0031 - val_loss: 0.0017 - val_mae: 0.0190 - val_accuracy: 0.0000e+00\n",
      "Epoch 411/500\n",
      "21/21 [==============================] - 0s 5ms/step - loss: 0.0017 - mae: 0.0187 - accuracy: 0.0031 - val_loss: 0.0017 - val_mae: 0.0188 - val_accuracy: 0.0000e+00\n",
      "Epoch 412/500\n",
      "21/21 [==============================] - 0s 8ms/step - loss: 0.0016 - mae: 0.0181 - accuracy: 0.0031 - val_loss: 0.0018 - val_mae: 0.0192 - val_accuracy: 0.0000e+00\n",
      "Epoch 413/500\n",
      "21/21 [==============================] - 0s 4ms/step - loss: 0.0017 - mae: 0.0197 - accuracy: 0.0031 - val_loss: 0.0017 - val_mae: 0.0197 - val_accuracy: 0.0000e+00\n",
      "Epoch 414/500\n",
      "21/21 [==============================] - 0s 5ms/step - loss: 0.0015 - mae: 0.0164 - accuracy: 0.0031 - val_loss: 0.0017 - val_mae: 0.0180 - val_accuracy: 0.0000e+00\n",
      "Epoch 415/500\n",
      "21/21 [==============================] - 0s 4ms/step - loss: 0.0015 - mae: 0.0161 - accuracy: 0.0031 - val_loss: 0.0017 - val_mae: 0.0205 - val_accuracy: 0.0000e+00\n",
      "Epoch 416/500\n",
      "21/21 [==============================] - 0s 4ms/step - loss: 0.0015 - mae: 0.0163 - accuracy: 0.0031 - val_loss: 0.0018 - val_mae: 0.0199 - val_accuracy: 0.0000e+00\n",
      "Epoch 417/500\n",
      "21/21 [==============================] - 0s 5ms/step - loss: 0.0016 - mae: 0.0176 - accuracy: 0.0031 - val_loss: 0.0025 - val_mae: 0.0326 - val_accuracy: 0.0000e+00\n",
      "Epoch 418/500\n",
      "21/21 [==============================] - 0s 12ms/step - loss: 0.0017 - mae: 0.0203 - accuracy: 0.0031 - val_loss: 0.0019 - val_mae: 0.0230 - val_accuracy: 0.0000e+00\n",
      "Epoch 419/500\n",
      "21/21 [==============================] - 0s 5ms/step - loss: 0.0016 - mae: 0.0193 - accuracy: 0.0031 - val_loss: 0.0019 - val_mae: 0.0219 - val_accuracy: 0.0000e+00\n",
      "Epoch 420/500\n",
      "21/21 [==============================] - 0s 5ms/step - loss: 0.0016 - mae: 0.0172 - accuracy: 0.0031 - val_loss: 0.0017 - val_mae: 0.0203 - val_accuracy: 0.0000e+00\n",
      "Epoch 421/500\n",
      "21/21 [==============================] - 0s 5ms/step - loss: 0.0016 - mae: 0.0178 - accuracy: 0.0031 - val_loss: 0.0017 - val_mae: 0.0194 - val_accuracy: 0.0000e+00\n",
      "Epoch 422/500\n",
      "21/21 [==============================] - 0s 4ms/step - loss: 0.0017 - mae: 0.0192 - accuracy: 0.0031 - val_loss: 0.0018 - val_mae: 0.0215 - val_accuracy: 0.0000e+00\n",
      "Epoch 423/500\n",
      "21/21 [==============================] - 0s 4ms/step - loss: 0.0015 - mae: 0.0171 - accuracy: 0.0031 - val_loss: 0.0021 - val_mae: 0.0261 - val_accuracy: 0.0000e+00\n",
      "Epoch 424/500\n",
      "21/21 [==============================] - 0s 5ms/step - loss: 0.0018 - mae: 0.0237 - accuracy: 0.0031 - val_loss: 0.0020 - val_mae: 0.0268 - val_accuracy: 0.0000e+00\n"
     ]
    }
   ],
   "source": [
    "## Executando a RNA\n",
    "\n",
    "n_neurons = 100\n",
    "activation_fn = 'tanh'\n",
    "type_nn = 'ff'\n",
    "\n",
    "if type_nn == 'lstm':\n",
    "  inputs = np.reshape(entrada_train, (entrada_train.shape[0],entrada_train.shape[1],1))\n",
    "  outputs = np.reshape(saida_train, (saida_train.shape[0],saida_train.shape[1],1))\n",
    "  model = create_model(inputs,outputs,n_neurons,activation_fn,type_nn)\n",
    "\n",
    "if type_nn == 'ff':\n",
    "  model = create_model(input_train,output_train,n_neurons,activation_fn,type_nn)\n",
    "\n",
    "model.compile(optimizer ='adam',\n",
    "              loss='mse',\n",
    "              metrics=['mae','accuracy'])\n",
    "\n",
    "model.summary()\n",
    "\n",
    "early_stop = keras.callbacks.EarlyStopping(monitor = 'val_loss',mode='min',patience = 10)\n",
    "\n",
    "historico = model.fit(entrada_train, saida_train, shuffle=True, epochs=500,\n",
    "                      validation_data=(input_test, output_test),callbacks=early_stop)"
   ]
  },
  {
   "cell_type": "code",
   "execution_count": 58,
   "metadata": {},
   "outputs": [
    {
     "name": "stdout",
     "output_type": "stream",
     "text": [
      "9/9 [==============================] - 0s 2ms/step\n"
     ]
    },
    {
     "data": {
      "application/vnd.plotly.v1+json": {
       "config": {
        "plotlyServerURL": "https://plot.ly",
        "scrollZoom": true
       },
       "data": [
        {
         "mode": "markers+lines",
         "name": "Dado Estimado",
         "type": "scatter",
         "x": [
          0,
          1,
          2,
          3,
          4,
          5,
          6,
          7,
          8,
          9,
          10,
          11,
          12,
          13,
          14,
          15,
          16,
          17,
          18,
          19,
          20,
          21,
          22,
          23,
          24,
          25,
          26,
          27,
          28,
          29,
          30,
          31,
          32,
          33,
          34,
          35,
          36,
          37,
          38,
          39,
          40,
          41,
          42,
          43,
          44,
          45,
          46,
          47,
          48,
          49,
          50,
          51,
          52,
          53,
          54,
          55,
          56,
          57,
          58,
          59,
          60,
          61,
          62,
          63,
          64,
          65,
          66,
          67,
          68,
          69,
          70,
          71,
          72,
          73,
          74,
          75,
          76,
          77,
          78,
          79,
          80,
          81,
          82,
          83,
          84,
          85,
          86,
          87,
          88,
          89,
          90,
          91,
          92,
          93,
          94,
          95,
          96,
          97,
          98,
          99,
          100,
          101,
          102,
          103,
          104,
          105,
          106,
          107,
          108,
          109,
          110,
          111,
          112,
          113,
          114,
          115,
          116,
          117,
          118,
          119,
          120,
          121,
          122,
          123,
          124,
          125,
          126,
          127,
          128,
          129,
          130,
          131,
          132,
          133,
          134,
          135,
          136,
          137,
          138,
          139,
          140,
          141,
          142,
          143,
          144,
          145,
          146,
          147,
          148,
          149,
          150,
          151,
          152,
          153,
          154,
          155,
          156,
          157,
          158,
          159,
          160,
          161,
          162,
          163,
          164,
          165,
          166,
          167,
          168,
          169,
          170,
          171,
          172,
          173,
          174,
          175,
          176,
          177,
          178,
          179,
          180,
          181,
          182,
          183,
          184,
          185,
          186,
          187,
          188,
          189,
          190,
          191,
          192,
          193,
          194,
          195,
          196,
          197,
          198,
          199,
          200,
          201,
          202,
          203,
          204,
          205,
          206,
          207,
          208,
          209,
          210,
          211,
          212,
          213,
          214,
          215,
          216,
          217,
          218,
          219,
          220,
          221,
          222,
          223,
          224,
          225,
          226,
          227,
          228,
          229,
          230,
          231,
          232,
          233,
          234,
          235,
          236,
          237,
          238,
          239,
          240,
          241,
          242,
          243,
          244,
          245,
          246,
          247,
          248,
          249,
          250,
          251,
          252,
          253,
          254,
          255,
          256,
          257,
          258,
          259,
          260,
          261,
          262,
          263,
          264,
          265,
          266,
          267,
          268,
          269,
          270,
          271,
          272,
          273,
          274,
          275,
          276
         ],
         "y": [
          0.8598893880844116,
          0.6753594875335693,
          0.7385811805725098,
          0.841276228427887,
          0.8279265761375427,
          0.8870556354522705,
          0.787971019744873,
          0.3061602711677551,
          0.4778915345668793,
          0.49204298853874207,
          0.8259995579719543,
          0.7183386087417603,
          0.8717156648635864,
          0.6057050824165344,
          0.8093181848526001,
          0.7376784086227417,
          0.6117339134216309,
          0.8380827307701111,
          0.7686856389045715,
          0.8003862500190735,
          0.7621400356292725,
          0.8038638234138489,
          0.8821179270744324,
          0.49533742666244507,
          0.6677601933479309,
          0.8225390911102295,
          0.7254168391227722,
          0.7258173823356628,
          0.5130302309989929,
          0.6225287318229675,
          0.8342980146408081,
          0.9070966839790344,
          0.8989236354827881,
          0.8578327298164368,
          0.6275286674499512,
          0.8551786541938782,
          0.7255488634109497,
          0.681409478187561,
          0.645186722278595,
          0.7962794303894043,
          0.8957759737968445,
          0.8874047994613647,
          0.8609103560447693,
          0.7797220349311829,
          0.8202295303344727,
          0.2966585159301758,
          0.9002059698104858,
          0.8748823404312134,
          0.742455780506134,
          0.6213880777359009,
          0.7942678928375244,
          0.5689802765846252,
          0.9125837683677673,
          0.8714708089828491,
          0.7316924929618835,
          0.8463582396507263,
          0.884247899055481,
          0.5414490699768066,
          0.886654257774353,
          0.5078209042549133,
          0.8749493360519409,
          0.870169997215271,
          0.8094942569732666,
          0.8963090181350708,
          0.8962011337280273,
          0.5248331427574158,
          0.3835664689540863,
          0.8791707158088684,
          0.8089730143547058,
          0.9062625169754028,
          0.7589315176010132,
          0.6787557601928711,
          0.7858688235282898,
          0.783412516117096,
          0.846835732460022,
          0.8913644552230835,
          0.8351947069168091,
          0.8890455961227417,
          0.8967819809913635,
          0.8464828729629517,
          0.9017176628112793,
          0.818885087966919,
          0.04123151674866676,
          0.871538519859314,
          0.8941289782524109,
          0.6830480098724365,
          0.501603901386261,
          0.830317497253418,
          0.8737030625343323,
          0.8895244598388672,
          0.8655253648757935,
          0.7813822627067566,
          0.8426058888435364,
          0.883868932723999,
          0.8834276795387268,
          0.8441466689109802,
          0.8099719285964966,
          0.8733571767807007,
          0.8814476132392883,
          0.5602211356163025,
          0.6352720856666565,
          0.7666606903076172,
          0.8850347399711609,
          0.24816936254501343,
          0.8916130661964417,
          0.7293883562088013,
          0.9115030765533447,
          0.9159533977508545,
          0.907508134841919,
          0.9142227172851562,
          0.8626701235771179,
          0.8424828052520752,
          0.8552365899085999,
          0.8883010745048523,
          0.8635431528091431,
          0.6503063440322876,
          0.7476458549499512,
          0.781908392906189,
          0.8973649144172668,
          0.8831592798233032,
          0.8436628580093384,
          0.8397407531738281,
          0.6902636289596558,
          0.8738289475440979,
          0.8771247863769531,
          0.8629805445671082,
          0.8588281869888306,
          0.8722931742668152,
          0.8778820037841797,
          0.6836169362068176,
          0.8504481315612793,
          0.32850736379623413,
          0.8384533524513245,
          0.9056772589683533,
          0.9020057916641235,
          0.9160181283950806,
          0.9055657982826233,
          0.9035210609436035,
          0.9096269607543945,
          0.8957418203353882,
          0.8545999526977539,
          0.8839815258979797,
          0.9047532081604004,
          0.898864209651947,
          0.9030287861824036,
          0.7363806366920471,
          0.8926688432693481,
          0.8910588622093201,
          0.8959076404571533,
          0.9050197601318359,
          0.8962351083755493,
          0.9048174619674683,
          0.8381667137145996,
          0.748338520526886,
          0.6526003479957581,
          0.832024872303009,
          0.8756902813911438,
          0.8704128861427307,
          0.7810806632041931,
          0.7469886541366577,
          0.8804555535316467,
          0.8773705959320068,
          0.8236762285232544,
          0.8080359101295471,
          0.6359003186225891,
          0.6687466502189636,
          0.5432482957839966,
          0.6511355042457581,
          0.8305479884147644,
          0.8437317609786987,
          0.752940833568573,
          0.5785266160964966,
          0.5955910682678223,
          0.7912421226501465,
          0.858104944229126,
          0.8401385545730591,
          0.8105719685554504,
          0.7902854084968567,
          0.815873384475708,
          0.8077185750007629,
          0.8116841316223145,
          0.724855363368988,
          0.6661627292633057,
          0.5812922716140747,
          0.8195437788963318,
          0.8030312061309814,
          0.71062833070755,
          0.7568734884262085,
          0.8403043150901794,
          0.8424896001815796,
          0.773382842540741,
          0.8530721068382263,
          0.8245323300361633,
          0.7496727108955383,
          0.8263671398162842,
          0.7006701231002808,
          0.7485634684562683,
          0.8331845998764038,
          0.8322587013244629,
          0.7647244334220886,
          0.7670465707778931,
          0.8208521604537964,
          0.6940715909004211,
          0.8629974722862244,
          0.6441987752914429,
          0.8007362484931946,
          0.7479180693626404,
          0.8274823427200317,
          0.6966711282730103,
          0.6901590824127197,
          0.6407825946807861,
          0.8002477884292603,
          0.8054513335227966,
          0.8387397527694702,
          0.7793089151382446,
          0.6667935252189636,
          0.638257622718811,
          0.6838229298591614,
          0.7365816235542297,
          0.7149568200111389,
          0.732447624206543,
          0.8387299180030823,
          0.8348106741905212,
          0.7484616041183472,
          0.7528232932090759,
          0.8486982583999634,
          0.7878459095954895,
          0.764512836933136,
          0.8286731839179993,
          0.8395681977272034,
          0.7666991949081421,
          0.8249186873435974,
          0.7352409958839417,
          0.6261457204818726,
          0.6821514368057251,
          0.489193320274353,
          0.5433391332626343,
          0.6685497760772705,
          0.8407834768295288,
          0.8656219840049744,
          0.7517836689949036,
          0.6852275133132935,
          0.5470673441886902,
          0.5415816307067871,
          0.5880357027053833,
          0.7320734262466431,
          0.5814417600631714,
          0.7182958126068115,
          0.7221456170082092,
          0.7364122271537781,
          0.7081121206283569,
          0.6523491144180298,
          0.5823434591293335,
          0.6688836812973022,
          0.6711273193359375,
          0.7694778442382812,
          0.7760863900184631,
          0.8610444068908691,
          0.8887319564819336,
          0.8873415589332581,
          0.9026002287864685,
          0.9071198105812073,
          0.8585513830184937,
          0.5963428020477295,
          0.7200552821159363,
          0.7037273645401001,
          0.7654011845588684,
          0.7952541708946228,
          0.8586305975914001,
          0.6322131752967834,
          0.4658435583114624,
          0.8304686546325684,
          0.8297296166419983,
          0.7675554156303406,
          0.8468812108039856,
          0.820996105670929,
          0.9235504269599915
         ]
        },
        {
         "mode": "markers+lines",
         "name": "Dado Real",
         "type": "scatter",
         "x": [
          0,
          1,
          2,
          3,
          4,
          5,
          6,
          7,
          8,
          9,
          10,
          11,
          12,
          13,
          14,
          15,
          16,
          17,
          18,
          19,
          20,
          21,
          22,
          23,
          24,
          25,
          26,
          27,
          28,
          29,
          30,
          31,
          32,
          33,
          34,
          35,
          36,
          37,
          38,
          39,
          40,
          41,
          42,
          43,
          44,
          45,
          46,
          47,
          48,
          49,
          50,
          51,
          52,
          53,
          54,
          55,
          56,
          57,
          58,
          59,
          60,
          61,
          62,
          63,
          64,
          65,
          66,
          67,
          68,
          69,
          70,
          71,
          72,
          73,
          74,
          75,
          76,
          77,
          78,
          79,
          80,
          81,
          82,
          83,
          84,
          85,
          86,
          87,
          88,
          89,
          90,
          91,
          92,
          93,
          94,
          95,
          96,
          97,
          98,
          99,
          100,
          101,
          102,
          103,
          104,
          105,
          106,
          107,
          108,
          109,
          110,
          111,
          112,
          113,
          114,
          115,
          116,
          117,
          118,
          119,
          120,
          121,
          122,
          123,
          124,
          125,
          126,
          127,
          128,
          129,
          130,
          131,
          132,
          133,
          134,
          135,
          136,
          137,
          138,
          139,
          140,
          141,
          142,
          143,
          144,
          145,
          146,
          147,
          148,
          149,
          150,
          151,
          152,
          153,
          154,
          155,
          156,
          157,
          158,
          159,
          160,
          161,
          162,
          163,
          164,
          165,
          166,
          167,
          168,
          169,
          170,
          171,
          172,
          173,
          174,
          175,
          176,
          177,
          178,
          179,
          180,
          181,
          182,
          183,
          184,
          185,
          186,
          187,
          188,
          189,
          190,
          191,
          192,
          193,
          194,
          195,
          196,
          197,
          198,
          199,
          200,
          201,
          202,
          203,
          204,
          205,
          206,
          207,
          208,
          209,
          210,
          211,
          212,
          213,
          214,
          215,
          216,
          217,
          218,
          219,
          220,
          221,
          222,
          223,
          224,
          225,
          226,
          227,
          228,
          229,
          230,
          231,
          232,
          233,
          234,
          235,
          236,
          237,
          238,
          239,
          240,
          241,
          242,
          243,
          244,
          245,
          246,
          247,
          248,
          249,
          250,
          251,
          252,
          253,
          254,
          255,
          256,
          257,
          258,
          259,
          260,
          261,
          262,
          263,
          264,
          265,
          266,
          267,
          268,
          269,
          270,
          271,
          272,
          273,
          274,
          275,
          276
         ],
         "y": [
          0.852415392114242,
          0.6300664517476753,
          0.69638458078564,
          0.8324196453272056,
          0.8057348115443994,
          0.9034043895917983,
          0.7625534082475947,
          0.34697874459958006,
          0.4730124855011233,
          0.4795227869962091,
          0.7825867940874067,
          0.6600691680326507,
          0.8541474158594657,
          0.5677280252231839,
          0.7623238100256635,
          0.6800391948002904,
          0.5671534023508098,
          0.8075715973198485,
          0.7102608449089103,
          0.766962823280256,
          0.713946962810734,
          0.7473798514386588,
          0.8830711459648739,
          0.49274162233099916,
          0.6237543825972076,
          0.7871850317014922,
          0.665750155731581,
          0.6664583972413083,
          0.5084835288368466,
          0.5915516636774986,
          0.7854147415859466,
          0.9120739180811109,
          0.8995445047296607,
          0.8219214861905452,
          0.5812693017767515,
          0.8209441254534723,
          0.669406162391184,
          0.6386745031174547,
          0.6068870684133697,
          0.73022585313618,
          0.8849556078738389,
          0.8637547840804373,
          0.8350568882916826,
          0.7194529289142577,
          0.7799326135491808,
          0.32955876365748715,
          0.9183157276663976,
          0.8468755508632204,
          0.6917530953416027,
          0.5901797202038281,
          0.7437564652914611,
          0.5348082823480997,
          0.9225563942791148,
          0.8428964756672934,
          0.6700661004498495,
          0.8064110598592676,
          0.8739141917421174,
          0.5200079794791884,
          0.8809922156165685,
          0.4972978296694852,
          0.8451322354021639,
          0.8202471756595775,
          0.742925896860213,
          0.89313394672443,
          0.8864461143637528,
          0.5047691816454414,
          0.3936831632361807,
          0.8609989780997171,
          0.7490221687747672,
          0.9114572649331373,
          0.6944204495483001,
          0.634481512638253,
          0.7406104677969676,
          0.7186066775443529,
          0.7967873813820935,
          0.8815680931240351,
          0.7857873682084251,
          0.8693956234564068,
          0.8908825040509031,
          0.7965132436143779,
          0.9003543716818824,
          0.7626437419742562,
          0.09192899518157395,
          0.8586252085046695,
          0.8945579575544401,
          0.6261570087993833,
          0.505205167340092,
          0.798950999599144,
          0.8502128802093234,
          0.8809614770568018,
          0.8430018650150651,
          0.7394279742222674,
          0.8101969212509464,
          0.8780764436615521,
          0.8763776677462803,
          0.8133586016840967,
          0.7748977629228984,
          0.8650464309081864,
          0.8764447907237298,
          0.5261757655940164,
          0.5904877331190418,
          0.7119389193451557,
          0.8914144693301317,
          0.26714756829762953,
          0.9047907613690327,
          0.6775920290523303,
          0.930331367947461,
          0.9486898159387588,
          0.9184888673091652,
          0.9407693045996806,
          0.8417102181873158,
          0.8174066818101122,
          0.8381771657667797,
          0.8872898564634721,
          0.8484055783585484,
          0.5997770513440592,
          0.6994289528376396,
          0.7352594491273698,
          0.9012470445502102,
          0.873913564424571,
          0.8210953089821207,
          0.8239433306421411,
          0.6529045743368157,
          0.8841419770163397,
          0.8844092142910466,
          0.8525941776149262,
          0.8495190670031598,
          0.8757371765315487,
          0.8866807311260538,
          0.6501970718071577,
          0.8544221809447277,
          0.3018288188426117,
          0.812994757507266,
          0.9463009907226009,
          0.939079311130056,
          0.9842624847169763,
          0.9507480448080378,
          0.9471409689170429,
          0.9662810545709808,
          0.9318789603340842,
          0.8553512382307388,
          0.9117113285393728,
          0.9558882847820919,
          0.9345895994514735,
          0.9548757942624283,
          0.7013717552784068,
          0.9301205892519177,
          0.9179556473948443,
          0.9273698018115676,
          0.9499337866329923,
          0.9211129366051708,
          0.9430621502312606,
          0.8337821790376824,
          0.7268383383863762,
          0.6267924814737447,
          0.8304887619198176,
          0.8906798804834611,
          0.882769406225123,
          0.764301114931475,
          0.7237651097272486,
          0.9015782682146354,
          0.8948352319098872,
          0.8122043373989782,
          0.799819207083168,
          0.6068387649623076,
          0.6529271577684809,
          0.5167038979630373,
          0.6205230699164225,
          0.8111642449072793,
          0.8233737263101372,
          0.7119671486347374,
          0.5605835056888292,
          0.5800171759544167,
          0.7650062198534713,
          0.8494563352485338,
          0.8253177833859966,
          0.7923491097423042,
          0.7612567428794754,
          0.7965220260600255,
          0.8018429334874025,
          0.806858337269751,
          0.7048470944846869,
          0.6448485624077451,
          0.5692417424623093,
          0.8106272610876808,
          0.7735546760563559,
          0.6686935296586326,
          0.7196367329553117,
          0.8194216257686994,
          0.8231096256231615,
          0.7291129918091148,
          0.8431034904575592,
          0.8064436803716731,
          0.7189115538718353,
          0.8197484582103007,
          0.6753330585682481,
          0.7226723225616638,
          0.8254093717477505,
          0.8219101944747125,
          0.7399580575488571,
          0.7399743678050598,
          0.7994371706974956,
          0.6585730156848207,
          0.867832348131127,
          0.6050672202116696,
          0.7791133368337652,
          0.7170948422578665,
          0.8071042457478849,
          0.6645802085078061,
          0.6577223730920921,
          0.6199057894509026,
          0.7750502010866396,
          0.7798253422487703,
          0.8232231700990347,
          0.7515621775195739,
          0.6454808984943753,
          0.6223586010567792,
          0.6595610408201802,
          0.6992714961335282,
          0.6606720201946065,
          0.6828934896357732,
          0.8020869600128977,
          0.8102527525125637,
          0.7179605404717052,
          0.72368606771642,
          0.8430175479537216,
          0.7615540913964025,
          0.7443260696234653,
          0.8273985956869411,
          0.8395252711736922,
          0.7402215309182864,
          0.8233831360733309,
          0.7066387133968054,
          0.5991327962240502,
          0.6522992129046747,
          0.46241960141497745,
          0.5284579468273102,
          0.6478697237105331,
          0.819949199825104,
          0.8615045960420028,
          0.7093763271686838,
          0.6544678496620954,
          0.5396794030948084,
          0.5231194745086379,
          0.5650889003060683,
          0.698585838055466,
          0.571722156040221,
          0.6779884937415667,
          0.695407847366113,
          0.6982176026558116,
          0.6695184522319646,
          0.6153564826054255,
          0.5692047307270799,
          0.636503984407395,
          0.6487899985508966,
          0.738160165461276,
          0.7560694540894516,
          0.8434328321693456,
          0.8930291846942047,
          0.8938904916852196,
          0.9318011729583481,
          0.9584508769585639,
          0.8692356574821105,
          0.5806532759463243,
          0.704306974077357,
          0.6773298103179934,
          0.7344062972644564,
          0.7708722662285481,
          0.8602982644005449,
          0.598967811709384,
          0.44134298649573517,
          0.8348084705433637,
          0.7944418410766275,
          0.7207822147947824,
          0.825118296406286,
          0.7909351359930342,
          0.9820568362243263
         ]
        }
       ],
       "layout": {
        "colorway": [
         "#B22222",
         "#006400",
         "#00BFFF",
         "#00FF7F",
         "#000080",
         "#FF0000"
        ],
        "font": {
         "color": "black",
         "family": "Rockwell",
         "size": 16
        },
        "hovermode": "x unified",
        "images": [
         {
          "sizex": 0.2,
          "sizey": 0.2,
          "source": "https://raw.githubusercontent.com/LinconRozendo/Imagens_u/master/Multi%20Mapa/cear.png",
          "x": 1.05,
          "xanchor": "right",
          "xref": "paper",
          "y": 1.1,
          "yanchor": "bottom",
          "yref": "paper"
         }
        ],
        "legend": {
         "orientation": "h",
         "title": {
          "text": ""
         },
         "x": 0.05,
         "y": -0.25
        },
        "template": {
         "data": {
          "bar": [
           {
            "error_x": {
             "color": "#2a3f5f"
            },
            "error_y": {
             "color": "#2a3f5f"
            },
            "marker": {
             "line": {
              "color": "white",
              "width": 0.5
             },
             "pattern": {
              "fillmode": "overlay",
              "size": 10,
              "solidity": 0.2
             }
            },
            "type": "bar"
           }
          ],
          "barpolar": [
           {
            "marker": {
             "line": {
              "color": "white",
              "width": 0.5
             },
             "pattern": {
              "fillmode": "overlay",
              "size": 10,
              "solidity": 0.2
             }
            },
            "type": "barpolar"
           }
          ],
          "carpet": [
           {
            "aaxis": {
             "endlinecolor": "#2a3f5f",
             "gridcolor": "#C8D4E3",
             "linecolor": "#C8D4E3",
             "minorgridcolor": "#C8D4E3",
             "startlinecolor": "#2a3f5f"
            },
            "baxis": {
             "endlinecolor": "#2a3f5f",
             "gridcolor": "#C8D4E3",
             "linecolor": "#C8D4E3",
             "minorgridcolor": "#C8D4E3",
             "startlinecolor": "#2a3f5f"
            },
            "type": "carpet"
           }
          ],
          "choropleth": [
           {
            "colorbar": {
             "outlinewidth": 0,
             "ticks": ""
            },
            "type": "choropleth"
           }
          ],
          "contour": [
           {
            "colorbar": {
             "outlinewidth": 0,
             "ticks": ""
            },
            "colorscale": [
             [
              0,
              "#0d0887"
             ],
             [
              0.1111111111111111,
              "#46039f"
             ],
             [
              0.2222222222222222,
              "#7201a8"
             ],
             [
              0.3333333333333333,
              "#9c179e"
             ],
             [
              0.4444444444444444,
              "#bd3786"
             ],
             [
              0.5555555555555556,
              "#d8576b"
             ],
             [
              0.6666666666666666,
              "#ed7953"
             ],
             [
              0.7777777777777778,
              "#fb9f3a"
             ],
             [
              0.8888888888888888,
              "#fdca26"
             ],
             [
              1,
              "#f0f921"
             ]
            ],
            "type": "contour"
           }
          ],
          "contourcarpet": [
           {
            "colorbar": {
             "outlinewidth": 0,
             "ticks": ""
            },
            "type": "contourcarpet"
           }
          ],
          "heatmap": [
           {
            "colorbar": {
             "outlinewidth": 0,
             "ticks": ""
            },
            "colorscale": [
             [
              0,
              "#0d0887"
             ],
             [
              0.1111111111111111,
              "#46039f"
             ],
             [
              0.2222222222222222,
              "#7201a8"
             ],
             [
              0.3333333333333333,
              "#9c179e"
             ],
             [
              0.4444444444444444,
              "#bd3786"
             ],
             [
              0.5555555555555556,
              "#d8576b"
             ],
             [
              0.6666666666666666,
              "#ed7953"
             ],
             [
              0.7777777777777778,
              "#fb9f3a"
             ],
             [
              0.8888888888888888,
              "#fdca26"
             ],
             [
              1,
              "#f0f921"
             ]
            ],
            "type": "heatmap"
           }
          ],
          "heatmapgl": [
           {
            "colorbar": {
             "outlinewidth": 0,
             "ticks": ""
            },
            "colorscale": [
             [
              0,
              "#0d0887"
             ],
             [
              0.1111111111111111,
              "#46039f"
             ],
             [
              0.2222222222222222,
              "#7201a8"
             ],
             [
              0.3333333333333333,
              "#9c179e"
             ],
             [
              0.4444444444444444,
              "#bd3786"
             ],
             [
              0.5555555555555556,
              "#d8576b"
             ],
             [
              0.6666666666666666,
              "#ed7953"
             ],
             [
              0.7777777777777778,
              "#fb9f3a"
             ],
             [
              0.8888888888888888,
              "#fdca26"
             ],
             [
              1,
              "#f0f921"
             ]
            ],
            "type": "heatmapgl"
           }
          ],
          "histogram": [
           {
            "marker": {
             "pattern": {
              "fillmode": "overlay",
              "size": 10,
              "solidity": 0.2
             }
            },
            "type": "histogram"
           }
          ],
          "histogram2d": [
           {
            "colorbar": {
             "outlinewidth": 0,
             "ticks": ""
            },
            "colorscale": [
             [
              0,
              "#0d0887"
             ],
             [
              0.1111111111111111,
              "#46039f"
             ],
             [
              0.2222222222222222,
              "#7201a8"
             ],
             [
              0.3333333333333333,
              "#9c179e"
             ],
             [
              0.4444444444444444,
              "#bd3786"
             ],
             [
              0.5555555555555556,
              "#d8576b"
             ],
             [
              0.6666666666666666,
              "#ed7953"
             ],
             [
              0.7777777777777778,
              "#fb9f3a"
             ],
             [
              0.8888888888888888,
              "#fdca26"
             ],
             [
              1,
              "#f0f921"
             ]
            ],
            "type": "histogram2d"
           }
          ],
          "histogram2dcontour": [
           {
            "colorbar": {
             "outlinewidth": 0,
             "ticks": ""
            },
            "colorscale": [
             [
              0,
              "#0d0887"
             ],
             [
              0.1111111111111111,
              "#46039f"
             ],
             [
              0.2222222222222222,
              "#7201a8"
             ],
             [
              0.3333333333333333,
              "#9c179e"
             ],
             [
              0.4444444444444444,
              "#bd3786"
             ],
             [
              0.5555555555555556,
              "#d8576b"
             ],
             [
              0.6666666666666666,
              "#ed7953"
             ],
             [
              0.7777777777777778,
              "#fb9f3a"
             ],
             [
              0.8888888888888888,
              "#fdca26"
             ],
             [
              1,
              "#f0f921"
             ]
            ],
            "type": "histogram2dcontour"
           }
          ],
          "mesh3d": [
           {
            "colorbar": {
             "outlinewidth": 0,
             "ticks": ""
            },
            "type": "mesh3d"
           }
          ],
          "parcoords": [
           {
            "line": {
             "colorbar": {
              "outlinewidth": 0,
              "ticks": ""
             }
            },
            "type": "parcoords"
           }
          ],
          "pie": [
           {
            "automargin": true,
            "type": "pie"
           }
          ],
          "scatter": [
           {
            "fillpattern": {
             "fillmode": "overlay",
             "size": 10,
             "solidity": 0.2
            },
            "type": "scatter"
           }
          ],
          "scatter3d": [
           {
            "line": {
             "colorbar": {
              "outlinewidth": 0,
              "ticks": ""
             }
            },
            "marker": {
             "colorbar": {
              "outlinewidth": 0,
              "ticks": ""
             }
            },
            "type": "scatter3d"
           }
          ],
          "scattercarpet": [
           {
            "marker": {
             "colorbar": {
              "outlinewidth": 0,
              "ticks": ""
             }
            },
            "type": "scattercarpet"
           }
          ],
          "scattergeo": [
           {
            "marker": {
             "colorbar": {
              "outlinewidth": 0,
              "ticks": ""
             }
            },
            "type": "scattergeo"
           }
          ],
          "scattergl": [
           {
            "marker": {
             "colorbar": {
              "outlinewidth": 0,
              "ticks": ""
             }
            },
            "type": "scattergl"
           }
          ],
          "scattermapbox": [
           {
            "marker": {
             "colorbar": {
              "outlinewidth": 0,
              "ticks": ""
             }
            },
            "type": "scattermapbox"
           }
          ],
          "scatterpolar": [
           {
            "marker": {
             "colorbar": {
              "outlinewidth": 0,
              "ticks": ""
             }
            },
            "type": "scatterpolar"
           }
          ],
          "scatterpolargl": [
           {
            "marker": {
             "colorbar": {
              "outlinewidth": 0,
              "ticks": ""
             }
            },
            "type": "scatterpolargl"
           }
          ],
          "scatterternary": [
           {
            "marker": {
             "colorbar": {
              "outlinewidth": 0,
              "ticks": ""
             }
            },
            "type": "scatterternary"
           }
          ],
          "surface": [
           {
            "colorbar": {
             "outlinewidth": 0,
             "ticks": ""
            },
            "colorscale": [
             [
              0,
              "#0d0887"
             ],
             [
              0.1111111111111111,
              "#46039f"
             ],
             [
              0.2222222222222222,
              "#7201a8"
             ],
             [
              0.3333333333333333,
              "#9c179e"
             ],
             [
              0.4444444444444444,
              "#bd3786"
             ],
             [
              0.5555555555555556,
              "#d8576b"
             ],
             [
              0.6666666666666666,
              "#ed7953"
             ],
             [
              0.7777777777777778,
              "#fb9f3a"
             ],
             [
              0.8888888888888888,
              "#fdca26"
             ],
             [
              1,
              "#f0f921"
             ]
            ],
            "type": "surface"
           }
          ],
          "table": [
           {
            "cells": {
             "fill": {
              "color": "#EBF0F8"
             },
             "line": {
              "color": "white"
             }
            },
            "header": {
             "fill": {
              "color": "#C8D4E3"
             },
             "line": {
              "color": "white"
             }
            },
            "type": "table"
           }
          ]
         },
         "layout": {
          "annotationdefaults": {
           "arrowcolor": "#2a3f5f",
           "arrowhead": 0,
           "arrowwidth": 1
          },
          "autotypenumbers": "strict",
          "coloraxis": {
           "colorbar": {
            "outlinewidth": 0,
            "ticks": ""
           }
          },
          "colorscale": {
           "diverging": [
            [
             0,
             "#8e0152"
            ],
            [
             0.1,
             "#c51b7d"
            ],
            [
             0.2,
             "#de77ae"
            ],
            [
             0.3,
             "#f1b6da"
            ],
            [
             0.4,
             "#fde0ef"
            ],
            [
             0.5,
             "#f7f7f7"
            ],
            [
             0.6,
             "#e6f5d0"
            ],
            [
             0.7,
             "#b8e186"
            ],
            [
             0.8,
             "#7fbc41"
            ],
            [
             0.9,
             "#4d9221"
            ],
            [
             1,
             "#276419"
            ]
           ],
           "sequential": [
            [
             0,
             "#0d0887"
            ],
            [
             0.1111111111111111,
             "#46039f"
            ],
            [
             0.2222222222222222,
             "#7201a8"
            ],
            [
             0.3333333333333333,
             "#9c179e"
            ],
            [
             0.4444444444444444,
             "#bd3786"
            ],
            [
             0.5555555555555556,
             "#d8576b"
            ],
            [
             0.6666666666666666,
             "#ed7953"
            ],
            [
             0.7777777777777778,
             "#fb9f3a"
            ],
            [
             0.8888888888888888,
             "#fdca26"
            ],
            [
             1,
             "#f0f921"
            ]
           ],
           "sequentialminus": [
            [
             0,
             "#0d0887"
            ],
            [
             0.1111111111111111,
             "#46039f"
            ],
            [
             0.2222222222222222,
             "#7201a8"
            ],
            [
             0.3333333333333333,
             "#9c179e"
            ],
            [
             0.4444444444444444,
             "#bd3786"
            ],
            [
             0.5555555555555556,
             "#d8576b"
            ],
            [
             0.6666666666666666,
             "#ed7953"
            ],
            [
             0.7777777777777778,
             "#fb9f3a"
            ],
            [
             0.8888888888888888,
             "#fdca26"
            ],
            [
             1,
             "#f0f921"
            ]
           ]
          },
          "colorway": [
           "#636efa",
           "#EF553B",
           "#00cc96",
           "#ab63fa",
           "#FFA15A",
           "#19d3f3",
           "#FF6692",
           "#B6E880",
           "#FF97FF",
           "#FECB52"
          ],
          "font": {
           "color": "#2a3f5f"
          },
          "geo": {
           "bgcolor": "white",
           "lakecolor": "white",
           "landcolor": "white",
           "showlakes": true,
           "showland": true,
           "subunitcolor": "#C8D4E3"
          },
          "hoverlabel": {
           "align": "left"
          },
          "hovermode": "closest",
          "mapbox": {
           "style": "light"
          },
          "paper_bgcolor": "white",
          "plot_bgcolor": "white",
          "polar": {
           "angularaxis": {
            "gridcolor": "#EBF0F8",
            "linecolor": "#EBF0F8",
            "ticks": ""
           },
           "bgcolor": "white",
           "radialaxis": {
            "gridcolor": "#EBF0F8",
            "linecolor": "#EBF0F8",
            "ticks": ""
           }
          },
          "scene": {
           "xaxis": {
            "backgroundcolor": "white",
            "gridcolor": "#DFE8F3",
            "gridwidth": 2,
            "linecolor": "#EBF0F8",
            "showbackground": true,
            "ticks": "",
            "zerolinecolor": "#EBF0F8"
           },
           "yaxis": {
            "backgroundcolor": "white",
            "gridcolor": "#DFE8F3",
            "gridwidth": 2,
            "linecolor": "#EBF0F8",
            "showbackground": true,
            "ticks": "",
            "zerolinecolor": "#EBF0F8"
           },
           "zaxis": {
            "backgroundcolor": "white",
            "gridcolor": "#DFE8F3",
            "gridwidth": 2,
            "linecolor": "#EBF0F8",
            "showbackground": true,
            "ticks": "",
            "zerolinecolor": "#EBF0F8"
           }
          },
          "shapedefaults": {
           "line": {
            "color": "#2a3f5f"
           }
          },
          "ternary": {
           "aaxis": {
            "gridcolor": "#DFE8F3",
            "linecolor": "#A2B1C6",
            "ticks": ""
           },
           "baxis": {
            "gridcolor": "#DFE8F3",
            "linecolor": "#A2B1C6",
            "ticks": ""
           },
           "bgcolor": "white",
           "caxis": {
            "gridcolor": "#DFE8F3",
            "linecolor": "#A2B1C6",
            "ticks": ""
           }
          },
          "title": {
           "x": 0.05
          },
          "xaxis": {
           "automargin": true,
           "gridcolor": "#EBF0F8",
           "linecolor": "#EBF0F8",
           "ticks": "",
           "title": {
            "standoff": 15
           },
           "zerolinecolor": "#EBF0F8",
           "zerolinewidth": 2
          },
          "yaxis": {
           "automargin": true,
           "gridcolor": "#EBF0F8",
           "linecolor": "#EBF0F8",
           "ticks": "",
           "title": {
            "standoff": 15
           },
           "zerolinecolor": "#EBF0F8",
           "zerolinewidth": 2
          }
         }
        },
        "title": {
         "text": "Figura 6.1 - Comparativo de dados reais e estimados normalizados",
         "x": 0.5,
         "xanchor": "center",
         "y": 0.93,
         "yanchor": "top"
        },
        "xaxis": {
         "tickformat": "%Y",
         "ticksuffix": "",
         "title": {
          "text": ""
         }
        },
        "yaxis": {
         "ticksuffix": " Wh",
         "title": {
          "text": "Energia"
         }
        }
       }
      }
     },
     "metadata": {},
     "output_type": "display_data"
    }
   ],
   "source": [
    "predictions = model.predict(entrada_test)\n",
    "\n",
    "trace1 = go.Scatter(x = np.arange(0, len(saida_test)), # eixo x = meses da lista 'date\n",
    "                    y = predictions[:, 0], # eixo y = temperatura máxima\n",
    "                    mode = 'markers+lines', # tipo do gráfico: marcadorms em linhas\n",
    "                    name = 'Dado Estimado') # legenda do objeto trace: T.MAX_INMET\n",
    "\n",
    "trace2 = go.Scatter(x = np.arange(0, len(saida_test)), # eixo x = meses da lista 'date\n",
    "                    y = saida_test[:, 0], # eixo y = temperatura máxima\n",
    "                    mode = 'markers+lines', # tipo do gráfico: marcadorms em linhas\n",
    "                    name = 'Dado Real') # legenda do objeto trace: T.MAX_INMET\n",
    "\n",
    "# cria uma lista com os trace's\n",
    "data_trace = [trace1, trace2]\n",
    "\n",
    "# cria um objeto layout para por em um gráfico\n",
    "# objeto layout: informar o que está sendo apresentado no gráfico, no caso abaixo, no eixo y é a 'Temperatura °C'\n",
    "# no eixo x é informado que fica vazio, com o título do gráfico em caixa alta - comando .upper()\n",
    "# alterando as características da fonte e cor de cada trace do gráfico\n",
    "layout = go.Layout(title=\"Teste\",yaxis={'title':'Energia'},xaxis={'title': ''}, \n",
    "                    font = {'family': 'Rockwell','size': 16,'color': 'black'},\n",
    "                    colorway = ['#B22222', '#006400', '#00BFFF', '#00FF7F', '#000080', '#FF0000' ])\n",
    "\n",
    "# cria um gráfico através do objeto figure com os dados da lista com os traces e o layout acima\n",
    "fig = go.Figure(data=data_trace, layout=layout)\n",
    "\n",
    "# atualiza o gráfico, objeto figure, informando uma alteração no layout, esta alteração muda o range do eixo X,\n",
    "# o formato de como será exibido esses dados do eixo X, o tema ,a legenda e o título do gráfico.\n",
    "# seleciona o mode hovermode.\n",
    "fig.update_layout(xaxis_tickformat = '%Y',\n",
    "                    template = 'plotly_white',\n",
    "                    legend_title=\"\",\n",
    "                    legend_orientation=\"h\",\n",
    "                    legend={\n",
    "                        'x': 0.05,\n",
    "                        'y': -0.25,\n",
    "                    },\n",
    "                    title={\n",
    "                        'text': \"Figura 6.1 - Comparativo de dados reais e estimados normalizados\",\n",
    "                        'y':0.93,\n",
    "                        'x':0.5,\n",
    "                        'xanchor': 'center',\n",
    "                        'yanchor': 'top'},\n",
    "                    hovermode=(\"x unified\"))\n",
    "fig.update_yaxes(ticksuffix=\" Wh\") \n",
    "fig.update_xaxes(ticksuffix=\"\")                     # selecionando um sufixo para os dados no eixo Y\n",
    "\n",
    "# comando utilizado para adicionar uma imagem ao gráfico\n",
    "fig.add_layout_image(\n",
    "    dict(\n",
    "        source=\"https://raw.githubusercontent.com/LinconRozendo/Imagens_u/master/Multi%20Mapa/cear.png\",\n",
    "        xref=\"paper\", yref=\"paper\",\n",
    "        x=1.05, y=1.1,\n",
    "        sizex=0.2, sizey=0.2,\n",
    "        xanchor=\"right\", yanchor=\"bottom\"\n",
    "        )\n",
    "    )\n",
    "    \n",
    "# retorna a exibição do gráfico criado\n",
    "fig.show(config={'scrollZoom': True})"
   ]
  },
  {
   "cell_type": "code",
   "execution_count": 57,
   "metadata": {},
   "outputs": [
    {
     "data": {
      "application/vnd.plotly.v1+json": {
       "config": {
        "plotlyServerURL": "https://plot.ly",
        "scrollZoom": true
       },
       "data": [
        {
         "mode": "markers+lines",
         "name": "Dado Estimado",
         "type": "scatter",
         "x": [
          0,
          1,
          2,
          3,
          4,
          5,
          6,
          7,
          8,
          9,
          10,
          11,
          12,
          13,
          14,
          15,
          16,
          17,
          18,
          19,
          20,
          21,
          22,
          23,
          24,
          25,
          26,
          27,
          28,
          29,
          30,
          31,
          32,
          33,
          34,
          35,
          36,
          37,
          38,
          39,
          40,
          41,
          42,
          43,
          44,
          45,
          46,
          47,
          48,
          49,
          50,
          51,
          52,
          53,
          54,
          55,
          56,
          57,
          58,
          59,
          60,
          61,
          62,
          63,
          64,
          65,
          66,
          67,
          68,
          69,
          70,
          71,
          72,
          73,
          74,
          75,
          76,
          77,
          78,
          79,
          80,
          81,
          82,
          83,
          84,
          85,
          86,
          87,
          88,
          89,
          90,
          91,
          92,
          93,
          94,
          95,
          96,
          97,
          98,
          99,
          100,
          101,
          102,
          103,
          104,
          105,
          106,
          107,
          108,
          109,
          110,
          111,
          112,
          113,
          114,
          115,
          116,
          117,
          118,
          119,
          120,
          121,
          122,
          123,
          124,
          125,
          126,
          127,
          128,
          129,
          130,
          131,
          132,
          133,
          134,
          135,
          136,
          137,
          138,
          139,
          140,
          141,
          142,
          143,
          144,
          145,
          146,
          147,
          148,
          149,
          150,
          151,
          152,
          153,
          154,
          155,
          156,
          157,
          158,
          159,
          160,
          161,
          162,
          163,
          164,
          165,
          166,
          167,
          168,
          169,
          170,
          171,
          172,
          173,
          174,
          175,
          176,
          177,
          178,
          179,
          180,
          181,
          182,
          183,
          184,
          185,
          186,
          187,
          188,
          189,
          190,
          191,
          192,
          193,
          194,
          195,
          196,
          197,
          198,
          199,
          200,
          201,
          202,
          203,
          204,
          205,
          206,
          207,
          208,
          209,
          210,
          211,
          212,
          213,
          214,
          215,
          216,
          217,
          218,
          219,
          220,
          221,
          222,
          223,
          224,
          225,
          226,
          227,
          228,
          229,
          230,
          231,
          232,
          233,
          234,
          235,
          236,
          237,
          238,
          239,
          240,
          241,
          242,
          243,
          244,
          245,
          246,
          247,
          248,
          249,
          250,
          251,
          252,
          253,
          254,
          255,
          256,
          257,
          258,
          259,
          260,
          261,
          262,
          263,
          264,
          265,
          266,
          267,
          268,
          269,
          270,
          271,
          272,
          273,
          274,
          275,
          276
         ],
         "y": [
          14744.611328125,
          11803.041015625,
          12810.8505859375,
          14447.9013671875,
          14235.095703125,
          15177.666015625,
          13598.1689453125,
          5917.67724609375,
          8655.2265625,
          8880.8125,
          14204.3779296875,
          12488.166015625,
          14933.1328125,
          10692.6875,
          13938.4619140625,
          12796.4599609375,
          10788.79296875,
          14396.994140625,
          13290.7431640625,
          13796.0791015625,
          13186.400390625,
          13851.5146484375,
          15098.9541015625,
          8933.3291015625,
          11681.9013671875,
          14149.21484375,
          12601,
          12607.384765625,
          9215.3681640625,
          10960.8720703125,
          14336.662109375,
          15497.1376953125,
          15366.8525390625,
          14711.8271484375,
          11040.5751953125,
          14669.5185546875,
          12603.1044921875,
          11899.4833984375,
          11322.060546875,
          13730.6123046875,
          15316.67578125,
          15183.232421875,
          14760.88671875,
          13466.6728515625,
          14112.3984375,
          5766.21044921875,
          15387.2939453125,
          14983.61328125,
          12872.615234375,
          10942.6884765625,
          13698.546875,
          10107.26171875,
          15584.607421875,
          14929.2294921875,
          12701.0390625,
          14528.9130859375,
          15132.908203125,
          9668.3896484375,
          15171.267578125,
          9132.3271484375,
          14984.6806640625,
          14908.494140625,
          13941.2685546875,
          15325.1728515625,
          15323.453125,
          9403.517578125,
          7151.6005859375,
          15051.9736328125,
          13932.9599609375,
          15483.8408203125,
          13135.25390625,
          11857.1806640625,
          13564.658203125,
          13525.501953125,
          14536.525390625,
          15246.3525390625,
          14350.95703125,
          15209.3876953125,
          15332.712890625,
          14530.900390625,
          15411.3916015625,
          14090.966796875,
          1694.47705078125,
          14930.3095703125,
          15290.4208984375,
          11925.6025390625,
          9033.22265625,
          14273.2099609375,
          14964.814453125,
          15217.021484375,
          14834.4541015625,
          13493.138671875,
          14469.09765625,
          15126.8671875,
          15119.8330078125,
          14493.6591796875,
          13948.8828125,
          14959.30078125,
          15088.26953125,
          9967.6328125,
          11164.01171875,
          13258.4638671875,
          15145.451171875,
          4993.25048828125,
          15250.3154296875,
          12664.3095703125,
          15567.3798828125,
          15638.322265625,
          15503.697265625,
          15610.7333984375,
          14788.939453125,
          14467.1357421875,
          14670.4423828125,
          15197.51953125,
          14802.8564453125,
          11403.671875,
          12955.349609375,
          13501.525390625,
          15342.0048828125,
          15115.5546875,
          14485.9462890625,
          14423.4248046875,
          12040.6259765625,
          14966.8203125,
          15019.359375,
          14793.8876953125,
          14727.6953125,
          14942.3388671875,
          15031.4296875,
          11934.671875,
          14594.109375,
          6273.90966796875,
          14402.90234375,
          15474.5107421875,
          15415.984375,
          15639.353515625,
          15472.734375,
          15440.1396484375,
          15537.47265625,
          15316.1318359375,
          14660.2939453125,
          15128.662109375,
          15459.78125,
          15365.9052734375,
          15432.2919921875,
          12775.7724609375,
          15267.1455078125,
          15241.48046875,
          15318.7744140625,
          15464.0302734375,
          15323.9951171875,
          15460.8056640625,
          14398.3330078125,
          12966.3916015625,
          11440.240234375,
          14300.4267578125,
          14996.4921875,
          14912.3662109375,
          13488.3310546875,
          12944.8740234375,
          15072.455078125,
          15023.27734375,
          14167.341796875,
          13918.021484375,
          11174.0263671875,
          11697.626953125,
          9697.0712890625,
          11416.8896484375,
          14276.8837890625,
          14487.044921875,
          13039.7568359375,
          10259.4384765625,
          10531.4619140625,
          13650.3134765625,
          14716.166015625,
          14429.765625,
          13958.4482421875,
          13635.0625,
          14042.9580078125,
          13912.962890625,
          13976.1767578125,
          12592.0498046875,
          11656.4365234375,
          10303.5263671875,
          14101.466796875,
          13838.2421875,
          12365.2578125,
          13102.4462890625,
          14432.408203125,
          14467.244140625,
          13365.6201171875,
          14635.9384765625,
          14180.9892578125,
          12987.66015625,
          14210.2373046875,
          12206.5146484375,
          12969.9775390625,
          14318.9140625,
          14304.154296875,
          13227.59765625,
          13264.6142578125,
          14122.3232421875,
          12101.328125,
          14794.1572265625,
          11306.3115234375,
          13801.658203125,
          12959.689453125,
          14228.0146484375,
          12142.767578125,
          12038.9599609375,
          11251.8544921875,
          13793.8720703125,
          13876.8203125,
          14407.4677734375,
          13460.0869140625,
          11666.4921875,
          11211.6044921875,
          11937.9560546875,
          12778.9765625,
          12434.2578125,
          12713.0771484375,
          14407.310546875,
          14344.8349609375,
          12968.353515625,
          13037.8828125,
          14566.21484375,
          13596.1748046875,
          13224.224609375,
          14246.998046875,
          14420.673828125,
          13259.0771484375,
          14187.1474609375,
          12757.60546875,
          11018.5302734375,
          11911.310546875,
          8835.38671875,
          9698.51953125,
          11694.48828125,
          14440.046875,
          14835.994140625,
          13021.310546875,
          11960.345703125,
          9757.9501953125,
          9670.5029296875,
          10411.0224609375,
          12707.111328125,
          10305.9091796875,
          12487.484375,
          12548.853515625,
          12776.2763671875,
          12325.1474609375,
          11436.2353515625,
          10320.283203125,
          11699.810546875,
          11735.576171875,
          13303.37109375,
          13408.7177734375,
          14763.0234375,
          15204.3876953125,
          15182.2236328125,
          15425.4609375,
          15497.5068359375,
          14723.283203125,
          10543.4443359375,
          12515.5322265625,
          12255.25,
          13238.3857421875,
          13714.2685546875,
          14724.5458984375,
          11115.25,
          8463.1708984375,
          14275.619140625,
          14263.837890625,
          13272.7265625,
          14537.25,
          14124.6181640625,
          15759.42578125
         ]
        },
        {
         "mode": "markers+lines",
         "name": "Dado Real",
         "type": "scatter",
         "x": [
          0,
          1,
          2,
          3,
          4,
          5,
          6,
          7,
          8,
          9,
          10,
          11,
          12,
          13,
          14,
          15,
          16,
          17,
          18,
          19,
          20,
          21,
          22,
          23,
          24,
          25,
          26,
          27,
          28,
          29,
          30,
          31,
          32,
          33,
          34,
          35,
          36,
          37,
          38,
          39,
          40,
          41,
          42,
          43,
          44,
          45,
          46,
          47,
          48,
          49,
          50,
          51,
          52,
          53,
          54,
          55,
          56,
          57,
          58,
          59,
          60,
          61,
          62,
          63,
          64,
          65,
          66,
          67,
          68,
          69,
          70,
          71,
          72,
          73,
          74,
          75,
          76,
          77,
          78,
          79,
          80,
          81,
          82,
          83,
          84,
          85,
          86,
          87,
          88,
          89,
          90,
          91,
          92,
          93,
          94,
          95,
          96,
          97,
          98,
          99,
          100,
          101,
          102,
          103,
          104,
          105,
          106,
          107,
          108,
          109,
          110,
          111,
          112,
          113,
          114,
          115,
          116,
          117,
          118,
          119,
          120,
          121,
          122,
          123,
          124,
          125,
          126,
          127,
          128,
          129,
          130,
          131,
          132,
          133,
          134,
          135,
          136,
          137,
          138,
          139,
          140,
          141,
          142,
          143,
          144,
          145,
          146,
          147,
          148,
          149,
          150,
          151,
          152,
          153,
          154,
          155,
          156,
          157,
          158,
          159,
          160,
          161,
          162,
          163,
          164,
          165,
          166,
          167,
          168,
          169,
          170,
          171,
          172,
          173,
          174,
          175,
          176,
          177,
          178,
          179,
          180,
          181,
          182,
          183,
          184,
          185,
          186,
          187,
          188,
          189,
          190,
          191,
          192,
          193,
          194,
          195,
          196,
          197,
          198,
          199,
          200,
          201,
          202,
          203,
          204,
          205,
          206,
          207,
          208,
          209,
          210,
          211,
          212,
          213,
          214,
          215,
          216,
          217,
          218,
          219,
          220,
          221,
          222,
          223,
          224,
          225,
          226,
          227,
          228,
          229,
          230,
          231,
          232,
          233,
          234,
          235,
          236,
          237,
          238,
          239,
          240,
          241,
          242,
          243,
          244,
          245,
          246,
          247,
          248,
          249,
          250,
          251,
          252,
          253,
          254,
          255,
          256,
          257,
          258,
          259,
          260,
          261,
          262,
          263,
          264,
          265,
          266,
          267,
          268,
          269,
          270,
          271,
          272,
          273,
          274,
          275,
          276
         ],
         "y": [
          14625.469999999998,
          11081.029999999999,
          12138.2,
          14306.719999999998,
          13881.34,
          15438.279999999999,
          13192.989999999998,
          6568.36,
          8577.45,
          8681.23,
          13512.34,
          11559.3,
          14653.079999999998,
          10087.3,
          13189.329999999998,
          11877.64,
          10078.14,
          13910.619999999999,
          12359.399999999998,
          13263.279999999999,
          12418.16,
          12951.11,
          15114.149999999998,
          8891.95,
          10980.41,
          13585.64,
          11649.86,
          11661.149999999998,
          9142.89,
          10467.07,
          13557.419999999998,
          15576.48,
          15376.75,
          14139.369999999999,
          10303.16,
          14123.79,
          11708.14,
          11218.25,
          10711.529999999999,
          12677.66,
          15144.189999999999,
          14806.23,
          14348.759999999998,
          12505.93,
          13470.029999999999,
          6290.67,
          15675.98,
          14537.16,
          12064.369999999999,
          10445.2,
          12893.349999999999,
          9562.529999999999,
          15743.579999999998,
          14473.73,
          11718.66,
          13892.119999999999,
          14968.18,
          9326.599999999999,
          15081.009999999998,
          8964.58,
          14509.369999999999,
          14112.68,
          12880.11,
          15274.559999999998,
          15167.95,
          9083.68,
          7312.87,
          14762.3,
          12977.289999999997,
          15566.649999999998,
          12106.89,
          11151.41,
          12843.2,
          12492.439999999999,
          13738.71,
          15090.189999999999,
          13563.36,
          14896.149999999998,
          15238.669999999998,
          13734.34,
          15389.66,
          13194.43,
          2502.6400000000003,
          14724.46,
          15297.259999999998,
          11018.71,
          9090.63,
          13773.199999999997,
          14590.36,
          15080.52,
          14475.41,
          12824.349999999999,
          13952.469999999998,
          15034.529999999999,
          15007.45,
          14002.869999999999,
          13389.77,
          14826.82,
          15008.519999999997,
          9424.919999999998,
          10450.11,
          12386.149999999998,
          15247.150000000001,
          5295.78,
          15460.379999999997,
          11838.630000000001,
          15867.52,
          16160.169999999998,
          15678.739999999998,
          16033.91,
          14454.82,
          14067.399999999998,
          14398.5,
          15181.399999999998,
          14561.55,
          10598.189999999999,
          12186.73,
          12757.899999999998,
          15403.89,
          14968.169999999998,
          14126.199999999997,
          14171.599999999999,
          11445.09,
          15131.219999999998,
          15135.48,
          14628.32,
          14579.3,
          14997.239999999998,
          15171.689999999999,
          11401.93,
          14657.46,
          5848.63,
          13997.07,
          16122.09,
          16006.969999999998,
          16727.23,
          16192.98,
          16135.48,
          16440.59,
          15892.189999999999,
          14672.27,
          15570.7,
          16274.919999999998,
          15935.399999999998,
          16258.779999999999,
          12217.7,
          15864.16,
          15670.239999999998,
          15820.309999999998,
          16180,
          15720.57,
          16070.46,
          14328.439999999999,
          12623.66,
          11028.84,
          14275.939999999999,
          15235.439999999999,
          15109.34,
          13220.849999999999,
          12574.669999999998,
          15409.169999999998,
          15301.68,
          13984.469999999998,
          13787.04,
          10710.759999999998,
          11445.449999999997,
          9273.93,
          10928.899999999998,
          13967.89,
          14162.52,
          12386.599999999999,
          9973.41,
          10283.2,
          13232.09,
          14578.3,
          14193.509999999998,
          13667.96,
          13172.32,
          13734.48,
          13819.3,
          13899.25,
          12273.099999999999,
          11316.669999999998,
          10111.43,
          13959.329999999998,
          13368.36,
          11696.779999999999,
          12508.859999999997,
          14099.52,
          14158.309999999998,
          12659.919999999998,
          14477.029999999999,
          13892.64,
          12497.3,
          14104.73,
          11802.619999999999,
          12557.25,
          14194.969999999998,
          14139.189999999999,
          12832.8,
          12833.059999999998,
          13780.95,
          11535.45,
          14871.23,
          10682.52,
          13456.969999999998,
          12468.34,
          13903.169999999998,
          11631.21,
          11521.89,
          10919.059999999998,
          13392.2,
          13468.32,
          14160.119999999999,
          13017.779999999999,
          11326.75,
          10958.16,
          11551.2,
          12184.219999999998,
          11568.91,
          11923.14,
          13823.189999999999,
          13953.36,
          12482.14,
          12573.41,
          14475.66,
          13177.059999999998,
          12902.43,
          14226.68,
          14419.989999999998,
          12837,
          14162.669999999998,
          12301.66,
          10587.919999999998,
          11435.439999999999,
          8408.59,
          9461.3,
          11364.829999999998,
          14107.93,
          14770.36,
          12345.3,
          11470.009999999998,
          9640.18,
          9376.2,
          10045.23,
          12173.289999999997,
          10150.969999999998,
          11844.95,
          12122.629999999997,
          12167.419999999998,
          11709.93,
          10846.54,
          10110.84,
          11183.649999999998,
          11379.5,
          12804.14,
          13089.629999999997,
          14482.279999999999,
          15272.89,
          15286.619999999999,
          15890.95,
          16315.77,
          14893.599999999999,
          10293.34,
          12264.489999999998,
          11834.449999999997,
          12744.3,
          13325.599999999999,
          14751.130000000001,
          10585.29,
          8072.61,
          14344.8,
          13701.32,
          12527.119999999999,
          14190.329999999998,
          13645.419999999998,
          16692.07
         ]
        }
       ],
       "layout": {
        "colorway": [
         "#FF0000",
         "#000080",
         "#B22222",
         "#006400",
         "#00BFFF",
         "#00FF7F"
        ],
        "font": {
         "color": "black",
         "family": "Rockwell",
         "size": 16
        },
        "hovermode": "x unified",
        "images": [
         {
          "sizex": 0.2,
          "sizey": 0.2,
          "source": "https://raw.githubusercontent.com/LinconRozendo/Imagens_u/master/Multi%20Mapa/cear.png",
          "x": 1.05,
          "xanchor": "right",
          "xref": "paper",
          "y": 1.1,
          "yanchor": "bottom",
          "yref": "paper"
         }
        ],
        "legend": {
         "orientation": "h",
         "title": {
          "text": ""
         },
         "x": 0.05,
         "y": -0.25
        },
        "template": {
         "data": {
          "bar": [
           {
            "error_x": {
             "color": "#2a3f5f"
            },
            "error_y": {
             "color": "#2a3f5f"
            },
            "marker": {
             "line": {
              "color": "white",
              "width": 0.5
             },
             "pattern": {
              "fillmode": "overlay",
              "size": 10,
              "solidity": 0.2
             }
            },
            "type": "bar"
           }
          ],
          "barpolar": [
           {
            "marker": {
             "line": {
              "color": "white",
              "width": 0.5
             },
             "pattern": {
              "fillmode": "overlay",
              "size": 10,
              "solidity": 0.2
             }
            },
            "type": "barpolar"
           }
          ],
          "carpet": [
           {
            "aaxis": {
             "endlinecolor": "#2a3f5f",
             "gridcolor": "#C8D4E3",
             "linecolor": "#C8D4E3",
             "minorgridcolor": "#C8D4E3",
             "startlinecolor": "#2a3f5f"
            },
            "baxis": {
             "endlinecolor": "#2a3f5f",
             "gridcolor": "#C8D4E3",
             "linecolor": "#C8D4E3",
             "minorgridcolor": "#C8D4E3",
             "startlinecolor": "#2a3f5f"
            },
            "type": "carpet"
           }
          ],
          "choropleth": [
           {
            "colorbar": {
             "outlinewidth": 0,
             "ticks": ""
            },
            "type": "choropleth"
           }
          ],
          "contour": [
           {
            "colorbar": {
             "outlinewidth": 0,
             "ticks": ""
            },
            "colorscale": [
             [
              0,
              "#0d0887"
             ],
             [
              0.1111111111111111,
              "#46039f"
             ],
             [
              0.2222222222222222,
              "#7201a8"
             ],
             [
              0.3333333333333333,
              "#9c179e"
             ],
             [
              0.4444444444444444,
              "#bd3786"
             ],
             [
              0.5555555555555556,
              "#d8576b"
             ],
             [
              0.6666666666666666,
              "#ed7953"
             ],
             [
              0.7777777777777778,
              "#fb9f3a"
             ],
             [
              0.8888888888888888,
              "#fdca26"
             ],
             [
              1,
              "#f0f921"
             ]
            ],
            "type": "contour"
           }
          ],
          "contourcarpet": [
           {
            "colorbar": {
             "outlinewidth": 0,
             "ticks": ""
            },
            "type": "contourcarpet"
           }
          ],
          "heatmap": [
           {
            "colorbar": {
             "outlinewidth": 0,
             "ticks": ""
            },
            "colorscale": [
             [
              0,
              "#0d0887"
             ],
             [
              0.1111111111111111,
              "#46039f"
             ],
             [
              0.2222222222222222,
              "#7201a8"
             ],
             [
              0.3333333333333333,
              "#9c179e"
             ],
             [
              0.4444444444444444,
              "#bd3786"
             ],
             [
              0.5555555555555556,
              "#d8576b"
             ],
             [
              0.6666666666666666,
              "#ed7953"
             ],
             [
              0.7777777777777778,
              "#fb9f3a"
             ],
             [
              0.8888888888888888,
              "#fdca26"
             ],
             [
              1,
              "#f0f921"
             ]
            ],
            "type": "heatmap"
           }
          ],
          "heatmapgl": [
           {
            "colorbar": {
             "outlinewidth": 0,
             "ticks": ""
            },
            "colorscale": [
             [
              0,
              "#0d0887"
             ],
             [
              0.1111111111111111,
              "#46039f"
             ],
             [
              0.2222222222222222,
              "#7201a8"
             ],
             [
              0.3333333333333333,
              "#9c179e"
             ],
             [
              0.4444444444444444,
              "#bd3786"
             ],
             [
              0.5555555555555556,
              "#d8576b"
             ],
             [
              0.6666666666666666,
              "#ed7953"
             ],
             [
              0.7777777777777778,
              "#fb9f3a"
             ],
             [
              0.8888888888888888,
              "#fdca26"
             ],
             [
              1,
              "#f0f921"
             ]
            ],
            "type": "heatmapgl"
           }
          ],
          "histogram": [
           {
            "marker": {
             "pattern": {
              "fillmode": "overlay",
              "size": 10,
              "solidity": 0.2
             }
            },
            "type": "histogram"
           }
          ],
          "histogram2d": [
           {
            "colorbar": {
             "outlinewidth": 0,
             "ticks": ""
            },
            "colorscale": [
             [
              0,
              "#0d0887"
             ],
             [
              0.1111111111111111,
              "#46039f"
             ],
             [
              0.2222222222222222,
              "#7201a8"
             ],
             [
              0.3333333333333333,
              "#9c179e"
             ],
             [
              0.4444444444444444,
              "#bd3786"
             ],
             [
              0.5555555555555556,
              "#d8576b"
             ],
             [
              0.6666666666666666,
              "#ed7953"
             ],
             [
              0.7777777777777778,
              "#fb9f3a"
             ],
             [
              0.8888888888888888,
              "#fdca26"
             ],
             [
              1,
              "#f0f921"
             ]
            ],
            "type": "histogram2d"
           }
          ],
          "histogram2dcontour": [
           {
            "colorbar": {
             "outlinewidth": 0,
             "ticks": ""
            },
            "colorscale": [
             [
              0,
              "#0d0887"
             ],
             [
              0.1111111111111111,
              "#46039f"
             ],
             [
              0.2222222222222222,
              "#7201a8"
             ],
             [
              0.3333333333333333,
              "#9c179e"
             ],
             [
              0.4444444444444444,
              "#bd3786"
             ],
             [
              0.5555555555555556,
              "#d8576b"
             ],
             [
              0.6666666666666666,
              "#ed7953"
             ],
             [
              0.7777777777777778,
              "#fb9f3a"
             ],
             [
              0.8888888888888888,
              "#fdca26"
             ],
             [
              1,
              "#f0f921"
             ]
            ],
            "type": "histogram2dcontour"
           }
          ],
          "mesh3d": [
           {
            "colorbar": {
             "outlinewidth": 0,
             "ticks": ""
            },
            "type": "mesh3d"
           }
          ],
          "parcoords": [
           {
            "line": {
             "colorbar": {
              "outlinewidth": 0,
              "ticks": ""
             }
            },
            "type": "parcoords"
           }
          ],
          "pie": [
           {
            "automargin": true,
            "type": "pie"
           }
          ],
          "scatter": [
           {
            "fillpattern": {
             "fillmode": "overlay",
             "size": 10,
             "solidity": 0.2
            },
            "type": "scatter"
           }
          ],
          "scatter3d": [
           {
            "line": {
             "colorbar": {
              "outlinewidth": 0,
              "ticks": ""
             }
            },
            "marker": {
             "colorbar": {
              "outlinewidth": 0,
              "ticks": ""
             }
            },
            "type": "scatter3d"
           }
          ],
          "scattercarpet": [
           {
            "marker": {
             "colorbar": {
              "outlinewidth": 0,
              "ticks": ""
             }
            },
            "type": "scattercarpet"
           }
          ],
          "scattergeo": [
           {
            "marker": {
             "colorbar": {
              "outlinewidth": 0,
              "ticks": ""
             }
            },
            "type": "scattergeo"
           }
          ],
          "scattergl": [
           {
            "marker": {
             "colorbar": {
              "outlinewidth": 0,
              "ticks": ""
             }
            },
            "type": "scattergl"
           }
          ],
          "scattermapbox": [
           {
            "marker": {
             "colorbar": {
              "outlinewidth": 0,
              "ticks": ""
             }
            },
            "type": "scattermapbox"
           }
          ],
          "scatterpolar": [
           {
            "marker": {
             "colorbar": {
              "outlinewidth": 0,
              "ticks": ""
             }
            },
            "type": "scatterpolar"
           }
          ],
          "scatterpolargl": [
           {
            "marker": {
             "colorbar": {
              "outlinewidth": 0,
              "ticks": ""
             }
            },
            "type": "scatterpolargl"
           }
          ],
          "scatterternary": [
           {
            "marker": {
             "colorbar": {
              "outlinewidth": 0,
              "ticks": ""
             }
            },
            "type": "scatterternary"
           }
          ],
          "surface": [
           {
            "colorbar": {
             "outlinewidth": 0,
             "ticks": ""
            },
            "colorscale": [
             [
              0,
              "#0d0887"
             ],
             [
              0.1111111111111111,
              "#46039f"
             ],
             [
              0.2222222222222222,
              "#7201a8"
             ],
             [
              0.3333333333333333,
              "#9c179e"
             ],
             [
              0.4444444444444444,
              "#bd3786"
             ],
             [
              0.5555555555555556,
              "#d8576b"
             ],
             [
              0.6666666666666666,
              "#ed7953"
             ],
             [
              0.7777777777777778,
              "#fb9f3a"
             ],
             [
              0.8888888888888888,
              "#fdca26"
             ],
             [
              1,
              "#f0f921"
             ]
            ],
            "type": "surface"
           }
          ],
          "table": [
           {
            "cells": {
             "fill": {
              "color": "#EBF0F8"
             },
             "line": {
              "color": "white"
             }
            },
            "header": {
             "fill": {
              "color": "#C8D4E3"
             },
             "line": {
              "color": "white"
             }
            },
            "type": "table"
           }
          ]
         },
         "layout": {
          "annotationdefaults": {
           "arrowcolor": "#2a3f5f",
           "arrowhead": 0,
           "arrowwidth": 1
          },
          "autotypenumbers": "strict",
          "coloraxis": {
           "colorbar": {
            "outlinewidth": 0,
            "ticks": ""
           }
          },
          "colorscale": {
           "diverging": [
            [
             0,
             "#8e0152"
            ],
            [
             0.1,
             "#c51b7d"
            ],
            [
             0.2,
             "#de77ae"
            ],
            [
             0.3,
             "#f1b6da"
            ],
            [
             0.4,
             "#fde0ef"
            ],
            [
             0.5,
             "#f7f7f7"
            ],
            [
             0.6,
             "#e6f5d0"
            ],
            [
             0.7,
             "#b8e186"
            ],
            [
             0.8,
             "#7fbc41"
            ],
            [
             0.9,
             "#4d9221"
            ],
            [
             1,
             "#276419"
            ]
           ],
           "sequential": [
            [
             0,
             "#0d0887"
            ],
            [
             0.1111111111111111,
             "#46039f"
            ],
            [
             0.2222222222222222,
             "#7201a8"
            ],
            [
             0.3333333333333333,
             "#9c179e"
            ],
            [
             0.4444444444444444,
             "#bd3786"
            ],
            [
             0.5555555555555556,
             "#d8576b"
            ],
            [
             0.6666666666666666,
             "#ed7953"
            ],
            [
             0.7777777777777778,
             "#fb9f3a"
            ],
            [
             0.8888888888888888,
             "#fdca26"
            ],
            [
             1,
             "#f0f921"
            ]
           ],
           "sequentialminus": [
            [
             0,
             "#0d0887"
            ],
            [
             0.1111111111111111,
             "#46039f"
            ],
            [
             0.2222222222222222,
             "#7201a8"
            ],
            [
             0.3333333333333333,
             "#9c179e"
            ],
            [
             0.4444444444444444,
             "#bd3786"
            ],
            [
             0.5555555555555556,
             "#d8576b"
            ],
            [
             0.6666666666666666,
             "#ed7953"
            ],
            [
             0.7777777777777778,
             "#fb9f3a"
            ],
            [
             0.8888888888888888,
             "#fdca26"
            ],
            [
             1,
             "#f0f921"
            ]
           ]
          },
          "colorway": [
           "#636efa",
           "#EF553B",
           "#00cc96",
           "#ab63fa",
           "#FFA15A",
           "#19d3f3",
           "#FF6692",
           "#B6E880",
           "#FF97FF",
           "#FECB52"
          ],
          "font": {
           "color": "#2a3f5f"
          },
          "geo": {
           "bgcolor": "white",
           "lakecolor": "white",
           "landcolor": "white",
           "showlakes": true,
           "showland": true,
           "subunitcolor": "#C8D4E3"
          },
          "hoverlabel": {
           "align": "left"
          },
          "hovermode": "closest",
          "mapbox": {
           "style": "light"
          },
          "paper_bgcolor": "white",
          "plot_bgcolor": "white",
          "polar": {
           "angularaxis": {
            "gridcolor": "#EBF0F8",
            "linecolor": "#EBF0F8",
            "ticks": ""
           },
           "bgcolor": "white",
           "radialaxis": {
            "gridcolor": "#EBF0F8",
            "linecolor": "#EBF0F8",
            "ticks": ""
           }
          },
          "scene": {
           "xaxis": {
            "backgroundcolor": "white",
            "gridcolor": "#DFE8F3",
            "gridwidth": 2,
            "linecolor": "#EBF0F8",
            "showbackground": true,
            "ticks": "",
            "zerolinecolor": "#EBF0F8"
           },
           "yaxis": {
            "backgroundcolor": "white",
            "gridcolor": "#DFE8F3",
            "gridwidth": 2,
            "linecolor": "#EBF0F8",
            "showbackground": true,
            "ticks": "",
            "zerolinecolor": "#EBF0F8"
           },
           "zaxis": {
            "backgroundcolor": "white",
            "gridcolor": "#DFE8F3",
            "gridwidth": 2,
            "linecolor": "#EBF0F8",
            "showbackground": true,
            "ticks": "",
            "zerolinecolor": "#EBF0F8"
           }
          },
          "shapedefaults": {
           "line": {
            "color": "#2a3f5f"
           }
          },
          "ternary": {
           "aaxis": {
            "gridcolor": "#DFE8F3",
            "linecolor": "#A2B1C6",
            "ticks": ""
           },
           "baxis": {
            "gridcolor": "#DFE8F3",
            "linecolor": "#A2B1C6",
            "ticks": ""
           },
           "bgcolor": "white",
           "caxis": {
            "gridcolor": "#DFE8F3",
            "linecolor": "#A2B1C6",
            "ticks": ""
           }
          },
          "title": {
           "x": 0.05
          },
          "xaxis": {
           "automargin": true,
           "gridcolor": "#EBF0F8",
           "linecolor": "#EBF0F8",
           "ticks": "",
           "title": {
            "standoff": 15
           },
           "zerolinecolor": "#EBF0F8",
           "zerolinewidth": 2
          },
          "yaxis": {
           "automargin": true,
           "gridcolor": "#EBF0F8",
           "linecolor": "#EBF0F8",
           "ticks": "",
           "title": {
            "standoff": 15
           },
           "zerolinecolor": "#EBF0F8",
           "zerolinewidth": 2
          }
         }
        },
        "title": {
         "text": "Figura 6.2 - Comparativo de dados reais e estimados desnormalizados",
         "x": 0.5,
         "xanchor": "center",
         "y": 0.93,
         "yanchor": "top"
        },
        "xaxis": {
         "tickformat": "%Y",
         "ticksuffix": "",
         "title": {
          "text": ""
         }
        },
        "yaxis": {
         "ticksuffix": " Wh",
         "title": {
          "text": "Energia"
         }
        }
       }
      }
     },
     "metadata": {},
     "output_type": "display_data"
    }
   ],
   "source": [
    "pred_data = Denormalize(predictions,outputs['Energia (Wh) (k+1)'])\n",
    "real_data = np.array(Denormalize(output_test,outputs))\n",
    "\n",
    "trace1 = go.Scatter(x = np.arange(0, len(output_test)), # eixo x = meses da lista 'date\n",
    "                    y = pred_data[:, 0], # eixo y = temperatura máxima\n",
    "                    mode = 'markers+lines', # tipo do gráfico: marcadorms em linhas\n",
    "                    name = 'Dado Estimado') # legenda do objeto trace: T.MAX_INMET\n",
    "\n",
    "trace2 = go.Scatter(x = np.arange(0, len(saida_test)), # eixo x = meses da lista 'date\n",
    "                    y = real_data[:, 0], # eixo y = temperatura máxima\n",
    "                    mode = 'markers+lines', # tipo do gráfico: marcadorms em linhas\n",
    "                    name = 'Dado Real') # legenda do objeto trace: T.MAX_INMET\n",
    "\n",
    "# cria uma lista com os trace's\n",
    "data_trace = [trace1, trace2]\n",
    "\n",
    "# cria um objeto layout para por em um gráfico\n",
    "# objeto layout: informar o que está sendo apresentado no gráfico, no caso abaixo, no eixo y é a 'Temperatura °C'\n",
    "# no eixo x é informado que fica vazio, com o título do gráfico em caixa alta - comando .upper()\n",
    "# alterando as características da fonte e cor de cada trace do gráfico\n",
    "layout = go.Layout(title=\"Teste\",yaxis={'title':'Energia'},xaxis={'title': ''}, \n",
    "                    font = {'family': 'Rockwell','size': 16,'color': 'black'},\n",
    "                    colorway = ['#FF0000', '#000080', '#B22222', '#006400', '#00BFFF', '#00FF7F'])\n",
    "\n",
    "# cria um gráfico através do objeto figure com os dados da lista com os traces e o layout acima\n",
    "fig = go.Figure(data=data_trace, layout=layout)\n",
    "\n",
    "# atualiza o gráfico, objeto figure, informando uma alteração no layout, esta alteração muda o range do eixo X,\n",
    "# o formato de como será exibido esses dados do eixo X, o tema ,a legenda e o título do gráfico.\n",
    "# seleciona o mode hovermode.\n",
    "fig.update_layout(xaxis_tickformat = '%Y',\n",
    "                    template = 'plotly_white',\n",
    "                    legend_title=\"\",\n",
    "                    legend_orientation=\"h\",\n",
    "                    legend={\n",
    "                        'x': 0.05,\n",
    "                        'y': -0.25,\n",
    "                    },\n",
    "                    title={\n",
    "                        'text': \"Figura 6.2 - Comparativo de dados reais e estimados desnormalizados\",\n",
    "                        'y':0.93,\n",
    "                        'x':0.5,\n",
    "                        'xanchor': 'center',\n",
    "                        'yanchor': 'top'},\n",
    "                    hovermode=(\"x unified\"))\n",
    "fig.update_yaxes(ticksuffix=\" Wh\") \n",
    "fig.update_xaxes(ticksuffix=\"\")                     # selecionando um sufixo para os dados no eixo Y\n",
    "\n",
    "# comando utilizado para adicionar uma imagem ao gráfico\n",
    "fig.add_layout_image(\n",
    "    dict(\n",
    "        source=\"https://raw.githubusercontent.com/LinconRozendo/Imagens_u/master/Multi%20Mapa/cear.png\",\n",
    "        xref=\"paper\", yref=\"paper\",\n",
    "        x=1.05, y=1.1,\n",
    "        sizex=0.2, sizey=0.2,\n",
    "        xanchor=\"right\", yanchor=\"bottom\"\n",
    "        )\n",
    "    )\n",
    "    \n",
    "# retorna a exibição do gráfico criado\n",
    "fig.show(config={'scrollZoom': True})"
   ]
  }
 ],
 "metadata": {
  "kernelspec": {
   "display_name": "rocket",
   "language": "python",
   "name": "python3"
  },
  "language_info": {
   "codemirror_mode": {
    "name": "ipython",
    "version": 3
   },
   "file_extension": ".py",
   "mimetype": "text/x-python",
   "name": "python",
   "nbconvert_exporter": "python",
   "pygments_lexer": "ipython3",
   "version": "3.10.4"
  },
  "orig_nbformat": 4
 },
 "nbformat": 4,
 "nbformat_minor": 2
}
